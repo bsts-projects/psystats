{
 "cells": [
  {
   "cell_type": "markdown",
   "metadata": {},
   "source": [
    "# Proability and Samples\n",
    "\n",
    "To generate a new problem and solution, select \"*run all*\" from the __Runtime__ menu. "
   ]
  },
  {
   "cell_type": "code",
   "execution_count": 453,
   "metadata": {},
   "outputs": [],
   "source": [
    "# @title Click to hide code\n",
    "import numpy as np\n",
    "import random, math\n",
    "import matplotlib.pyplot as plt\n",
    "import scipy.stats as stats\n",
    "from IPython.display import Markdown, display\n",
    "\n",
    "\n",
    "def sample_mean_question():\n",
    "    n = random.randint(5, 25)\n",
    "    population_mean = random.randint(10, 100)\n",
    "    sd = random.randint(5, 20)\n",
    "    \n",
    "    # set the value for the sample mean to be used in the practice problem\n",
    "    multiplier = random.uniform(0, 1)\n",
    "    distance = round(sd * multiplier)\n",
    "    \n",
    "    roll = random.randint(1, 2)\n",
    "    if roll == 1:\n",
    "        dir = \"greater\"\n",
    "        sample_mean = population_mean - distance\n",
    "    elif roll == 2:\n",
    "        dir = \"less\"\n",
    "        sample_mean = population_mean + distance\n",
    "    #else: # not yet active\n",
    "        #dir = \"tbd\"\n",
    "\n",
    "    print(f\"what is the probability of obtaining a random sample (n = {n}) with a mean {dir} than {sample_mean}?\")\n",
    "\n",
    "    values = {\"n\": n, \"population_mean\": population_mean, \"sample_mean\": sample_mean, \"sd\": sd, \"roll\": roll}\n",
    "    \n",
    "    generate_plot(\"scores\", values)\n",
    "\n",
    "    return values\n",
    "\n",
    "\n",
    "# creates the plot shading the region of interest\n",
    "def generate_plot(type, data: dict): \n",
    "    if type == \"scores\":\n",
    "        variability = data[\"sd\"]\n",
    "        text = \"$\\\\sigma$\"\n",
    "        title = \"Population Distribution\"\n",
    "        axis_label = \"X\"\n",
    "    elif type == \"means\":\n",
    "        variability = data[\"sem\"]\n",
    "        text = \"$\\\\sigma_M$\"\n",
    "        title = \"Distribution of Sample Means\"\n",
    "        axis_label = \"M\"\n",
    "\n",
    "    # generate x values\n",
    "    x = np.linspace(data[\"population_mean\"] - 4*data[\"sd\"], data[\"population_mean\"] + 4*data[\"sd\"], 1000)\n",
    "\n",
    "    # generate y values\n",
    "    y = stats.norm.pdf(x, data[\"population_mean\"], variability)\n",
    "\n",
    "    plt.plot(x, y)\n",
    "    plt.axvline(x=data[\"sample_mean\"], color='b', linestyle='--', linewidth=1)\n",
    "    plt.title(f\"{title}: $\\\\mu$ = {data[\"population_mean\"]}, {text} = {variability}\")\n",
    "    plt.xlabel(f'{axis_label}')\n",
    "    plt.grid(False)\n",
    "    plt.yticks([])\n",
    "    \n",
    "    if data[\"roll\"] == 1:\n",
    "         plt.fill_between(x, y, where=(x >= data[\"sample_mean\"]), color='skyblue', alpha=0.5)\n",
    "    elif data[\"roll\"] == 2:\n",
    "         plt.fill_between(x, y, where=(x <= data[\"sample_mean\"]), color='skyblue', alpha=0.5)\n",
    "    #else:\n",
    "        #vals = sorted([data[4], data[5]])\n",
    "        #plt.fill_between(x, y, where=(x >= vals[0]) & (x <= vals[1]), color='skyblue', alpha=0.5)\n",
    "      \n",
    "    plt.show()\n",
    "\n",
    "\n",
    "def standard_error(data: dict):\n",
    "    n = data[\"n\"]\n",
    "    sd = data[\"sd\"]\n",
    "    sem = round(sd/(round(math.sqrt(n),2)),2)\n",
    "\n",
    "    print(\"formula for the calculating the standard error:\")\n",
    "    display(Markdown(f\"$\\\\sigma_M = \\\\frac{{\\\\sigma}}{{\\\\sqrt{{N}}}}$\"))\n",
    "    print(\"values necessary to solve equation:\")\n",
    "    display(Markdown(f\"$\\\\sigma = {{{sd}}}$\"))\n",
    "    display(Markdown(f\"$n = {{{n}}}$\"))\n",
    "    display(Markdown(f\"solve for $\\\\sigma^2:$\"))\n",
    "    display(Markdown(f\"$\\\\sigma_M = \\\\frac{{{sd}}}{{\\\\sqrt{n}}}$\"))\n",
    "    display(Markdown(f\"$\\\\sigma_M = \\\\frac{{{sd}}}{{{round(math.sqrt(n),2)}}}$\"))\n",
    "    display(Markdown(f\"$\\\\sigma_M = {{{sem}}}$\"))\n",
    "\n",
    "    data[\"sem\"] = sem\n",
    "    return data\n",
    "\n",
    "\n",
    "def z_score(data: dict):\n",
    "    sample_mean = data[\"sample_mean\"]\n",
    "    population_mean = data[\"population_mean\"]\n",
    "    standard_error = data[\"sem\"]\n",
    "    z = round(((sample_mean - population_mean)/standard_error),2)\n",
    "\n",
    "    print(\"formula for the calculating z-score:\")\n",
    "    display(Markdown(f\"$ z = \\\\frac{{M - \\\\mu}}{{\\\\sigma_M}}$\"))\n",
    "\n",
    "    print(\"values necessary to solve equation:\")\n",
    "    display(Markdown(f\"$M = {{{sample_mean}}}$\"))\n",
    "    display(Markdown(f\"$\\\\mu = {{{population_mean}}}$\"))\n",
    "    display(Markdown(f\"$\\\\sigma_M = {{{standard_error}}}$\"))\n",
    "\n",
    "    display(Markdown(f\"solve for $z$\"))\n",
    "    display(Markdown(f\"$ z = \\\\frac{{{sample_mean} - {population_mean}}}{{{standard_error}}}$\"))\n",
    "    display(Markdown(f\"$ z = \\\\frac{{{sample_mean - population_mean}}}{{{standard_error}}}$\"))\n",
    "    display(Markdown(f\"$ z = {{{z}}}$\"))\n",
    "\n",
    "    data[\"z\"] = z\n",
    "    return data\n",
    "\n",
    "\n",
    "# displays the solution for the primary question - p(x/z > value) \n",
    "def problem_solution(data: dict):\n",
    "    \n",
    "    if data[\"roll\"] == 1:\n",
    "        answer = 1 - round(stats.norm.cdf(data[\"z\"]), 4)\n",
    "        text = f\"p(M > {data[\"population_mean\"]}) = {round(answer, 4)}\"\n",
    "    elif data[\"roll\"] == 2:\n",
    "        answer = round(stats.norm.cdf(data[\"z\"]), 4)\n",
    "        text = f\"p(M < {data[\"population_mean\"]}) = {round(answer, 4)}\"\n",
    "    #else:\n",
    "        #zvals = sorted([data[3], data[4]])\n",
    "        #xvals = sorted([data[1], data[2]])\n",
    "        #answer = round(stats.norm.cdf(zvals[1]), 4) - round(stats.norm.cdf(zvals[0]), 4)\n",
    "        #text = f\"p({xvals[0]} < {qtype} < {xvals[1]}) = {round(answer, 4)}\"\n",
    "    \n",
    "    print(text)"
   ]
  },
  {
   "cell_type": "code",
   "execution_count": 454,
   "metadata": {},
   "outputs": [
    {
     "name": "stdout",
     "output_type": "stream",
     "text": [
      "what is the probability of obtaining a random sample (n = 16) with a mean less than 84?\n"
     ]
    },
    {
     "data": {
      "image/png": "[encoded data removed]",
      "text/plain": [
       "<Figure size 640x480 with 1 Axes>"
      ]
     },
     "metadata": {},
     "output_type": "display_data"
    }
   ],
   "source": [
    "question = sample_mean_question()"
   ]
  },
  {
   "cell_type": "markdown",
   "metadata": {},
   "source": [
    "We need the use the distribution of sample means.  The first step is to calculate the standard error of the mean."
   ]
  },
  {
   "cell_type": "code",
   "execution_count": 455,
   "metadata": {},
   "outputs": [
    {
     "name": "stdout",
     "output_type": "stream",
     "text": [
      "formula for the calculating the standard error:\n"
     ]
    },
    {
     "data": {
      "text/markdown": [
       "$\\sigma_M = \\frac{\\sigma}{\\sqrt{N}}$"
      ],
      "text/plain": [
       "<IPython.core.display.Markdown object>"
      ]
     },
     "metadata": {},
     "output_type": "display_data"
    },
    {
     "name": "stdout",
     "output_type": "stream",
     "text": [
      "values necessary to solve equation:\n"
     ]
    },
    {
     "data": {
      "text/markdown": [
       "$\\sigma = {9}$"
      ],
      "text/plain": [
       "<IPython.core.display.Markdown object>"
      ]
     },
     "metadata": {},
     "output_type": "display_data"
    },
    {
     "data": {
      "text/markdown": [
       "$n = {16}$"
      ],
      "text/plain": [
       "<IPython.core.display.Markdown object>"
      ]
     },
     "metadata": {},
     "output_type": "display_data"
    },
    {
     "data": {
      "text/markdown": [
       "solve for $\\sigma^2:$"
      ],
      "text/plain": [
       "<IPython.core.display.Markdown object>"
      ]
     },
     "metadata": {},
     "output_type": "display_data"
    },
    {
     "data": {
      "text/markdown": [
       "$\\sigma_M = \\frac{9}{\\sqrt16}$"
      ],
      "text/plain": [
       "<IPython.core.display.Markdown object>"
      ]
     },
     "metadata": {},
     "output_type": "display_data"
    },
    {
     "data": {
      "text/markdown": [
       "$\\sigma_M = \\frac{9}{4.0}$"
      ],
      "text/plain": [
       "<IPython.core.display.Markdown object>"
      ]
     },
     "metadata": {},
     "output_type": "display_data"
    },
    {
     "data": {
      "text/markdown": [
       "$\\sigma_M = {2.25}$"
      ],
      "text/plain": [
       "<IPython.core.display.Markdown object>"
      ]
     },
     "metadata": {},
     "output_type": "display_data"
    }
   ],
   "source": [
    "question = standard_error(question)"
   ]
  },
  {
   "cell_type": "code",
   "execution_count": 456,
   "metadata": {},
   "outputs": [
    {
     "data": {
      "image/png": "[encoded data removed]",
      "text/plain": [
       "<Figure size 640x480 with 1 Axes>"
      ]
     },
     "metadata": {},
     "output_type": "display_data"
    }
   ],
   "source": [
    "generate_plot(\"means\", question)"
   ]
  },
  {
   "cell_type": "markdown",
   "metadata": {},
   "source": [
    "Now that we have the distribution of sample means, calculate the *z*-score for our sample mean"
   ]
  },
  {
   "cell_type": "code",
   "execution_count": 457,
   "metadata": {},
   "outputs": [
    {
     "name": "stdout",
     "output_type": "stream",
     "text": [
      "formula for the calculating z-score:\n"
     ]
    },
    {
     "data": {
      "text/markdown": [
       "$ z = \\frac{M - \\mu}{\\sigma_M}$"
      ],
      "text/plain": [
       "<IPython.core.display.Markdown object>"
      ]
     },
     "metadata": {},
     "output_type": "display_data"
    },
    {
     "name": "stdout",
     "output_type": "stream",
     "text": [
      "values necessary to solve equation:\n"
     ]
    },
    {
     "data": {
      "text/markdown": [
       "$M = {84}$"
      ],
      "text/plain": [
       "<IPython.core.display.Markdown object>"
      ]
     },
     "metadata": {},
     "output_type": "display_data"
    },
    {
     "data": {
      "text/markdown": [
       "$\\mu = {79}$"
      ],
      "text/plain": [
       "<IPython.core.display.Markdown object>"
      ]
     },
     "metadata": {},
     "output_type": "display_data"
    },
    {
     "data": {
      "text/markdown": [
       "$\\sigma_M = {2.25}$"
      ],
      "text/plain": [
       "<IPython.core.display.Markdown object>"
      ]
     },
     "metadata": {},
     "output_type": "display_data"
    },
    {
     "data": {
      "text/markdown": [
       "solve for $z$"
      ],
      "text/plain": [
       "<IPython.core.display.Markdown object>"
      ]
     },
     "metadata": {},
     "output_type": "display_data"
    },
    {
     "data": {
      "text/markdown": [
       "$ z = \\frac{84 - 79}{2.25}$"
      ],
      "text/plain": [
       "<IPython.core.display.Markdown object>"
      ]
     },
     "metadata": {},
     "output_type": "display_data"
    },
    {
     "data": {
      "text/markdown": [
       "$ z = \\frac{5}{2.25}$"
      ],
      "text/plain": [
       "<IPython.core.display.Markdown object>"
      ]
     },
     "metadata": {},
     "output_type": "display_data"
    },
    {
     "data": {
      "text/markdown": [
       "$ z = {2.22}$"
      ],
      "text/plain": [
       "<IPython.core.display.Markdown object>"
      ]
     },
     "metadata": {},
     "output_type": "display_data"
    }
   ],
   "source": [
    "question = z_score(question)"
   ]
  },
  {
   "cell_type": "markdown",
   "metadata": {},
   "source": [
    "Using the Unit Normal Table, look up the correct proportion..."
   ]
  },
  {
   "cell_type": "code",
   "execution_count": 458,
   "metadata": {},
   "outputs": [
    {
     "name": "stdout",
     "output_type": "stream",
     "text": [
      "p(M < 79) = 0.9868\n"
     ]
    }
   ],
   "source": [
    "problem_solution(question)"
   ]
  }
 ],
 "metadata": {
  "kernelspec": {
   "display_name": "base",
   "language": "python",
   "name": "python3"
  },
  "language_info": {
   "codemirror_mode": {
    "name": "ipython",
    "version": 3
   },
   "file_extension": ".py",
   "mimetype": "text/x-python",
   "name": "python",
   "nbconvert_exporter": "python",
   "pygments_lexer": "ipython3",
   "version": "3.12.7"
  }
 },
 "nbformat": 4,
 "nbformat_minor": 2
}
