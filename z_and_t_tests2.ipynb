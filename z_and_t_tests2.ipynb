{
  "cells": [
    {
      "cell_type": "markdown",
      "metadata": {
        "id": "view-in-github",
        "colab_type": "text"
      },
      "source": [
        "<a href=\"https://colab.research.google.com/github/bsts-projects/psystats/blob/main/z_and_t_tests2.ipynb\" target=\"_parent\"><img src=\"https://colab.research.google.com/assets/colab-badge.svg\" alt=\"Open In Colab\"/></a>"
      ]
    },
    {
      "cell_type": "markdown",
      "metadata": {
        "id": "JH_hCABm8QVE"
      },
      "source": [
        "# Hypothesis Testing with *z*-scores and *t*-tests\n"
      ]
    },
    {
      "cell_type": "markdown",
      "metadata": {
        "id": "uKIpdDfH8QVF"
      },
      "source": [
        "## *z*-test\n",
        "\n",
        "conducting a *z*-test.  Groups needs to be set to 1.  The value for n can be any integer (whole number)"
      ]
    },
    {
      "cell_type": "code",
      "execution_count": null,
      "metadata": {
        "id": "FIRNK2308QVF"
      },
      "outputs": [],
      "source": [
        "from stats_project import RandomData\n",
        "RandomData(groups = 1, n = 10).z_test()"
      ]
    },
    {
      "cell_type": "markdown",
      "metadata": {
        "id": "JxNxs4K_8QVG"
      },
      "source": [
        "## One-Sample *t*-test\n",
        "\n",
        "conducting a *t*-test with one sample.  Groups needs to be set to 1.  The value for n can be any integer (whole number)"
      ]
    },
    {
      "cell_type": "code",
      "execution_count": null,
      "metadata": {
        "id": "FwTZ34bc8QVG"
      },
      "outputs": [],
      "source": [
        "from stats_project import RandomData\n",
        "RandomData(groups = 1, n = 10).one_sample_t_test()"
      ]
    },
    {
      "cell_type": "markdown",
      "metadata": {
        "id": "sxqsFU9I8QVG"
      },
      "source": [
        "## Independent-Samples *t*-test\n",
        "\n",
        "conducting a *t*-test with two independent samples.  Groups needs to be set to 2.  The value for n can be any integer (whole number)"
      ]
    },
    {
      "cell_type": "code",
      "execution_count": null,
      "metadata": {
        "id": "t3WwhWpt8QVG"
      },
      "outputs": [],
      "source": [
        "from stats_project import RandomData\n",
        "RandomData(groups = 2, n = 10).independent_samples_t_test()"
      ]
    },
    {
      "cell_type": "markdown",
      "metadata": {
        "id": "9nDEDpV98QVG"
      },
      "source": [
        "## Dependent-Samples *t*-test\n",
        "\n",
        "conducting a *t*-test with two dependent samples.  Groups needs to be set to 2.  The value for n can be any integer (whole number)"
      ]
    },
    {
      "cell_type": "code",
      "execution_count": null,
      "metadata": {
        "id": "azZ0HK-y8QVH"
      },
      "outputs": [],
      "source": [
        "from stats_project import RandomData\n",
        "RandomData(groups = 2, n = 10).dependent_samples_t_test()"
      ]
    }
  ],
  "metadata": {
    "kernelspec": {
      "display_name": "base",
      "language": "python",
      "name": "python3"
    },
    "language_info": {
      "codemirror_mode": {
        "name": "ipython",
        "version": 3
      },
      "file_extension": ".py",
      "mimetype": "text/x-python",
      "name": "python",
      "nbconvert_exporter": "python",
      "pygments_lexer": "ipython3",
      "version": "3.12.7"
    },
    "colab": {
      "provenance": [],
      "include_colab_link": true
    }
  },
  "nbformat": 4,
  "nbformat_minor": 0
}