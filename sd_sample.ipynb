{
 "cells": [
  {
   "cell_type": "markdown",
   "metadata": {},
   "source": [
    "# Standard Deviation (Sample) Practice Problems\n",
    "\n",
    "To generate a new problem and solution, select \"*run all*\" from the __Runtime__ menu. "
   ]
  },
  {
   "cell_type": "code",
   "execution_count": null,
   "metadata": {},
   "outputs": [],
   "source": [
    "# @title Click to hide code\n",
    "import numpy as np\n",
    "import pandas as pd\n",
    "import random\n",
    "from IPython.display import Markdown, display\n",
    "import math\n",
    "\n",
    "# set the values for generating the sample dataset\n",
    "mean = random.sample(range(5, 16), 1)\n",
    "std_dev = random.sample(range(1, 9), 1)\n",
    "sample_size = random.sample(range(4, 9), 1)\n",
    "\n",
    "# generate the sample based on the above values\n",
    "samples = np.random.normal(mean, std_dev, sample_size)\n",
    "\n",
    "# round the data so it only includes whole numbers\n",
    "sample = np.round(samples).astype(int)\n",
    "\n",
    "# convert to a dataframe to display the data\n",
    "df = pd.DataFrame(sample, columns=['X'])\n",
    "\n",
    "# function for calculating the standard deviation.\n",
    "def standard_deviation(data: list):\n",
    "    sum_x = sum(map(lambda x: x, data))\n",
    "    sum_squared_x = sum(map(lambda x: x ** 2, data))\n",
    "    sum_x_squared = sum_x ** 2\n",
    "    n = len(data)\n",
    "    \n",
    "    ss = sum_squared_x - round(sum_x_squared/n, 2)\n",
    "\n",
    "    variance = round(ss, 2) / n\n",
    "\n",
    "    sd = round(math.sqrt(variance), 2)\n",
    "    \n",
    "    # return a list of values for each step in the calculation, rounded to 2 decimal places\n",
    "    return [sum_squared_x, sum_x_squared, n, round(ss, 2), round(variance, 2), round(sd, 2)]\n",
    "\n",
    "values = standard_deviation(sample)"
   ]
  },
  {
   "cell_type": "code",
   "execution_count": 94,
   "metadata": {},
   "outputs": [
    {
     "name": "stdout",
     "output_type": "stream",
     "text": [
      " X\n",
      "14\n",
      "11\n",
      "12\n",
      "10\n",
      "12\n",
      "13\n"
     ]
    }
   ],
   "source": [
    "print(df.to_string(index=False))"
   ]
  },
  {
   "cell_type": "markdown",
   "metadata": {},
   "source": [
    "## Calculate the SS (sum of the squared deviations)"
   ]
  },
  {
   "cell_type": "code",
   "execution_count": 95,
   "metadata": {},
   "outputs": [
    {
     "data": {
      "text/markdown": [
       "$ SS = \\Sigma x^2 - \\frac{(\\Sigma x)^2}{N}$"
      ],
      "text/plain": [
       "<IPython.core.display.Markdown object>"
      ]
     },
     "metadata": {},
     "output_type": "display_data"
    }
   ],
   "source": [
    "display(Markdown(f\"\"\"$ SS = \\\\Sigma x^2 - \\\\frac{{(\\\\Sigma x)^2}}{{N}}$\"\"\"))"
   ]
  },
  {
   "cell_type": "code",
   "execution_count": 96,
   "metadata": {},
   "outputs": [
    {
     "data": {
      "text/markdown": [
       "$\\Sigma x^2 = {874}$"
      ],
      "text/plain": [
       "<IPython.core.display.Markdown object>"
      ]
     },
     "metadata": {},
     "output_type": "display_data"
    }
   ],
   "source": [
    "display(Markdown(f\"\"\"$\\\\Sigma x^2 = {{{values[0]}}}$\"\"\"))"
   ]
  },
  {
   "cell_type": "code",
   "execution_count": 97,
   "metadata": {},
   "outputs": [
    {
     "data": {
      "text/markdown": [
       "$(\\Sigma x)^2 = {5184}$"
      ],
      "text/plain": [
       "<IPython.core.display.Markdown object>"
      ]
     },
     "metadata": {},
     "output_type": "display_data"
    }
   ],
   "source": [
    "display(Markdown(f\"\"\"$(\\\\Sigma x)^2 = {{{values[1]}}}$\"\"\"))"
   ]
  },
  {
   "cell_type": "code",
   "execution_count": 98,
   "metadata": {},
   "outputs": [
    {
     "data": {
      "text/markdown": [
       "$N = {6}$"
      ],
      "text/plain": [
       "<IPython.core.display.Markdown object>"
      ]
     },
     "metadata": {},
     "output_type": "display_data"
    }
   ],
   "source": [
    "display(Markdown(f\"\"\"$N = {{{values[2]}}}$\"\"\"))"
   ]
  },
  {
   "cell_type": "code",
   "execution_count": 99,
   "metadata": {},
   "outputs": [
    {
     "data": {
      "text/markdown": [
       "$SS = {874} - \\frac{5184}{6}$"
      ],
      "text/plain": [
       "<IPython.core.display.Markdown object>"
      ]
     },
     "metadata": {},
     "output_type": "display_data"
    }
   ],
   "source": [
    "display(Markdown(f\"\"\"$SS = {{{values[0]}}} - \\\\frac{{{values[1]}}}{{{values[2]}}}$\"\"\"))"
   ]
  },
  {
   "cell_type": "code",
   "execution_count": 100,
   "metadata": {},
   "outputs": [
    {
     "data": {
      "text/markdown": [
       "$SS = {874} - {864.0}$"
      ],
      "text/plain": [
       "<IPython.core.display.Markdown object>"
      ]
     },
     "metadata": {},
     "output_type": "display_data"
    }
   ],
   "source": [
    "display(Markdown(f\"\"\"$SS = {{{values[0]}}} - {{{round(values[1]/values[2], 2)}}}$\"\"\"))"
   ]
  },
  {
   "cell_type": "code",
   "execution_count": 101,
   "metadata": {},
   "outputs": [
    {
     "data": {
      "text/markdown": [
       "$SS = {10.0}$"
      ],
      "text/plain": [
       "<IPython.core.display.Markdown object>"
      ]
     },
     "metadata": {},
     "output_type": "display_data"
    }
   ],
   "source": [
    "display(Markdown(f\"\"\"$SS = {{{values[3]}}}$\"\"\"))"
   ]
  },
  {
   "cell_type": "markdown",
   "metadata": {},
   "source": [
    "## Calculate the Variance"
   ]
  },
  {
   "cell_type": "code",
   "execution_count": 102,
   "metadata": {},
   "outputs": [
    {
     "data": {
      "text/markdown": [
       "$s^2 = \\frac{SS}{n - 1}$"
      ],
      "text/plain": [
       "<IPython.core.display.Markdown object>"
      ]
     },
     "metadata": {},
     "output_type": "display_data"
    }
   ],
   "source": [
    "display(Markdown(f\"\"\"$s^2 = \\\\frac{{SS}}{{n - 1}}$\"\"\"))"
   ]
  },
  {
   "cell_type": "code",
   "execution_count": 103,
   "metadata": {},
   "outputs": [
    {
     "data": {
      "text/markdown": [
       "$s^2 = \\frac{10.0}{5}$"
      ],
      "text/plain": [
       "<IPython.core.display.Markdown object>"
      ]
     },
     "metadata": {},
     "output_type": "display_data"
    }
   ],
   "source": [
    "display(Markdown(f\"\"\"$s^2 = \\\\frac{{{values[3]}}}{{{(values[2]) - 1}}}$\"\"\"))"
   ]
  },
  {
   "cell_type": "code",
   "execution_count": 104,
   "metadata": {},
   "outputs": [
    {
     "data": {
      "text/markdown": [
       "$s^2 = {1.67}$"
      ],
      "text/plain": [
       "<IPython.core.display.Markdown object>"
      ]
     },
     "metadata": {},
     "output_type": "display_data"
    }
   ],
   "source": [
    "display(Markdown(f\"\"\"$s^2 = {{{values[4]}}}$\"\"\"))"
   ]
  },
  {
   "cell_type": "markdown",
   "metadata": {},
   "source": [
    "## Calculate the Standard Deviation"
   ]
  },
  {
   "cell_type": "code",
   "execution_count": 105,
   "metadata": {},
   "outputs": [
    {
     "data": {
      "text/markdown": [
       "$s = \\sqrt{s^2}$"
      ],
      "text/plain": [
       "<IPython.core.display.Markdown object>"
      ]
     },
     "metadata": {},
     "output_type": "display_data"
    }
   ],
   "source": [
    "display(Markdown(f\"\"\"$s = \\\\sqrt{{s^2}}$\"\"\"))"
   ]
  },
  {
   "cell_type": "code",
   "execution_count": 106,
   "metadata": {},
   "outputs": [
    {
     "data": {
      "text/markdown": [
       "$s = \\sqrt{1.67}$"
      ],
      "text/plain": [
       "<IPython.core.display.Markdown object>"
      ]
     },
     "metadata": {},
     "output_type": "display_data"
    }
   ],
   "source": [
    "display(Markdown(f\"\"\"$s = \\\\sqrt{{{values[4]}}}$\"\"\"))"
   ]
  },
  {
   "cell_type": "code",
   "execution_count": 107,
   "metadata": {},
   "outputs": [
    {
     "data": {
      "text/markdown": [
       "$s = {1.29}$"
      ],
      "text/plain": [
       "<IPython.core.display.Markdown object>"
      ]
     },
     "metadata": {},
     "output_type": "display_data"
    }
   ],
   "source": [
    "display(Markdown(f\"\"\"$s = {{{values[5]}}}$\"\"\"))"
   ]
  }
 ],
 "metadata": {
  "kernelspec": {
   "display_name": "base",
   "language": "python",
   "name": "python3"
  },
  "language_info": {
   "codemirror_mode": {
    "name": "ipython",
    "version": 3
   },
   "file_extension": ".py",
   "mimetype": "text/x-python",
   "name": "python",
   "nbconvert_exporter": "python",
   "pygments_lexer": "ipython3",
   "version": "3.12.7"
  }
 },
 "nbformat": 4,
 "nbformat_minor": 2
}
