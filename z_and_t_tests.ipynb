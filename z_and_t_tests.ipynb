{
 "cells": [
  {
   "cell_type": "markdown",
   "metadata": {},
   "source": [
    "# Hypothesis Testing with *z*-scores and *t*-tests\n"
   ]
  },
  {
   "cell_type": "markdown",
   "metadata": {},
   "source": [
    "The first block of code must be run before anything else.  It only needs to be run once each time you use the website.  It loads the class and class functions necessary to generate the practice problems.  You can hide the first block (it is long)"
   ]
  },
  {
   "cell_type": "code",
   "execution_count": 10,
   "metadata": {},
   "outputs": [],
   "source": [
    "import numpy as np\n",
    "import pandas as pd\n",
    "import random, math\n",
    "from scipy import stats\n",
    "from IPython.display import Markdown, display\n",
    "\n",
    "class RandomData():\n",
    "    def __init__(self, groups = 1, n = 10, distribution = \"normal\"):\n",
    "        self.groups = groups\n",
    "        self.n = n # TODO add option for unequal sample sizes.\n",
    "        self.df = self.generate_data()\n",
    "        self.ss = self.sum_of_squares()\n",
    "        self.means = self.group_means()\n",
    "        self.var = self.variance()\n",
    "        self.std = self.stdev()\n",
    "        self.test = \"\" # value is set when a stats function is called\n",
    "        self.alpha = self.set_alpha()\n",
    "        self.tails = self.set_tails()\n",
    "        self.null = int\n",
    "        self.obt = float\n",
    "        self.effect_size = float\n",
    "        self.crit_values = {}; dict\n",
    "        self.significance = bool\n",
    "        if distribution == \"normal\":\n",
    "            self.distribution = distribution \n",
    "        else:\n",
    "            raise ValueError(\"only the normal distribution is currently supported\")\n",
    "            # TODO add the ability to generate data from other distribuions\n",
    "\n",
    "\n",
    "    def set_alpha(self):\n",
    "        self.alpha = random.choice([0.05, 0.01])\n",
    "        return self.alpha\n",
    "        \n",
    "    \n",
    "    def set_tails(self):\n",
    "        self.tails = random.choice([1, 2])\n",
    "        return self.tails\n",
    "            \n",
    "\n",
    "    def generate_data(self):\n",
    "        self.df = pd.DataFrame()\n",
    "        # create data for each group and add it to the dataframe\n",
    "        for group in range(self.groups):\n",
    "            mean = random.randint(10, 100)\n",
    "            sd = mean * random.uniform(0.05, 0.50)\n",
    "\n",
    "            # generate the sample based on the above values\n",
    "            samples = np.random.normal(mean, sd, self.n)\n",
    "\n",
    "            # round the data so it only includes whole numbers\n",
    "            sample = np.round(samples).astype(int)\n",
    "\n",
    "            # convert to a dataframe to display the data\n",
    "            self.df[f'{group}'] = sample\n",
    "        return self.df\n",
    "    \n",
    "\n",
    "    def generate_question(self):\n",
    "        # determine the test type\n",
    "        if self.tails == 2:\n",
    "            text = \"significantly different from\"\n",
    "        elif self.tails == 1:\n",
    "            if self.crit_values[\"direction\"] == \"increase\" :\n",
    "                text = \"significantly greater than\"\n",
    "            elif self.crit_values[\"direction\"] == \"decrease\":\n",
    "                text = \"significantly less than\"\n",
    "            else:\n",
    "                return ValueError(\"direction error for generating question\")\n",
    "        else:\n",
    "            return ValueError(\"tails error for question generation\")    \n",
    "        \n",
    "        if self.test == \"z\":\n",
    "            display(Markdown(f\"Given the following data, is the mean of $Group_0$ {text} ${{{self.null}}}$?  Use a ${{{self.tails}}}$ tailed-test with $\\\\alpha = {{{self.alpha}}}$\"))\n",
    "            display(Markdown(f\"$M_0 = {{{self.means[0]}}}$\"))\n",
    "            display(Markdown(f\"$ {{\\\\sigma_0}} = {{{round(self.df['0'].std(ddof = 0), 2)}}}$\"))\n",
    "            display(Markdown(f\"$ n = {{{len(self.df['0'])}}}$\"))\n",
    "        elif self.test == \"one-sample t-test\":\n",
    "            display(Markdown(f\"Given the following data, is the mean of $Group_0$ {text} ${{{self.null}}}$?  Use a ${{{self.tails}}}$ tailed-test with $\\\\alpha = {{{self.alpha}}}$\"))\n",
    "            display(Markdown(f\"$M_0 = {{{self.means[0]}}}$\"))\n",
    "            display(Markdown(f\"$s^2 = {{{self.var[0]}}}$\"))\n",
    "            display(Markdown(f\"$ n = {{{len(self.df['0'])}}}$\"))\n",
    "        elif self.test == \"independent-samples t-test\":\n",
    "            display(Markdown(f\"Given the following between-subjects data, is the mean of $Group_0$ {text} the mean of $Group_1$?  Use a ${{{self.tails}}}$ tailed-test with $\\\\alpha = {{{self.alpha}}}$\"))\n",
    "            display(Markdown(f\"$M_0 = {{{self.means[0]}}}, M_1 = {{{self.means[1]}}}$\"))\n",
    "            display(Markdown(f\"$SS_0 = {{{self.ss[0]}}}, SS_1 = {{{self.ss[1]}}}$\"))\n",
    "            display(Markdown(f\"$ n_0 = {{{len(self.df['0'])}}}, n_1 = {{{len(self.df['1'])}}}$\"))\n",
    "        elif self.test == \"dependent-samples t-test\":\n",
    "            display(Markdown(f\"Given the following within-subjects data, is $M_D$ {text} ${{{self.null}}}$?  Use a ${{{self.tails}}}$ tailed-test with $\\\\alpha = {{{self.alpha}}}$\"))\n",
    "            display(Markdown(f\"$M_0 = {{{self.means[0]}}}, M_1 = {{{self.means[1]}}}$\"))\n",
    "            display(Markdown(f\"$ n = {{{len(self.df['0'])}}}$\"))\n",
    "        else:\n",
    "            return ValueError(\"test-type specification error in question geneneration\")\n",
    "       \n",
    "        print(self.df)\n",
    "        \n",
    "\n",
    "    def final_decision(self):\n",
    "        if self.tails == 2:\n",
    "            if self.obt > self.crit_values[\"positive\"] or self.obt < self.crit_values[\"negative\"]:\n",
    "                self.significance = True\n",
    "            else:\n",
    "                self.significance = False\n",
    "        elif self.tails == 1:\n",
    "            if self.crit_values[\"direction\"] == \"increase\" and self.obt > self.crit_values[\"positive\"]:\n",
    "                self.significance = True\n",
    "            elif self.crit_values[\"direction\"] == \"decrease\" and self.obt < self.crit_values[\"negative\"]:\n",
    "                self.significance = True\n",
    "            else:\n",
    "                self.significance = False\n",
    "        else:\n",
    "            return ValueError(\"error in tails specification for final decision\")\n",
    "        \n",
    "        return self.significance \n",
    "    \n",
    "\n",
    "    def write_result(self):\n",
    "        # TODO add more elaborate functionality for the results\n",
    "        if self.test in [\"independent-samples t-test\", \"one-sample t-test\", \"dependent-samples t-test\"]:\n",
    "            # print the critical value for the test\n",
    "            if self.tails == 2:\n",
    "                display(Markdown(f\"$t_{{crit}} = \\\\pm{{{self.crit_values['positive']}}}, \\\\alpha_{{two-tailed}} = {{{self.alpha}}}, df = {{{self.crit_values['degf']}}}$\"))\n",
    "            elif self.tails == 1 and self.crit_values[\"direction\"] == \"increase\":\n",
    "                display(Markdown(f\"$t_{{crit}} = +{{{self.crit_values['positive']}}}, \\\\alpha_{{one-tailed}} = {{{self.alpha}}}, df = {{{self.crit_values['degf']}}}$\"))\n",
    "            elif self.tails == 1 and self.crit_values[\"direction\"] == \"decrease\":\n",
    "                display(Markdown(f\"$t_{{crit}} = {{{self.crit_values['negative']}}}, \\\\alpha_{{one-tailed}} = {{{self.alpha}}}, df = {{{self.crit_values['degf']}}}$\"))\n",
    "            else:\n",
    "                return ValueError(\"tails error in writing results\")\n",
    "            # determine significance\n",
    "            if self.significance:\n",
    "                print(f\"reject the null hypothesis, results are significant, t({self.crit_values['degf']}) = {self.obt}, p < {self.alpha}, d = {self.effect_size}\")\n",
    "            elif not self.significance:\n",
    "                print(f\"fail to reject the null hypothesis, results not significant, t({self.crit_values['degf']}) = {self.obt}, p > {self.alpha}, d = {self.effect_size}\")\n",
    "            else:\n",
    "                return ValueError(\"significance boolean error in writing results\")\n",
    "        elif self.test == \"z\":\n",
    "            # print the critical value of t\n",
    "            if self.tails == 2:\n",
    "                display(Markdown(f\"$z_{{crit}} = \\\\pm{{{self.crit_values['positive']}}}, \\\\alpha_{{two-tailed}} = {{{self.alpha}}}$\"))\n",
    "            elif self.tails == 1 and self.crit_values[\"direction\"] == \"increase\":\n",
    "                display(Markdown(f\"$z_{{crit}} = +{{{self.crit_values['positive']}}}, \\\\alpha_{{one-tailed}} = {{{self.alpha}}}$\"))\n",
    "            elif self.tails == 1 and self.crit_values[\"direction\"] == \"decrease\":\n",
    "                display(Markdown(f\"$z_{{crit}} = {{{self.crit_values['negative']}}}, \\\\alpha_{{one-tailed}} = {{{self.alpha}}}$\"))\n",
    "            else:\n",
    "                return ValueError(\"tails error in writing results\")\n",
    "            # determine significance\n",
    "            if self.significance:\n",
    "                print(f\"reject the null hypothesis, results are significant, z = {self.obt}, p < {self.alpha}, d = {self.effect_size}\")\n",
    "            elif not self.significance:\n",
    "                print(f\"fail to reject the null hypothesis, results not significant, z = {self.obt}, p > {self.alpha}, d = {self.effect_size}\")\n",
    "            else:\n",
    "                return ValueError(\"significance boolean error in writing results\")\n",
    "        else:\n",
    "            return ValueError(\"test specificaion error when writing results\")\n",
    "        \n",
    "        \n",
    "\n",
    "\n",
    "    def set_null_hypothesis(self):\n",
    "        # for one sample tests, sets a null hypothess between -3 to + 3 x the mean\n",
    "        if  self.test in [\"one-sample t-test\", \"z\"]:\n",
    "            mean = self.means[0]\n",
    "            multiplier = random.uniform(-3, 3)\n",
    "            self.null = round(mean * multiplier)\n",
    "        else:\n",
    "            self.null = 0\n",
    "        return self.null\n",
    "\n",
    "\n",
    "    def sum_of_squares(self):  # calculating the values presented in the problem.\n",
    "        ss = []\n",
    "        for column in self.df: \n",
    "            sum_scores = self.df[column].sum()\n",
    "            sum_sqared_scores= (self.df[column].apply(lambda x: x ** 2)).sum()  \n",
    "            ss_vals = sum_sqared_scores - round((sum_scores ** 2)/self.n, 2)\n",
    "            ss.append(round(ss_vals, 2))\n",
    "        return ss\n",
    "\n",
    "\n",
    "    def group_means(self):\n",
    "        means = []\n",
    "        for column in self.df:\n",
    "            means.append(round(self.df[column].mean(), 2))  \n",
    "        return means\n",
    "    \n",
    "\n",
    "    def variance(self):\n",
    "        vars = []\n",
    "        for column in self.df:\n",
    "            vars.append(round(self.df[column].var(ddof = 1), 2))\n",
    "        return vars\n",
    "\n",
    "\n",
    "    def stdev(self):\n",
    "        stdevs = []\n",
    "        for column in self.df:\n",
    "            stdevs.append(round(self.df[column].std(ddof = 1), 2))\n",
    "        return stdevs\n",
    "\n",
    "\n",
    "    def critical_value(self):\n",
    "        # calculate the degrees of freedom based on the type of test used\n",
    "        if self.test == \"independent-samples t-test\":\n",
    "            degf = (self.n - 1) + (self.n - 1)\n",
    "        elif self.test == \"one-sample t-test\" or \"dependent-samples t-test\":\n",
    "            degf = self.n - 1\n",
    "        else:\n",
    "            raise ValueError(\"incorrect test specification - degrees of freedom\")\n",
    "        \n",
    "        # determine the critical values for the inferential test      \n",
    "        if self.tails == 1:\n",
    "            if self.test in [\"independent-samples t-test\", \"one-sample t-test\", \"dependent-samples t-test\"]:\n",
    "                crit = round(stats.t.ppf(1 - self.alpha, degf), 2)\n",
    "            elif self.test == \"z\":\n",
    "                crit = round(stats.norm.ppf(1 - self.alpha), 2)\n",
    "            else:\n",
    "                return ValueError(\"improper test specification - selecting crit values\")\n",
    "        elif self.tails == 2:\n",
    "            if self.test in [\"independent-samples t-test\", \"one-sample t-test\", \"dependent-samples t-test\"]: \n",
    "                crit = round(stats.t.ppf(1 - self.alpha/2, degf), 2)\n",
    "            elif self.test == \"z\":\n",
    "                crit = round(stats.norm.ppf(1 - self.alpha/2), 2)\n",
    "            else:\n",
    "                return ValueError(\"improper test specification - selecting crit values\")\n",
    "        else:\n",
    "            return ValueError(\"self.tails must equal 1 or 2\")\n",
    "        \n",
    "        self.crit_values = {\"positive\": crit, \"negative\": -crit, \"degf\": degf}\n",
    "\n",
    "        # add a direction for one-tailed tests\n",
    "        if self.tails == 1:  \n",
    "            direction = random.choice([\"increase\", \"decrease\"])\n",
    "            self.crit_values[\"direction\"] = direction\n",
    "        else:\n",
    "            return ValueError(\"tails must be 1 for directional crit values\")\n",
    "        \n",
    "        return self.crit_values\n",
    "\n",
    "\n",
    "    def z_test(self):\n",
    "        if len(self.df.columns) > 1:\n",
    "            raise Exception(\"Data contains more than one sample\")\n",
    "        elif len(self.df.columns) == 0:\n",
    "            raise Exception(\"Dataframe error: no data columns\")\n",
    "        else:\n",
    "            self.test = \"z\"\n",
    "\n",
    "            # set the null and write out the question\n",
    "            self.set_null_hypothesis()\n",
    "            self.critical_value()\n",
    "            self.generate_question()\n",
    "\n",
    "            # calculate the standard error\n",
    "            # TODO double check the work here to make sure it is accurate\n",
    "            sd = round(self.df['0'].std(ddof = 0), 2)\n",
    "            n = len(self.df['0'])\n",
    "            sem = round(sd/(round(math.sqrt(n),2)),2)\n",
    "            self.obt = round((self.means[0] - self.null) / sem, 2)\n",
    "            self.effect_size = round((self.means[0] - self.null) / sd, 2)\n",
    "\n",
    "            # TODO add a way to determine environment so output can display in terminal or notebook\n",
    "            # print calculations for the standard error\n",
    "            display(Markdown(\"Calculating the standard error...\"))\n",
    "            display(Markdown(f\"$\\\\sigma_M = \\\\frac{{\\\\sigma}}{{\\\\sqrt{{N}}}}$\"))\n",
    "            display(Markdown(f\"$\\\\sigma_M = \\\\frac{{{sd}}}{{\\\\sqrt{n}}}$\"))\n",
    "            display(Markdown(f\"$\\\\sigma_M = \\\\frac{{{sd}}}{{{round(math.sqrt(n),2)}}}$\"))\n",
    "            display(Markdown(f\"$\\\\sigma_M = {{{sem}}}$\"))\n",
    "            print() # blank space\n",
    "            # print the caluclations for z_obt\n",
    "            display(Markdown(\"calculating $z_{{obt}}$...\"))\n",
    "            display(Markdown(f\"$z_{{obt}} = {{\\\\frac{{M - \\\\mu}}{{\\\\sigma_M}}}}$\"))\n",
    "            display(Markdown(f\"$z_{{obt}} = \\\\frac{{{self.means[0]} - {self.null}}}{{{sem}}}$\"))\n",
    "            display(Markdown(f\"$z_{{obt}} = \\\\frac{{{self.means[0] - self.null}}}{{{sem}}}$\"))\n",
    "            display(Markdown(f\"$z_{{obt}} = {{{self.obt}}}$\"))\n",
    "            print() # blank space\n",
    "            # print calculations for cohen's d\n",
    "            display(Markdown(\"calculating Cohen's d...\"))\n",
    "            display(Markdown(\"Cohen's d = $\\\\frac{{M - \\\\mu}}{{\\\\sigma}}$\"))\n",
    "            display(Markdown(f\"Cohen's d = $\\\\frac{{{self.means[0]} - {self.null}}}{{{sd}}}$\"))\n",
    "            display(Markdown(f\"Cohen's d = $\\\\frac{{{self.means[0] - self.null}}}{{{sd}}}$\"))\n",
    "            display(Markdown(f\"Cohen's d = ${{{self.effect_size}}}$\"))\n",
    "            print() # blank space\n",
    "\n",
    "            self.significance = self.final_decision()\n",
    "            self.write_result()\n",
    "\n",
    "            # return self.obt - not returning b/c it was printing out the value of self.obt.  need to figure out why but commenting out fixed it\n",
    "\n",
    "\n",
    "    def one_sample_t_test(self):\n",
    "        if len(self.df.columns) > 1:\n",
    "            raise Exception(\"Data contains more than one sample\")\n",
    "        elif len(self.df.columns) == 0:\n",
    "            raise Exception(\"Dataframe error: no data columns\")\n",
    "        else:\n",
    "            self.test = \"one-sample t-test\"   \n",
    "            \n",
    "            # set the null and write out the question\n",
    "            self.set_null_hypothesis()\n",
    "            self.critical_value()\n",
    "            self.generate_question()\n",
    "\n",
    "            # calculate the standard error\n",
    "            sem = round(math.sqrt(round((self.var[0]/self.n),2)),2)\n",
    "            self.obt = round((self.means[0] - self.null) / sem, 2)\n",
    "            self.effect_size = round((self.means[0] - self.null) / self.std[0], 2)\n",
    "\n",
    "            # print the caluclations for the standard error\n",
    "            # TODO add a way to determine environment so output can display in terminal or notebook\n",
    "            print(\"calculating the standard error...\")\n",
    "            display(Markdown(\"$s_M = \\\\sqrt{{\\\\frac{{s^2}}{{n}}}}$\"))\n",
    "            display(Markdown(f\"$s_M = \\\\sqrt{{\\\\frac{{{self.var[0]}}}{{{self.n}}}}}$\"))\n",
    "            display(Markdown(f\"$s_M = \\\\sqrt{{{round((self.var[0]/self.n),2)}}}$\"))\n",
    "            display(Markdown(f\"$s_M = {{{sem}}}$\"))\n",
    "            print() # blank space\n",
    "            # print the caluclations for t_obt\n",
    "            display(Markdown(\"calculating $t_{{obt}}$...\"))\n",
    "            display(Markdown(f\"$t_{{obt}} = {{\\\\frac{{M - \\\\mu}}{{s_M}}}}$\"))\n",
    "            display(Markdown(f\"$t_{{obt}} = \\\\frac{{{self.means[0]} - {self.null}}}{{{sem}}}$\"))\n",
    "            display(Markdown(f\"$t_{{obt}} = \\\\frac{{{self.means[0] - self.null}}}{{{sem}}}$\"))\n",
    "            display(Markdown(f\"$t_{{obt}} = {{{self.obt}}}$\"))\n",
    "            print() # blank space\n",
    "            # print calculations for cohen's d\n",
    "            display(Markdown(\"calculating Cohen's d...\"))\n",
    "            display(Markdown(\"Cohen's d = $\\\\frac{{M - \\\\mu}}{{s}}$\"))\n",
    "            display(Markdown(f\"Cohen's d = $\\\\frac{{{self.means[0]} - {self.null}}}{{{self.std[0]}}}$\"))\n",
    "            display(Markdown(f\"Cohen's d = $\\\\frac{{{self.means[0] - self.null}}}{{{self.std[0]}}}$\"))\n",
    "            display(Markdown(f\"Cohen's d = ${{{self.effect_size}}}$\"))\n",
    "            print() # blank space\n",
    "\n",
    "            self.significance = self.final_decision()\n",
    "            self.write_result()\n",
    "\n",
    "            # return self.obt - not returning b/c it was printing out the value of self.obt.  need to figure out why but commenting out fixed it        \n",
    "\n",
    "\n",
    "    def independent_samples_t_test(self):\n",
    "        if len(self.df.columns) == 1 or len(self.df.columns) > 2:\n",
    "            raise ValueError(\"Data does not contain two samples\")\n",
    "        elif len(self.df.columns) == 0:\n",
    "            raise ValueError(\"Dataframe error: no data columns\")\n",
    "        else: \n",
    "            self.test = \"independent-samples t-test\"           \n",
    "                        \n",
    "            # set the null and write out the question\n",
    "            self.set_null_hypothesis()\n",
    "            self.critical_value()\n",
    "            self.generate_question()\n",
    "            \n",
    "            # primary calculations\n",
    "            pooled_var = round(((self.ss[0] + self.ss[1]) / ((self.n - 1) + (self.n - 1))), 2)\n",
    "            sem = round(math.sqrt((round((pooled_var/self.n),2))+(round((pooled_var/self.n),2))),2)\n",
    "            self.obt = round(((self.means[0] - self.means[1]) - self.null) / sem, 2)\n",
    "            self.effect_size = round(((self.means[0] - self.means[1])) / round(math.sqrt(pooled_var),2), 2)\n",
    "\n",
    "            # TODO adapt to display in the terminal or a notebook\n",
    "            # display the caluclations for the pooled variance\n",
    "            print(\"calculating the pooled variance...\")\n",
    "            display(Markdown(\"$s_p^2 = {{\\\\frac{{SS_1 + SS_2}}{{df_1 + df_2}}}}$\"))\n",
    "            display(Markdown(f\"$s_p^2 = {{\\\\frac{{{self.ss[0]} + {self.ss[1]}}}{{{self.n - 1} + {self.n - 1}}}}}$\"))\n",
    "            display(Markdown(f\"$s_p^2 = \\\\frac{{{round(self.ss[0] + self.ss[1],2)}}}{{{(self.n - 1) + (self.n - 1)}}}$\"))\n",
    "            display(Markdown(f\"$s_p^2 = {{{pooled_var}}}$\"))\n",
    "            # display the calculations for the estimated standard error\n",
    "            print(\"calculating the estimated standard error of the difference between means...\")\n",
    "            display(Markdown(\"$s_{{(M_1 - M_2)}} = \\\\sqrt{{\\\\frac{{s_p^2}}{{n_1}} + \\\\frac{{s_p^2}}{{n_1}}}}$\"))\n",
    "            display(Markdown(f\"$s_{{(M_1 - M_2)}} = \\\\sqrt{{\\\\frac{{{pooled_var}}}{{{self.n}}} + \\\\frac{{{pooled_var}}}{{{self.n}}}}}$\"))\n",
    "            display(Markdown(f\"$s_{{(M_1 - M_2)}} = \\\\sqrt{{{round(pooled_var/self.n, 2)} + {round(pooled_var/self.n, 2)}}}$\"))\n",
    "            display(Markdown(f\"$s_{{(M_1 - M_2)}} = \\\\sqrt{{{round(pooled_var/self.n, 2) + round(pooled_var/self.n, 2)}}}$\"))\n",
    "            display(Markdown(f\"$s_{{(M_1 - M_2)}} = {{{sem}}}$\"))\n",
    "            # display the caluclations for t_obt\n",
    "            display(Markdown(\"calculating $t_{{obt}}$...\"))\n",
    "            display(Markdown(f\"$t_{{obt}} = {{\\\\frac{{(M_1 - M_2) - (\\\\mu_1 - \\\\mu_2)}}{{s_{{(M_1 - M_2)}}}}}}$\"))\n",
    "            display(Markdown(f\"$t_{{obt}} = \\\\frac{{({self.means[0]} - {self.means[1]}) - {{{self.null}}}}}{{{sem}}}$\")) \n",
    "            display(Markdown(f\"$t_{{obt}} = \\\\frac{{{round(self.means[0] - self.means[1] - self.null, 2)}}}{{{sem}}}$\"))\n",
    "            display(Markdown(f\"$t_{{obt}} = {{{self.obt}}}$\"))\n",
    "            print() # blank space\n",
    "            # print calculations for cohen's d\n",
    "            display(Markdown(\"calculating Cohen's d...\"))\n",
    "            display(Markdown(\"Cohen's d = $\\\\frac{{M)0 - M_1}}{{\\\\sqrt{{{s_p^2}}}}}$\"))\n",
    "            display(Markdown(f\"Cohen's d = $\\\\frac{{({self.means[0]} - {self.means[1]})}}{{{{{{\\\\sqrt{{{pooled_var}}}}}}}}}$\"))\n",
    "            display(Markdown(f\"Cohen's d = $\\\\frac{{({self.means[0] - self.means[1]})}}{{{round(math.sqrt(pooled_var),2)}}}$\"))\n",
    "            display(Markdown(f\"Cohen's d = ${{{self.effect_size}}}$\"))\n",
    "            print() # blank space\n",
    "\n",
    "            self.significance = self.final_decision()\n",
    "            self.write_result()\n",
    "\n",
    "            # return self.obt - not returning b/c it was printing out the value of self.obt.  need to figure out why but commenting out fixed it\n",
    "        \n",
    "\n",
    "    def dependent_samples_t_test(self):\n",
    "        if len(self.df.columns) == 1 or len(self.df.columns) > 2:\n",
    "            raise ValueError(\"Data does not contain two samples\")\n",
    "        elif len(self.df.columns) == 0:\n",
    "            raise ValueError(\"Dataframe error: no data columns\")\n",
    "        else:\n",
    "            self.test = \"dependent-samples t-test\"     \n",
    "            \n",
    "            # set the null and write out the question\n",
    "            self.set_null_hypothesis()\n",
    "            self.critical_value()\n",
    "            self.generate_question()\n",
    "\n",
    "            # primary calculations\n",
    "            # need to gather the difference scores\n",
    "            self.df['D'] = self.df['1'] - self.df['0']\n",
    "            \n",
    "            # print the dataframe with the difference scores\n",
    "            display(Markdown(\"Calculating the difference scores $D = X_1 - X_0$\"))\n",
    "            print(self.df.to_string(index = False))\n",
    "            print() # blank space\n",
    "            # Calculate the Mean of the Difference Scores\n",
    "            sum_d = self.df['D'].sum()\n",
    "            n = len(self.df['D'])\n",
    "            mean_d = round(sum_d/n, 2)\n",
    "            display(Markdown(\"Calculating the Mean of the Difference Scores...\"))\n",
    "            display(Markdown(\"$M_D = \\\\frac{{\\\\Sigma D}}{{n}}$\"))\n",
    "            display(Markdown(f\"$M_D = \\\\frac{{{sum_d}}}{{{n}}}$\"))\n",
    "            display(Markdown(f\"$M_D = {{{mean_d}}}$\"))\n",
    "            print() # blank space\n",
    "            # calculate the SS for the difference scores\n",
    "            self.df['D^2'] = self.df['D'].apply(lambda x: x ** 2)\n",
    "            sum_sqared_scores = self.df['D^2'].sum()\n",
    "            ss = round(sum_sqared_scores - round((sum_d ** 2)/n, 2), 2)\n",
    "            # print the dataframe with the squared difference scores\n",
    "            display(Markdown(\"Calculating the sum of the squared deviations...\"))\n",
    "            print(self.df.to_string(index = False))\n",
    "            display(Markdown(\"$ SS_D = \\\\Sigma D^2 - \\\\frac{{(\\\\Sigma D)^2}}{{n}}$\"))\n",
    "            display(Markdown(f\"$ SS_D = {{{sum_sqared_scores}}} - \\\\frac{{{sum_d ** 2}}}{{{n}}}$\"))\n",
    "            display(Markdown(f\"$ SS_D = {{{sum_sqared_scores}}} - {{{round((sum_d ** 2)/n, 2)}}}$\"))\n",
    "            display(Markdown(f\"$ SS_D = {{{ss}}}$\"))\n",
    "            print() # blank space\n",
    "            # calculate the variance    \n",
    "            variance = round(ss / (n - 1), 2)\n",
    "            display(Markdown(\"$ s^2 = \\\\frac{{SS_D}}{{df}}$\")) \n",
    "            display(Markdown(f\"$ s^2 = \\\\frac{{{ss}}}{{{n - 1}}}$\"))   \n",
    "            display(Markdown(f\"$ s^2 = \\\\frac{{{round(ss/(n - 1), 2)}}}$\"))\n",
    "            display(Markdown(f\"$ s^2 = {{{variance}}}$\"))  \n",
    "            print() # blank space\n",
    "            # Calculate the estimated standard error\n",
    "            sem = round(math.sqrt(variance/n), 2)\n",
    "            display(Markdown(\"Calculating the estimated standard error...\"))\n",
    "            display(Markdown(\"$ s_{M_D} = \\\\sqrt{{\\\\frac{{s^2}}{{n}}}}$\"))\n",
    "            display(Markdown(f\"$ s_{{M_D}} = \\\\sqrt{{\\\\frac{{{variance}}}{{{n}}}}}$\"))\n",
    "            display(Markdown(f\"$ s_{{M_D}} = \\\\sqrt{{{round(variance/n, 2)}}}$\"))\n",
    "            display(Markdown(f\"$ s_{{M_D}} = {{{sem}}}$\"))\n",
    "            print() # blank space\n",
    "            # caclulate the t-statistic\n",
    "            self.obt = round((mean_d - self.null) / sem, 2)\n",
    "            display(Markdown(\"calculating $t_{{obt}}$...\"))\n",
    "            display(Markdown(\"$t_{{obt}} = {{\\\\frac{{M_D - \\\\mu_D}}{{s_{M_D}}}}}$\"))\n",
    "            display(Markdown(f\"$t_{{obt}} = \\\\frac{{{mean_d} - {self.null}}}{{{sem}}}$\"))\n",
    "            display(Markdown(f\"$t_{{obt}} = \\\\frac{{{mean_d - self.null}}}{{{sem}}}$\"))\n",
    "            display(Markdown(f\"$t_{{obt}} = {{{self.obt}}}$\"))\n",
    "            print() # blank space\n",
    "            # print calculations for cohen's d\n",
    "            self.effect_size = self.obt = round(mean_d / round(math.sqrt(variance),2), 2)\n",
    "            display(Markdown(\"calculating Cohen's d...\"))\n",
    "            display(Markdown(\"Cohen's d = $\\\\frac{{M_D}}{{\\\\sqrt{{s^2}}}}$\"))\n",
    "            display(Markdown(f\"Cohen's d = $\\\\frac{{{mean_d}}}{{{{{{\\\\sqrt{{{variance}}}}}}}}}$\"))\n",
    "            display(Markdown(f\"Cohen's d = $\\\\frac{{{mean_d}}}{{{round(math.sqrt(variance),2)}}}$\"))\n",
    "            display(Markdown(f\"Cohen's d = ${{{self.effect_size}}}$\"))\n",
    "            print() # blank space\n",
    "\n",
    "            self.significance = self.final_decision()\n",
    "            self.write_result()\n",
    "\n",
    "            # return self.obt - not returning b/c it was printing out the value of self.obt.  need to figure out why but commenting out fixed it"
   ]
  },
  {
   "cell_type": "markdown",
   "metadata": {},
   "source": [
    "## *z*-test\n",
    "\n",
    "conducting a *z*-test.  Groups needs to be set to 1.  The value for n can be any integer (whole number)"
   ]
  },
  {
   "cell_type": "code",
   "execution_count": 11,
   "metadata": {},
   "outputs": [
    {
     "data": {
      "text/markdown": [
       "Given the following data, is the mean of $Group_0$ significantly different from ${5}$?  Use a ${2}$ tailed-test with $\\alpha = {0.05}$"
      ],
      "text/plain": [
       "<IPython.core.display.Markdown object>"
      ]
     },
     "metadata": {},
     "output_type": "display_data"
    },
    {
     "data": {
      "text/markdown": [
       "$M_0 = {17.0}$"
      ],
      "text/plain": [
       "<IPython.core.display.Markdown object>"
      ]
     },
     "metadata": {},
     "output_type": "display_data"
    },
    {
     "data": {
      "text/markdown": [
       "$ {\\sigma_0} = {5.92}$"
      ],
      "text/plain": [
       "<IPython.core.display.Markdown object>"
      ]
     },
     "metadata": {},
     "output_type": "display_data"
    },
    {
     "data": {
      "text/markdown": [
       "$ n = {10}$"
      ],
      "text/plain": [
       "<IPython.core.display.Markdown object>"
      ]
     },
     "metadata": {},
     "output_type": "display_data"
    },
    {
     "name": "stdout",
     "output_type": "stream",
     "text": [
      "    0\n",
      "0  16\n",
      "1  15\n",
      "2   5\n",
      "3  23\n",
      "4  13\n",
      "5  24\n",
      "6  24\n",
      "7  16\n",
      "8  22\n",
      "9  12\n"
     ]
    },
    {
     "data": {
      "text/markdown": [
       "Calculating the standard error..."
      ],
      "text/plain": [
       "<IPython.core.display.Markdown object>"
      ]
     },
     "metadata": {},
     "output_type": "display_data"
    },
    {
     "data": {
      "text/markdown": [
       "$\\sigma_M = \\frac{\\sigma}{\\sqrt{N}}$"
      ],
      "text/plain": [
       "<IPython.core.display.Markdown object>"
      ]
     },
     "metadata": {},
     "output_type": "display_data"
    },
    {
     "data": {
      "text/markdown": [
       "$\\sigma_M = \\frac{5.92}{\\sqrt10}$"
      ],
      "text/plain": [
       "<IPython.core.display.Markdown object>"
      ]
     },
     "metadata": {},
     "output_type": "display_data"
    },
    {
     "data": {
      "text/markdown": [
       "$\\sigma_M = \\frac{5.92}{3.16}$"
      ],
      "text/plain": [
       "<IPython.core.display.Markdown object>"
      ]
     },
     "metadata": {},
     "output_type": "display_data"
    },
    {
     "data": {
      "text/markdown": [
       "$\\sigma_M = {1.87}$"
      ],
      "text/plain": [
       "<IPython.core.display.Markdown object>"
      ]
     },
     "metadata": {},
     "output_type": "display_data"
    },
    {
     "name": "stdout",
     "output_type": "stream",
     "text": [
      "\n"
     ]
    },
    {
     "data": {
      "text/markdown": [
       "calculating $z_{{obt}}$..."
      ],
      "text/plain": [
       "<IPython.core.display.Markdown object>"
      ]
     },
     "metadata": {},
     "output_type": "display_data"
    },
    {
     "data": {
      "text/markdown": [
       "$z_{obt} = {\\frac{M - \\mu}{\\sigma_M}}$"
      ],
      "text/plain": [
       "<IPython.core.display.Markdown object>"
      ]
     },
     "metadata": {},
     "output_type": "display_data"
    },
    {
     "data": {
      "text/markdown": [
       "$z_{obt} = \\frac{17.0 - 5}{1.87}$"
      ],
      "text/plain": [
       "<IPython.core.display.Markdown object>"
      ]
     },
     "metadata": {},
     "output_type": "display_data"
    },
    {
     "data": {
      "text/markdown": [
       "$z_{obt} = \\frac{12.0}{1.87}$"
      ],
      "text/plain": [
       "<IPython.core.display.Markdown object>"
      ]
     },
     "metadata": {},
     "output_type": "display_data"
    },
    {
     "data": {
      "text/markdown": [
       "$z_{obt} = {6.42}$"
      ],
      "text/plain": [
       "<IPython.core.display.Markdown object>"
      ]
     },
     "metadata": {},
     "output_type": "display_data"
    },
    {
     "name": "stdout",
     "output_type": "stream",
     "text": [
      "\n"
     ]
    },
    {
     "data": {
      "text/markdown": [
       "calculating Cohen's d..."
      ],
      "text/plain": [
       "<IPython.core.display.Markdown object>"
      ]
     },
     "metadata": {},
     "output_type": "display_data"
    },
    {
     "data": {
      "text/markdown": [
       "Cohen's d = $\\frac{{M - \\mu}}{{\\sigma}}$"
      ],
      "text/plain": [
       "<IPython.core.display.Markdown object>"
      ]
     },
     "metadata": {},
     "output_type": "display_data"
    },
    {
     "data": {
      "text/markdown": [
       "Cohen's d = $\\frac{17.0 - 5}{5.92}$"
      ],
      "text/plain": [
       "<IPython.core.display.Markdown object>"
      ]
     },
     "metadata": {},
     "output_type": "display_data"
    },
    {
     "data": {
      "text/markdown": [
       "Cohen's d = $\\frac{12.0}{5.92}$"
      ],
      "text/plain": [
       "<IPython.core.display.Markdown object>"
      ]
     },
     "metadata": {},
     "output_type": "display_data"
    },
    {
     "data": {
      "text/markdown": [
       "Cohen's d = ${2.03}$"
      ],
      "text/plain": [
       "<IPython.core.display.Markdown object>"
      ]
     },
     "metadata": {},
     "output_type": "display_data"
    },
    {
     "name": "stdout",
     "output_type": "stream",
     "text": [
      "\n"
     ]
    },
    {
     "data": {
      "text/markdown": [
       "$z_{crit} = \\pm{1.96}, \\alpha_{two-tailed} = {0.05}$"
      ],
      "text/plain": [
       "<IPython.core.display.Markdown object>"
      ]
     },
     "metadata": {},
     "output_type": "display_data"
    },
    {
     "name": "stdout",
     "output_type": "stream",
     "text": [
      "reject the null hypothesis, results are significant, z = 6.42, p < 0.05, d = 2.03\n"
     ]
    }
   ],
   "source": [
    "RandomData(groups = 1, n = 10).z_test()"
   ]
  },
  {
   "cell_type": "markdown",
   "metadata": {},
   "source": [
    "## One-Sample *t*-test\n",
    "\n",
    "conducting a *t*-test with one sample.  Groups needs to be set to 1.  The value for n can be any integer (whole number)"
   ]
  },
  {
   "cell_type": "code",
   "execution_count": 12,
   "metadata": {},
   "outputs": [
    {
     "data": {
      "text/markdown": [
       "Given the following data, is the mean of $Group_0$ significantly greater than ${25}$?  Use a ${1}$ tailed-test with $\\alpha = {0.05}$"
      ],
      "text/plain": [
       "<IPython.core.display.Markdown object>"
      ]
     },
     "metadata": {},
     "output_type": "display_data"
    },
    {
     "data": {
      "text/markdown": [
       "$M_0 = {26.4}$"
      ],
      "text/plain": [
       "<IPython.core.display.Markdown object>"
      ]
     },
     "metadata": {},
     "output_type": "display_data"
    },
    {
     "data": {
      "text/markdown": [
       "$s^2 = {25.38}$"
      ],
      "text/plain": [
       "<IPython.core.display.Markdown object>"
      ]
     },
     "metadata": {},
     "output_type": "display_data"
    },
    {
     "data": {
      "text/markdown": [
       "$ n = {10}$"
      ],
      "text/plain": [
       "<IPython.core.display.Markdown object>"
      ]
     },
     "metadata": {},
     "output_type": "display_data"
    },
    {
     "name": "stdout",
     "output_type": "stream",
     "text": [
      "    0\n",
      "0  16\n",
      "1  32\n",
      "2  28\n",
      "3  23\n",
      "4  26\n",
      "5  28\n",
      "6  28\n",
      "7  34\n",
      "8  26\n",
      "9  23\n",
      "calculating the standard error...\n"
     ]
    },
    {
     "data": {
      "text/markdown": [
       "$s_M = \\sqrt{{\\frac{{s^2}}{{n}}}}$"
      ],
      "text/plain": [
       "<IPython.core.display.Markdown object>"
      ]
     },
     "metadata": {},
     "output_type": "display_data"
    },
    {
     "data": {
      "text/markdown": [
       "$s_M = \\sqrt{\\frac{25.38}{10}}$"
      ],
      "text/plain": [
       "<IPython.core.display.Markdown object>"
      ]
     },
     "metadata": {},
     "output_type": "display_data"
    },
    {
     "data": {
      "text/markdown": [
       "$s_M = \\sqrt{2.54}$"
      ],
      "text/plain": [
       "<IPython.core.display.Markdown object>"
      ]
     },
     "metadata": {},
     "output_type": "display_data"
    },
    {
     "data": {
      "text/markdown": [
       "$s_M = {1.59}$"
      ],
      "text/plain": [
       "<IPython.core.display.Markdown object>"
      ]
     },
     "metadata": {},
     "output_type": "display_data"
    },
    {
     "name": "stdout",
     "output_type": "stream",
     "text": [
      "\n"
     ]
    },
    {
     "data": {
      "text/markdown": [
       "calculating $t_{{obt}}$..."
      ],
      "text/plain": [
       "<IPython.core.display.Markdown object>"
      ]
     },
     "metadata": {},
     "output_type": "display_data"
    },
    {
     "data": {
      "text/markdown": [
       "$t_{obt} = {\\frac{M - \\mu}{s_M}}$"
      ],
      "text/plain": [
       "<IPython.core.display.Markdown object>"
      ]
     },
     "metadata": {},
     "output_type": "display_data"
    },
    {
     "data": {
      "text/markdown": [
       "$t_{obt} = \\frac{26.4 - 25}{1.59}$"
      ],
      "text/plain": [
       "<IPython.core.display.Markdown object>"
      ]
     },
     "metadata": {},
     "output_type": "display_data"
    },
    {
     "data": {
      "text/markdown": [
       "$t_{obt} = \\frac{1.3999999999999986}{1.59}$"
      ],
      "text/plain": [
       "<IPython.core.display.Markdown object>"
      ]
     },
     "metadata": {},
     "output_type": "display_data"
    },
    {
     "data": {
      "text/markdown": [
       "$t_{obt} = {0.88}$"
      ],
      "text/plain": [
       "<IPython.core.display.Markdown object>"
      ]
     },
     "metadata": {},
     "output_type": "display_data"
    },
    {
     "name": "stdout",
     "output_type": "stream",
     "text": [
      "\n"
     ]
    },
    {
     "data": {
      "text/markdown": [
       "calculating Cohen's d..."
      ],
      "text/plain": [
       "<IPython.core.display.Markdown object>"
      ]
     },
     "metadata": {},
     "output_type": "display_data"
    },
    {
     "data": {
      "text/markdown": [
       "Cohen's d = $\\frac{{M - \\mu}}{{s}}$"
      ],
      "text/plain": [
       "<IPython.core.display.Markdown object>"
      ]
     },
     "metadata": {},
     "output_type": "display_data"
    },
    {
     "data": {
      "text/markdown": [
       "Cohen's d = $\\frac{26.4 - 25}{5.04}$"
      ],
      "text/plain": [
       "<IPython.core.display.Markdown object>"
      ]
     },
     "metadata": {},
     "output_type": "display_data"
    },
    {
     "data": {
      "text/markdown": [
       "Cohen's d = $\\frac{1.3999999999999986}{5.04}$"
      ],
      "text/plain": [
       "<IPython.core.display.Markdown object>"
      ]
     },
     "metadata": {},
     "output_type": "display_data"
    },
    {
     "data": {
      "text/markdown": [
       "Cohen's d = ${0.28}$"
      ],
      "text/plain": [
       "<IPython.core.display.Markdown object>"
      ]
     },
     "metadata": {},
     "output_type": "display_data"
    },
    {
     "name": "stdout",
     "output_type": "stream",
     "text": [
      "\n"
     ]
    },
    {
     "data": {
      "text/markdown": [
       "$t_{crit} = +{1.83}, \\alpha_{one-tailed} = {0.05}, df = {9}$"
      ],
      "text/plain": [
       "<IPython.core.display.Markdown object>"
      ]
     },
     "metadata": {},
     "output_type": "display_data"
    },
    {
     "name": "stdout",
     "output_type": "stream",
     "text": [
      "fail to reject the null hypothesis, results not significant, t(9) = 0.88, p > 0.05, d = 0.28\n"
     ]
    }
   ],
   "source": [
    "RandomData(groups = 1, n = 10).one_sample_t_test()"
   ]
  },
  {
   "cell_type": "markdown",
   "metadata": {},
   "source": [
    "## Independent-Samples *t*-test\n",
    "\n",
    "conducting a *t*-test with two independent samples.  Groups needs to be set to 2.  The value for n can be any integer (whole number)"
   ]
  },
  {
   "cell_type": "code",
   "execution_count": 13,
   "metadata": {},
   "outputs": [
    {
     "data": {
      "text/markdown": [
       "Given the following between-subjects data, is the mean of $Group_0$ significantly different from the mean of $Group_1$?  Use a ${2}$ tailed-test with $\\alpha = {0.05}$"
      ],
      "text/plain": [
       "<IPython.core.display.Markdown object>"
      ]
     },
     "metadata": {},
     "output_type": "display_data"
    },
    {
     "data": {
      "text/markdown": [
       "$M_0 = {44.4}, M_1 = {36.7}$"
      ],
      "text/plain": [
       "<IPython.core.display.Markdown object>"
      ]
     },
     "metadata": {},
     "output_type": "display_data"
    },
    {
     "data": {
      "text/markdown": [
       "$SS_0 = {148.4}, SS_1 = {1496.1}$"
      ],
      "text/plain": [
       "<IPython.core.display.Markdown object>"
      ]
     },
     "metadata": {},
     "output_type": "display_data"
    },
    {
     "data": {
      "text/markdown": [
       "$ n_0 = {10}, n_1 = {10}$"
      ],
      "text/plain": [
       "<IPython.core.display.Markdown object>"
      ]
     },
     "metadata": {},
     "output_type": "display_data"
    },
    {
     "name": "stdout",
     "output_type": "stream",
     "text": [
      "    0   1\n",
      "0  42  23\n",
      "1  43  43\n",
      "2  49  42\n",
      "3  48  42\n",
      "4  46  10\n",
      "5  45  39\n",
      "6  39  38\n",
      "7  48  28\n",
      "8  37  49\n",
      "9  47  53\n",
      "calculating the pooled variance...\n"
     ]
    },
    {
     "data": {
      "text/markdown": [
       "$s_p^2 = {{\\frac{{SS_1 + SS_2}}{{df_1 + df_2}}}}$"
      ],
      "text/plain": [
       "<IPython.core.display.Markdown object>"
      ]
     },
     "metadata": {},
     "output_type": "display_data"
    },
    {
     "data": {
      "text/markdown": [
       "$s_p^2 = {\\frac{148.4 + 1496.1}{9 + 9}}$"
      ],
      "text/plain": [
       "<IPython.core.display.Markdown object>"
      ]
     },
     "metadata": {},
     "output_type": "display_data"
    },
    {
     "data": {
      "text/markdown": [
       "$s_p^2 = \\frac{1644.5}{18}$"
      ],
      "text/plain": [
       "<IPython.core.display.Markdown object>"
      ]
     },
     "metadata": {},
     "output_type": "display_data"
    },
    {
     "data": {
      "text/markdown": [
       "$s_p^2 = {91.36}$"
      ],
      "text/plain": [
       "<IPython.core.display.Markdown object>"
      ]
     },
     "metadata": {},
     "output_type": "display_data"
    },
    {
     "name": "stdout",
     "output_type": "stream",
     "text": [
      "calculating the estimated standard error of the difference between means...\n"
     ]
    },
    {
     "data": {
      "text/markdown": [
       "$s_{{(M_1 - M_2)}} = \\sqrt{{\\frac{{s_p^2}}{{n_1}} + \\frac{{s_p^2}}{{n_1}}}}$"
      ],
      "text/plain": [
       "<IPython.core.display.Markdown object>"
      ]
     },
     "metadata": {},
     "output_type": "display_data"
    },
    {
     "data": {
      "text/markdown": [
       "$s_{(M_1 - M_2)} = \\sqrt{\\frac{91.36}{10} + \\frac{91.36}{10}}$"
      ],
      "text/plain": [
       "<IPython.core.display.Markdown object>"
      ]
     },
     "metadata": {},
     "output_type": "display_data"
    },
    {
     "data": {
      "text/markdown": [
       "$s_{(M_1 - M_2)} = \\sqrt{9.14 + 9.14}$"
      ],
      "text/plain": [
       "<IPython.core.display.Markdown object>"
      ]
     },
     "metadata": {},
     "output_type": "display_data"
    },
    {
     "data": {
      "text/markdown": [
       "$s_{(M_1 - M_2)} = \\sqrt{18.28}$"
      ],
      "text/plain": [
       "<IPython.core.display.Markdown object>"
      ]
     },
     "metadata": {},
     "output_type": "display_data"
    },
    {
     "data": {
      "text/markdown": [
       "$s_{(M_1 - M_2)} = {4.28}$"
      ],
      "text/plain": [
       "<IPython.core.display.Markdown object>"
      ]
     },
     "metadata": {},
     "output_type": "display_data"
    },
    {
     "data": {
      "text/markdown": [
       "calculating $t_{{obt}}$..."
      ],
      "text/plain": [
       "<IPython.core.display.Markdown object>"
      ]
     },
     "metadata": {},
     "output_type": "display_data"
    },
    {
     "data": {
      "text/markdown": [
       "$t_{obt} = {\\frac{(M_1 - M_2) - (\\mu_1 - \\mu_2)}{s_{(M_1 - M_2)}}}$"
      ],
      "text/plain": [
       "<IPython.core.display.Markdown object>"
      ]
     },
     "metadata": {},
     "output_type": "display_data"
    },
    {
     "data": {
      "text/markdown": [
       "$t_{obt} = \\frac{(44.4 - 36.7) - {0}}{4.28}$"
      ],
      "text/plain": [
       "<IPython.core.display.Markdown object>"
      ]
     },
     "metadata": {},
     "output_type": "display_data"
    },
    {
     "data": {
      "text/markdown": [
       "$t_{obt} = \\frac{7.7}{4.28}$"
      ],
      "text/plain": [
       "<IPython.core.display.Markdown object>"
      ]
     },
     "metadata": {},
     "output_type": "display_data"
    },
    {
     "data": {
      "text/markdown": [
       "$t_{obt} = {1.8}$"
      ],
      "text/plain": [
       "<IPython.core.display.Markdown object>"
      ]
     },
     "metadata": {},
     "output_type": "display_data"
    },
    {
     "name": "stdout",
     "output_type": "stream",
     "text": [
      "\n"
     ]
    },
    {
     "data": {
      "text/markdown": [
       "calculating Cohen's d..."
      ],
      "text/plain": [
       "<IPython.core.display.Markdown object>"
      ]
     },
     "metadata": {},
     "output_type": "display_data"
    },
    {
     "data": {
      "text/markdown": [
       "Cohen's d = $\\frac{{M)0 - M_1}}{{\\sqrt{{{s_p^2}}}}}$"
      ],
      "text/plain": [
       "<IPython.core.display.Markdown object>"
      ]
     },
     "metadata": {},
     "output_type": "display_data"
    },
    {
     "data": {
      "text/markdown": [
       "Cohen's d = $\\frac{(44.4 - 36.7)}{{{\\sqrt{91.36}}}}$"
      ],
      "text/plain": [
       "<IPython.core.display.Markdown object>"
      ]
     },
     "metadata": {},
     "output_type": "display_data"
    },
    {
     "data": {
      "text/markdown": [
       "Cohen's d = $\\frac{(7.699999999999996)}{9.56}$"
      ],
      "text/plain": [
       "<IPython.core.display.Markdown object>"
      ]
     },
     "metadata": {},
     "output_type": "display_data"
    },
    {
     "data": {
      "text/markdown": [
       "Cohen's d = ${0.81}$"
      ],
      "text/plain": [
       "<IPython.core.display.Markdown object>"
      ]
     },
     "metadata": {},
     "output_type": "display_data"
    },
    {
     "name": "stdout",
     "output_type": "stream",
     "text": [
      "\n"
     ]
    },
    {
     "data": {
      "text/markdown": [
       "$t_{crit} = \\pm{2.1}, \\alpha_{two-tailed} = {0.05}, df = {18}$"
      ],
      "text/plain": [
       "<IPython.core.display.Markdown object>"
      ]
     },
     "metadata": {},
     "output_type": "display_data"
    },
    {
     "name": "stdout",
     "output_type": "stream",
     "text": [
      "fail to reject the null hypothesis, results not significant, t(18) = 1.8, p > 0.05, d = 0.81\n"
     ]
    }
   ],
   "source": [
    "RandomData(groups = 2, n = 10).independent_samples_t_test()"
   ]
  },
  {
   "cell_type": "markdown",
   "metadata": {},
   "source": [
    "## Dependent-Samples *t*-test\n",
    "\n",
    "conducting a *t*-test with two dependent samples.  Groups needs to be set to 2.  The value for n can be any integer (whole number)"
   ]
  },
  {
   "cell_type": "code",
   "execution_count": 14,
   "metadata": {},
   "outputs": [
    {
     "data": {
      "text/markdown": [
       "Given the following within-subjects data, is $M_D$ significantly different from ${0}$?  Use a ${2}$ tailed-test with $\\alpha = {0.01}$"
      ],
      "text/plain": [
       "<IPython.core.display.Markdown object>"
      ]
     },
     "metadata": {},
     "output_type": "display_data"
    },
    {
     "data": {
      "text/markdown": [
       "$M_0 = {19.1}, M_1 = {40.5}$"
      ],
      "text/plain": [
       "<IPython.core.display.Markdown object>"
      ]
     },
     "metadata": {},
     "output_type": "display_data"
    },
    {
     "data": {
      "text/markdown": [
       "$ n = {10}$"
      ],
      "text/plain": [
       "<IPython.core.display.Markdown object>"
      ]
     },
     "metadata": {},
     "output_type": "display_data"
    },
    {
     "name": "stdout",
     "output_type": "stream",
     "text": [
      "    0   1\n",
      "0  16  65\n",
      "1  21  34\n",
      "2  17  33\n",
      "3  24   5\n",
      "4  25  42\n",
      "5  14  57\n",
      "6  17  36\n",
      "7  17  62\n",
      "8  18  26\n",
      "9  22  45\n"
     ]
    },
    {
     "data": {
      "text/markdown": [
       "Calculating the difference scores $D = X_1 - X_0$"
      ],
      "text/plain": [
       "<IPython.core.display.Markdown object>"
      ]
     },
     "metadata": {},
     "output_type": "display_data"
    },
    {
     "name": "stdout",
     "output_type": "stream",
     "text": [
      " 0  1   D\n",
      "16 65  49\n",
      "21 34  13\n",
      "17 33  16\n",
      "24  5 -19\n",
      "25 42  17\n",
      "14 57  43\n",
      "17 36  19\n",
      "17 62  45\n",
      "18 26   8\n",
      "22 45  23\n",
      "\n"
     ]
    },
    {
     "data": {
      "text/markdown": [
       "Calculating the Mean of the Difference Scores..."
      ],
      "text/plain": [
       "<IPython.core.display.Markdown object>"
      ]
     },
     "metadata": {},
     "output_type": "display_data"
    },
    {
     "data": {
      "text/markdown": [
       "$M_D = \\frac{{\\Sigma D}}{{n}}$"
      ],
      "text/plain": [
       "<IPython.core.display.Markdown object>"
      ]
     },
     "metadata": {},
     "output_type": "display_data"
    },
    {
     "data": {
      "text/markdown": [
       "$M_D = \\frac{214}{10}$"
      ],
      "text/plain": [
       "<IPython.core.display.Markdown object>"
      ]
     },
     "metadata": {},
     "output_type": "display_data"
    },
    {
     "data": {
      "text/markdown": [
       "$M_D = {21.4}$"
      ],
      "text/plain": [
       "<IPython.core.display.Markdown object>"
      ]
     },
     "metadata": {},
     "output_type": "display_data"
    },
    {
     "name": "stdout",
     "output_type": "stream",
     "text": [
      "\n"
     ]
    },
    {
     "data": {
      "text/markdown": [
       "Calculating the sum of the squared deviations..."
      ],
      "text/plain": [
       "<IPython.core.display.Markdown object>"
      ]
     },
     "metadata": {},
     "output_type": "display_data"
    },
    {
     "name": "stdout",
     "output_type": "stream",
     "text": [
      " 0  1   D  D^2\n",
      "16 65  49 2401\n",
      "21 34  13  169\n",
      "17 33  16  256\n",
      "24  5 -19  361\n",
      "25 42  17  289\n",
      "14 57  43 1849\n",
      "17 36  19  361\n",
      "17 62  45 2025\n",
      "18 26   8   64\n",
      "22 45  23  529\n"
     ]
    },
    {
     "data": {
      "text/markdown": [
       "$ SS_D = \\Sigma D^2 - \\frac{{(\\Sigma D)^2}}{{n}}$"
      ],
      "text/plain": [
       "<IPython.core.display.Markdown object>"
      ]
     },
     "metadata": {},
     "output_type": "display_data"
    },
    {
     "data": {
      "text/markdown": [
       "$ SS_D = {8304} - \\frac{45796}{10}$"
      ],
      "text/plain": [
       "<IPython.core.display.Markdown object>"
      ]
     },
     "metadata": {},
     "output_type": "display_data"
    },
    {
     "data": {
      "text/markdown": [
       "$ SS_D = {8304} - {4579.6}$"
      ],
      "text/plain": [
       "<IPython.core.display.Markdown object>"
      ]
     },
     "metadata": {},
     "output_type": "display_data"
    },
    {
     "data": {
      "text/markdown": [
       "$ SS_D = {3724.4}$"
      ],
      "text/plain": [
       "<IPython.core.display.Markdown object>"
      ]
     },
     "metadata": {},
     "output_type": "display_data"
    },
    {
     "name": "stdout",
     "output_type": "stream",
     "text": [
      "\n"
     ]
    },
    {
     "data": {
      "text/markdown": [
       "$ s^2 = \\frac{{SS_D}}{{df}}$"
      ],
      "text/plain": [
       "<IPython.core.display.Markdown object>"
      ]
     },
     "metadata": {},
     "output_type": "display_data"
    },
    {
     "data": {
      "text/markdown": [
       "$ s^2 = \\frac{3724.4}{9}$"
      ],
      "text/plain": [
       "<IPython.core.display.Markdown object>"
      ]
     },
     "metadata": {},
     "output_type": "display_data"
    },
    {
     "data": {
      "text/markdown": [
       "$ s^2 = \\frac{413.82}$"
      ],
      "text/plain": [
       "<IPython.core.display.Markdown object>"
      ]
     },
     "metadata": {},
     "output_type": "display_data"
    },
    {
     "data": {
      "text/markdown": [
       "$ s^2 = {413.82}$"
      ],
      "text/plain": [
       "<IPython.core.display.Markdown object>"
      ]
     },
     "metadata": {},
     "output_type": "display_data"
    },
    {
     "name": "stdout",
     "output_type": "stream",
     "text": [
      "\n"
     ]
    },
    {
     "data": {
      "text/markdown": [
       "Calculating the estimated standard error..."
      ],
      "text/plain": [
       "<IPython.core.display.Markdown object>"
      ]
     },
     "metadata": {},
     "output_type": "display_data"
    },
    {
     "data": {
      "text/markdown": [
       "$ s_{M_D} = \\sqrt{{\\frac{{s^2}}{{n}}}}$"
      ],
      "text/plain": [
       "<IPython.core.display.Markdown object>"
      ]
     },
     "metadata": {},
     "output_type": "display_data"
    },
    {
     "data": {
      "text/markdown": [
       "$ s_{M_D} = \\sqrt{\\frac{413.82}{10}}$"
      ],
      "text/plain": [
       "<IPython.core.display.Markdown object>"
      ]
     },
     "metadata": {},
     "output_type": "display_data"
    },
    {
     "data": {
      "text/markdown": [
       "$ s_{M_D} = \\sqrt{41.38}$"
      ],
      "text/plain": [
       "<IPython.core.display.Markdown object>"
      ]
     },
     "metadata": {},
     "output_type": "display_data"
    },
    {
     "data": {
      "text/markdown": [
       "$ s_{M_D} = {6.43}$"
      ],
      "text/plain": [
       "<IPython.core.display.Markdown object>"
      ]
     },
     "metadata": {},
     "output_type": "display_data"
    },
    {
     "name": "stdout",
     "output_type": "stream",
     "text": [
      "\n"
     ]
    },
    {
     "data": {
      "text/markdown": [
       "calculating $t_{{obt}}$..."
      ],
      "text/plain": [
       "<IPython.core.display.Markdown object>"
      ]
     },
     "metadata": {},
     "output_type": "display_data"
    },
    {
     "data": {
      "text/markdown": [
       "$t_{{obt}} = {{\\frac{{M_D - \\mu_D}}{{s_{M_D}}}}}$"
      ],
      "text/plain": [
       "<IPython.core.display.Markdown object>"
      ]
     },
     "metadata": {},
     "output_type": "display_data"
    },
    {
     "data": {
      "text/markdown": [
       "$t_{obt} = \\frac{21.4 - 0}{6.43}$"
      ],
      "text/plain": [
       "<IPython.core.display.Markdown object>"
      ]
     },
     "metadata": {},
     "output_type": "display_data"
    },
    {
     "data": {
      "text/markdown": [
       "$t_{obt} = \\frac{21.4}{6.43}$"
      ],
      "text/plain": [
       "<IPython.core.display.Markdown object>"
      ]
     },
     "metadata": {},
     "output_type": "display_data"
    },
    {
     "data": {
      "text/markdown": [
       "$t_{obt} = {3.33}$"
      ],
      "text/plain": [
       "<IPython.core.display.Markdown object>"
      ]
     },
     "metadata": {},
     "output_type": "display_data"
    },
    {
     "name": "stdout",
     "output_type": "stream",
     "text": [
      "\n"
     ]
    },
    {
     "data": {
      "text/markdown": [
       "calculating Cohen's d..."
      ],
      "text/plain": [
       "<IPython.core.display.Markdown object>"
      ]
     },
     "metadata": {},
     "output_type": "display_data"
    },
    {
     "data": {
      "text/markdown": [
       "Cohen's d = $\\frac{{M_D}}{{\\sqrt{{s^2}}}}$"
      ],
      "text/plain": [
       "<IPython.core.display.Markdown object>"
      ]
     },
     "metadata": {},
     "output_type": "display_data"
    },
    {
     "data": {
      "text/markdown": [
       "Cohen's d = $\\frac{21.4}{{{\\sqrt{413.82}}}}$"
      ],
      "text/plain": [
       "<IPython.core.display.Markdown object>"
      ]
     },
     "metadata": {},
     "output_type": "display_data"
    },
    {
     "data": {
      "text/markdown": [
       "Cohen's d = $\\frac{21.4}{20.34}$"
      ],
      "text/plain": [
       "<IPython.core.display.Markdown object>"
      ]
     },
     "metadata": {},
     "output_type": "display_data"
    },
    {
     "data": {
      "text/markdown": [
       "Cohen's d = ${1.05}$"
      ],
      "text/plain": [
       "<IPython.core.display.Markdown object>"
      ]
     },
     "metadata": {},
     "output_type": "display_data"
    },
    {
     "name": "stdout",
     "output_type": "stream",
     "text": [
      "\n"
     ]
    },
    {
     "data": {
      "text/markdown": [
       "$t_{crit} = \\pm{3.25}, \\alpha_{two-tailed} = {0.01}, df = {9}$"
      ],
      "text/plain": [
       "<IPython.core.display.Markdown object>"
      ]
     },
     "metadata": {},
     "output_type": "display_data"
    },
    {
     "name": "stdout",
     "output_type": "stream",
     "text": [
      "fail to reject the null hypothesis, results not significant, t(9) = 1.05, p > 0.01, d = 1.05\n"
     ]
    }
   ],
   "source": [
    "RandomData(groups = 2, n = 10).dependent_samples_t_test()"
   ]
  }
 ],
 "metadata": {
  "kernelspec": {
   "display_name": "base",
   "language": "python",
   "name": "python3"
  },
  "language_info": {
   "codemirror_mode": {
    "name": "ipython",
    "version": 3
   },
   "file_extension": ".py",
   "mimetype": "text/x-python",
   "name": "python",
   "nbconvert_exporter": "python",
   "pygments_lexer": "ipython3",
   "version": "3.12.7"
  }
 },
 "nbformat": 4,
 "nbformat_minor": 2
}
