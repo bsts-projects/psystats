{
 "cells": [
  {
   "cell_type": "markdown",
   "metadata": {},
   "source": [
    "# Hypothesis Testing with *z*-scores and *t*-tests\n"
   ]
  },
  {
   "cell_type": "markdown",
   "metadata": {},
   "source": [
    "## *z*-test\n",
    "\n",
    "conducting a *t*-test with two independent samples"
   ]
  },
  {
   "cell_type": "code",
   "execution_count": null,
   "metadata": {},
   "outputs": [],
   "source": [
    "# @title Click to hide code\n",
    "from stats_project import RandomData\n",
    "data = RandomData(groups = 1, n = 12)\n",
    "data.z_test()"
   ]
  },
  {
   "cell_type": "markdown",
   "metadata": {},
   "source": [
    "## One-Sample *t*-test\n",
    "\n",
    "conducting a *t*-test with two independent samples"
   ]
  },
  {
   "cell_type": "code",
   "execution_count": null,
   "metadata": {},
   "outputs": [],
   "source": [
    "# @title Click to hide code\n",
    "from stats_project import RandomData\n",
    "data = RandomData(groups = 1, n = 10)\n",
    "data.one_sample_t_test()"
   ]
  },
  {
   "cell_type": "markdown",
   "metadata": {},
   "source": [
    "## Independent-Samples *t*-test\n",
    "\n",
    "conducting a *t*-test with two independent samples"
   ]
  },
  {
   "cell_type": "code",
   "execution_count": null,
   "metadata": {},
   "outputs": [],
   "source": [
    "# @title Click to hide code\n",
    "from stats_project import RandomData\n",
    "data = RandomData(groups = 2, n = 10)\n",
    "data.independent_samples_t_test()"
   ]
  },
  {
   "cell_type": "markdown",
   "metadata": {},
   "source": [
    "## Dependent-Samples *t*-test\n",
    "\n",
    "conducting a *t*-test with two independent samples"
   ]
  },
  {
   "cell_type": "code",
   "execution_count": null,
   "metadata": {},
   "outputs": [],
   "source": [
    "# @title Click to hide code\n",
    "from stats_project import RandomData\n",
    "data = RandomData(groups = 2, n = 10)\n",
    "data.dependent_samples_t_test()"
   ]
  }
 ],
 "metadata": {
  "kernelspec": {
   "display_name": "base",
   "language": "python",
   "name": "python3"
  },
  "language_info": {
   "codemirror_mode": {
    "name": "ipython",
    "version": 3
   },
   "file_extension": ".py",
   "mimetype": "text/x-python",
   "name": "python",
   "nbconvert_exporter": "python",
   "pygments_lexer": "ipython3",
   "version": "3.12.7"
  }
 },
 "nbformat": 4,
 "nbformat_minor": 2
}
