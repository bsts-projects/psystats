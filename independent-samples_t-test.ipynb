{
 "cells": [
  {
   "cell_type": "markdown",
   "metadata": {},
   "source": [
    "# Independent Samples *i*-test\n",
    "\n",
    "conducting a *t*-test with two independent samples\n"
   ]
  },
  {
   "cell_type": "code",
   "execution_count": null,
   "metadata": {},
   "outputs": [],
   "source": [
    "# @title Click to hide code\n",
    "import numpy as np\n",
    "import random, math\n",
    "import matplotlib.pyplot as plt\n",
    "import scipy.stats as stats\n",
    "from IPython.display import Markdown, display\n",
    "import seaborn as sns\n",
    "\n"
   ]
  },
  {
   "cell_type": "markdown",
   "metadata": {},
   "source": [
    "from scipy import stats\n",
    "\n",
    "def get_t_critical_value(alpha, df, tail='two-sided'):\n",
    "    \"\"\"\n",
    "    Calculates the critical value for a t-distribution.\n",
    "\n",
    "    Args:\n",
    "        alpha (float): Significance level (e.g., 0.05 for 95% confidence).\n",
    "        df (int): Degrees of freedom.\n",
    "        tail (str, optional): Type of test tail. \n",
    "                              'two-sided' (default), 'one-sided-upper', or 'one-sided-lower'.\n",
    "\n",
    "    Returns:\n",
    "        float: Critical t-value.\n",
    "    \"\"\"\n",
    "    if tail == 'two-sided':\n",
    "        return stats.t.ppf(1 - alpha / 2, df)\n",
    "    elif tail == 'one-sided-upper':\n",
    "         return stats.t.ppf(1 - alpha, df)\n",
    "    elif tail == 'one-sided-lower':\n",
    "        return stats.t.ppf(alpha, df)\n",
    "    else:\n",
    "        raise ValueError(\"Invalid tail type. Choose from 'two-sided', 'one-sided-upper', or 'one-sided-lower'.\")\n",
    "\n",
    "# Example usage:\n",
    "alpha = 0.05  # Significance level\n",
    "df = 29  # Degrees of freedom\n",
    "tail_type = 'two-sided'\n",
    "\n",
    "critical_value = get_t_critical_value(alpha, df, tail_type)\n",
    "print(f\"The critical t-value for alpha={alpha}, df={df} and a {tail_type} test is: {critical_value}\")\n",
    "\n",
    "alpha = 0.01\n",
    "df = 15\n",
    "tail_type = 'one-sided-upper'\n",
    "critical_value = get_t_critical_value(alpha, df, tail_type)\n",
    "print(f\"The critical t-value for alpha={alpha}, df={df} and a {tail_type} test is: {critical_value}\")\n",
    "\n"
   ]
  }
 ],
 "metadata": {
  "kernelspec": {
   "display_name": "base",
   "language": "python",
   "name": "python3"
  },
  "language_info": {
   "name": "python",
   "version": "3.12.7"
  }
 },
 "nbformat": 4,
 "nbformat_minor": 2
}
