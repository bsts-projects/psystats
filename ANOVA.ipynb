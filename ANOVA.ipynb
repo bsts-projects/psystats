{
 "cells": [
  {
   "cell_type": "markdown",
   "id": "72d52109",
   "metadata": {},
   "source": [
    "# Analysis of Variance"
   ]
  },
  {
   "cell_type": "markdown",
   "id": "0757638b",
   "metadata": {},
   "source": [
    "The first block of code must be run before anything else.  It only needs to be run once each time you use the website.  It loads the class and class functions necessary to generate the practice problems.  You can hide the first block (it is long)"
   ]
  },
  {
   "cell_type": "code",
   "execution_count": null,
   "id": "75aed776",
   "metadata": {},
   "outputs": [],
   "source": [
    "# @title Click to hide code\n",
    "import numpy as np\n",
    "import pandas as pd\n",
    "import random, math\n",
    "from scipy import stats\n",
    "from IPython.display import Markdown, display\n",
    "\n",
    "class RandomData():\n",
    "    def __init__(self, groups = 1, n = 10, distribution = \"normal\"):\n",
    "        self.groups = groups\n",
    "        self.n = n # TODO add option for unequal sample sizes.\n",
    "        self.df = self.generate_data()\n",
    "        self.ss = self.sum_of_squares()\n",
    "        self.means = self.group_means()\n",
    "        self.sums = self.col_sums()\n",
    "        self.g = self.anova_g()\n",
    "        self.sum_squared_scores = self.grand_sum_squared_scores()\n",
    "        self.var = self.variance()\n",
    "        self.std = self.stdev()\n",
    "        self.test = \"\" # value is set when a stats function is called\n",
    "        self.alpha = self.set_alpha()\n",
    "        self.tails = int\n",
    "        self.null = int\n",
    "        self.obt = float\n",
    "        self.effect_size = float\n",
    "        self.crit_values = {}; dict\n",
    "        self.significance = bool\n",
    "        if distribution == \"normal\":\n",
    "            self.distribution = distribution \n",
    "        else:\n",
    "            raise ValueError(\"only the normal distribution is currently supported\")\n",
    "            # TODO add the ability to generate data from other distribuions\n",
    "\n",
    "\n",
    "    def set_alpha(self):\n",
    "        self.alpha = random.choice([0.05, 0.01])\n",
    "        return self.alpha\n",
    "        \n",
    "    \n",
    "    def generate_data(self):\n",
    "        self.df = pd.DataFrame()\n",
    "        # list of letters for group labels\n",
    "        letters = \"ABCDEFGHIJKLMNOPQRSTUVWXYZ\"\n",
    "\n",
    "        # create data for each group and add it to the dataframe\n",
    "        for group in range(self.groups):\n",
    "            mean = random.randint(10, 100)\n",
    "            sd = mean * random.uniform(0.05, 0.50)\n",
    "\n",
    "            # generate the sample based on the above values\n",
    "            samples = np.random.normal(mean, sd, self.n)\n",
    "\n",
    "            # round the data so it only includes whole numbers\n",
    "            sample = np.round(samples).astype(int)\n",
    "\n",
    "            # convert to a dataframe to display the data\n",
    "            self.df[f'{letters[group]}'] = sample\n",
    "        return self.df\n",
    "    \n",
    "\n",
    "    def generate_question(self):\n",
    "        # determine the test type\n",
    "\n",
    "        if self.tails == 2:\n",
    "            text = \"significantly different from\"\n",
    "        elif self.tails == 1:\n",
    "            if self.crit_values[\"direction\"] == \"increase\" :\n",
    "                text = \"significantly greater than\"\n",
    "            elif self.crit_values[\"direction\"] == \"decrease\":\n",
    "                text = \"significantly less than\"\n",
    "            else:\n",
    "                return ValueError(\"direction error for generating question\")\n",
    "        else:\n",
    "            return ValueError(\"tails error for question generation\")    \n",
    "\n",
    "        print(self.df)\n",
    "        \n",
    "        if self.test == \"z\":\n",
    "            display(Markdown(f\"Given the following data, is the mean of $Group_A$ {text} ${{{self.null}}}$?  Use a ${{{self.tails}}}$ tailed-test with $\\\\alpha = {{{self.alpha}}}$\"))\n",
    "            display(Markdown(f\"$M_A = {{{self.means[0]}}}$\"))\n",
    "            display(Markdown(f\"$ {{\\\\sigma_A}} = {{{round(self.df['A'].std(ddof = 0), 2)}}}$\"))\n",
    "            display(Markdown(f\"$ n = {{{len(self.df['A'])}}}$\"))\n",
    "        elif self.test == \"one-sample t-test\":\n",
    "            display(Markdown(f\"Given the following data, is the mean of $Group_A$ {text} ${{{self.null}}}$?  Use a ${{{self.tails}}}$ tailed-test with $\\\\alpha = {{{self.alpha}}}$\"))\n",
    "            display(Markdown(f\"$M_A = {{{self.means[0]}}}$\"))\n",
    "            display(Markdown(f\"$s^2 = {{{self.var[0]}}}$\"))\n",
    "            display(Markdown(f\"$ n = {{{len(self.df['A'])}}}$\"))\n",
    "        elif self.test == \"independent-samples t-test\":\n",
    "            display(Markdown(f\"Given the following between-subjects data, is the mean of $Group_A$ {text} the mean of $Group_B$?  Use a ${{{self.tails}}}$ tailed-test with $\\\\alpha = {{{self.alpha}}}$\"))\n",
    "            display(Markdown(f\"$M_A = {{{self.means[0]}}}, M_B = {{{self.means[1]}}}$\"))\n",
    "            display(Markdown(f\"$SS_A = {{{self.ss[0]}}}, SS_B = {{{self.ss[1]}}}$\"))\n",
    "            display(Markdown(f\"$ n_A = {{{len(self.df['A'])}}}, n_B = {{{len(self.df['B'])}}}$\"))\n",
    "        elif self.test == \"dependent-samples t-test\":\n",
    "            display(Markdown(f\"Given the following within-subjects data, is $M_D$ {text} ${{{self.null}}}$?  Use a ${{{self.tails}}}$ tailed-test with $\\\\alpha = {{{self.alpha}}}$\"))\n",
    "            display(Markdown(f\"$M_A = {{{self.means[0]}}}, M_B = {{{self.means[1]}}}$\"))\n",
    "            display(Markdown(f\"$ n = {{{len(self.df['A'])}}}$\"))\n",
    "        elif self.test == \"one-way ANOVA\":\n",
    "            display(Markdown(f\"Given the following between-subjects data, use a one-way ANOVA with $\\\\alpha = {{{self.alpha}}}$\"))\n",
    "            display(Markdown(f\"$G = {{{self.g}}}, \\\\Sigma X^2 = {{{self.sum_squared_scores}}}, k = {{{self.groups}}}, N = {{{self.groups * self.n}}}$\"))\n",
    "            letters = \"ABCDEFGHIJKLMNOPQRSTUVWXYZ\"\n",
    "            for group in range(self.groups):\n",
    "                display(Markdown(f\"$T_{{{letters[group]}}} = {{{self.sums[group]}}}, SS_{{{letters[group]}}} = {{{self.ss[group]}}}$\"))   \n",
    "        elif self.test == \"repeated-measures ANOVA\":\n",
    "            display(Markdown(f\"Given the following within-subjects data, use a repeated-measures ANOVA with $\\\\alpha = {{{self.alpha}}}$\"))\n",
    "            display(Markdown(f\"$G = {{{self.g}}}, \\\\Sigma X^2 = {{{self.sum_squared_scores}}}, k = {{{self.groups}}}, N = {{{self.groups * self.n}}}$\"))\n",
    "            letters = \"ABCDEFGHIJKLMNOPQRSTUVWXYZ\"\n",
    "            for group in range(self.groups):\n",
    "                display(Markdown(f\"$T_{{{letters[group]}}} = {{{self.sums[group]}}}, SS_{{{letters[group]}}} = {{{self.ss[group]}}}$\"))  \n",
    "        else:\n",
    "            return ValueError(\"test-type specification error in question geneneration\")\n",
    "       \n",
    "        \n",
    "    def final_decision(self):\n",
    "        if self.tails == 2:\n",
    "            if self.obt > self.crit_values[\"positive\"] or self.obt < self.crit_values[\"negative\"]:\n",
    "                self.significance = True\n",
    "            else:\n",
    "                self.significance = False\n",
    "        elif self.tails == 1:\n",
    "            if self.crit_values[\"direction\"] == \"increase\" and self.obt > self.crit_values[\"positive\"]:\n",
    "                self.significance = True\n",
    "            elif self.crit_values[\"direction\"] == \"decrease\" and self.obt < self.crit_values[\"negative\"]:\n",
    "                self.significance = True\n",
    "            else:\n",
    "                self.significance = False\n",
    "        else:\n",
    "            return ValueError(\"error in tails specification for final decision\")\n",
    "        \n",
    "        return self.significance \n",
    "    \n",
    "\n",
    "    def write_result(self):\n",
    "        # TODO add more elaborate functionality for the results\n",
    "        if self.test in [\"independent-samples t-test\", \"one-sample t-test\", \"dependent-samples t-test\"]:\n",
    "            # print the critical value for the test\n",
    "            if self.tails == 2:\n",
    "                display(Markdown(f\"$t_{{crit}} = \\\\pm{{{self.crit_values['positive']}}}, \\\\alpha_{{two-tailed}} = {{{self.alpha}}}, df = {{{self.crit_values['degf']}}}$\"))\n",
    "            elif self.tails == 1 and self.crit_values[\"direction\"] == \"increase\":\n",
    "                display(Markdown(f\"$t_{{crit}} = +{{{self.crit_values['positive']}}}, \\\\alpha_{{one-tailed}} = {{{self.alpha}}}, df = {{{self.crit_values['degf']}}}$\"))\n",
    "            elif self.tails == 1 and self.crit_values[\"direction\"] == \"decrease\":\n",
    "                display(Markdown(f\"$t_{{crit}} = {{{self.crit_values['negative']}}}, \\\\alpha_{{one-tailed}} = {{{self.alpha}}}, df = {{{self.crit_values['degf']}}}$\"))\n",
    "            else:\n",
    "                return ValueError(\"tails error in writing results\")\n",
    "            # determine significance\n",
    "            if self.significance:\n",
    "                print(f\"reject the null hypothesis, results are significant, t({self.crit_values['degf']}) = {self.obt}, p < {self.alpha}, d = {self.effect_size}\")\n",
    "            elif not self.significance:\n",
    "                print(f\"fail to reject the null hypothesis, results not significant, t({self.crit_values['degf']}) = {self.obt}, p > {self.alpha}, d = {self.effect_size}\")\n",
    "            else:\n",
    "                return ValueError(\"significance boolean error in writing results\")\n",
    "        elif self.test == \"z\":\n",
    "            # print the critical value of t\n",
    "            if self.tails == 2:\n",
    "                display(Markdown(f\"$z_{{crit}} = \\\\pm{{{self.crit_values['positive']}}}, \\\\alpha_{{two-tailed}} = {{{self.alpha}}}$\"))\n",
    "            elif self.tails == 1 and self.crit_values[\"direction\"] == \"increase\":\n",
    "                display(Markdown(f\"$z_{{crit}} = +{{{self.crit_values['positive']}}}, \\\\alpha_{{one-tailed}} = {{{self.alpha}}}$\"))\n",
    "            elif self.tails == 1 and self.crit_values[\"direction\"] == \"decrease\":\n",
    "                display(Markdown(f\"$z_{{crit}} = {{{self.crit_values['negative']}}}, \\\\alpha_{{one-tailed}} = {{{self.alpha}}}$\"))\n",
    "            else:\n",
    "                return ValueError(\"tails error in writing results\")\n",
    "            # determine significance\n",
    "            if self.significance:\n",
    "                print(f\"reject the null hypothesis, results are significant, z = {self.obt}, p < {self.alpha}, d = {self.effect_size}\")\n",
    "            elif not self.significance:\n",
    "                print(f\"fail to reject the null hypothesis, results not significant, z = {self.obt}, p > {self.alpha}, d = {self.effect_size}\")\n",
    "            else:\n",
    "                return ValueError(\"significance boolean error in writing results\")\n",
    "        elif self.test in [\"one-way ANOVA\", \"repeated-measures ANOVA\"]:\n",
    "            display(Markdown(f\"$F_{{crit}} = {{{self.crit_values['positive']}}}, \\\\alpha = {{{self.alpha}}}$\"))\n",
    "            if self.significance:\n",
    "                display(Markdown(f\"reject the null hypothesis, results are significant, $ F({{{self.crit_values['degf_n']}}}, {{{self.crit_values['degf_d']}}}) = {{{self.obt}}}, p < {{{self.alpha}}}, \\\\eta^2 = {{{self.effect_size}}}$\"))\n",
    "            elif not self.significance:\n",
    "                display(Markdown(f\"fail to reject the null hypothesis, results not significant, $ F({{{self.crit_values['degf_n']}}}, {{{self.crit_values['degf_d']}}}) = {{{self.obt}}}, p > {{{self.alpha}}}, \\\\eta^2 = {{{self.effect_size}}}$\"))\n",
    "\n",
    "        else:\n",
    "            return ValueError(\"test specificaion error when writing results\")\n",
    "        \n",
    "        \n",
    "    def set_null_hypothesis(self):\n",
    "        # for one sample tests, sets a null hypothess between -3 to + 3 x the mean\n",
    "        if  self.test in [\"one-sample t-test\", \"z\"]:\n",
    "            mean = self.means[0]\n",
    "            multiplier = random.uniform(-3, 3)\n",
    "            self.null = round(mean * multiplier)\n",
    "        else:\n",
    "            self.null = 0\n",
    "        return self.null\n",
    "\n",
    "\n",
    "    def sum_of_squares(self):  # calculating the values presented in the problem.\n",
    "        ss = []\n",
    "        for column in self.df: \n",
    "            sum_scores = self.df[column].sum()\n",
    "            sum_sqared_scores= (self.df[column].apply(lambda x: x ** 2)).sum()  \n",
    "            ss_vals = sum_sqared_scores - round((sum_scores ** 2)/self.n, 2)\n",
    "            ss.append(round(ss_vals, 2))\n",
    "        return ss\n",
    "\n",
    "\n",
    "    def group_means(self):\n",
    "        means = []\n",
    "        for column in self.df:\n",
    "            means.append(round(self.df[column].mean(), 2))  \n",
    "        return means\n",
    "    \n",
    "\n",
    "    def variance(self):\n",
    "        vars = []\n",
    "        for column in self.df:\n",
    "            vars.append(round(self.df[column].var(ddof = 1), 2))\n",
    "        return vars\n",
    "\n",
    "\n",
    "    def stdev(self):\n",
    "        stdevs = []\n",
    "        for column in self.df:\n",
    "            stdevs.append(round(self.df[column].std(ddof = 1), 2))\n",
    "        return stdevs\n",
    "    \n",
    "\n",
    "    def col_sums(self):\n",
    "        sums = []\n",
    "        for column in self.df:\n",
    "            sums.append(self.df[column].sum())\n",
    "        return sums\n",
    "\n",
    "\n",
    "    def anova_g(self):\n",
    "        g = 0\n",
    "        for column in self.df:\n",
    "            g += self.df[column].sum()\n",
    "        return g\n",
    "    \n",
    "\n",
    "    def grand_sum_squared_scores(self): # for anova\n",
    "        sum_squared_scores = 0\n",
    "        for column in self.df: \n",
    "            score = (self.df[column].apply(lambda x: x ** 2)).sum()  \n",
    "            sum_squared_scores += score\n",
    "        return sum_squared_scores\n",
    "    \n",
    "\n",
    "    def critical_value(self):\n",
    "        # calculate the degrees of freedom based on the type of test used\n",
    "        if self.test == \"independent-samples t-test\":\n",
    "            degf = (self.n - 1) + (self.n - 1)\n",
    "            self.tails = random.choice([1, 2])\n",
    "            if self.tails == 1:\n",
    "                crit = round(stats.t.ppf(1 - self.alpha, degf), 2)\n",
    "            elif self.tails == 2:\n",
    "                crit = round(stats.t.ppf(1 - self.alpha/2, degf), 2)\n",
    "            self.crit_values = {\"positive\": crit, \"negative\": -crit, \"degf\": degf}\n",
    "\n",
    "        elif self.test == \"one-sample t-test\" or self.test == \"dependent-samples t-test\":\n",
    "            degf = self.n - 1\n",
    "            self.tails = random.choice([1, 2])\n",
    "            if self.tails == 1:\n",
    "                crit = round(stats.t.ppf(1 - self.alpha, degf), 2)\n",
    "            elif self.tails == 2:\n",
    "                crit = round(stats.t.ppf(1 - self.alpha/2, degf), 2)\n",
    "            self.crit_values = {\"positive\": crit, \"negative\": -crit, \"degf\": degf}\n",
    "\n",
    "        # TODO manually specify crit values for z scores.  or figure out why the math is incorrect\n",
    "        elif self.test == \"z\":\n",
    "            self.tails = random.choice([1, 2])\n",
    "            if self.tails == 1:\n",
    "                crit = round(stats.norm.ppf(1 - self.alpha), 2)\n",
    "            elif self.tails == 2:\n",
    "                crit = round(stats.norm.ppf(1 - self.alpha/2), 2)\n",
    "            self.crit_values = {\"positive\": crit, \"negative\": -crit}\n",
    "        \n",
    "        elif self.test == \"one-way ANOVA\":\n",
    "            degf_w = (self.n * self.groups) - self.groups\n",
    "            degf_b = self.groups - 1\n",
    "            self.tails = 1\n",
    "            crit = round(stats.f.ppf(q = (1 - self.alpha), dfn = degf_b, dfd = degf_w), 2)\n",
    "            self.crit_values = {\"positive\": crit, \"degf_d\": degf_w, \"degf_n\": degf_b}\n",
    "            \n",
    "        elif self.test == \"repeated-measures ANOVA\":\n",
    "            degf_e = ((self.n * self.groups) - self.groups) - (self.n - 1)\n",
    "            degf_b = self.groups - 1\n",
    "            self.tails = 1\n",
    "            crit = round(stats.f.ppf(q = (1 - self.alpha), dfn = degf_b, dfd = degf_e), 2)\n",
    "            self.crit_values = {\"positive\": crit, \"degf_d\": degf_e, \"degf_n\": degf_b}\n",
    "\n",
    "\n",
    "        else:\n",
    "            raise ValueError(\"incorrect test specification - degrees of freedom\")\n",
    "\n",
    "        # add a direction for one-tailed tests \n",
    "        if self.test in [\"one-way ANOVA\", \"repeated-measures ANOVA\"]:\n",
    "            self.crit_values[\"direction\"] = \"increase\"\n",
    "        else:\n",
    "            if self.tails == 1:  \n",
    "                direction = random.choice([\"increase\", \"decrease\"])\n",
    "                self.crit_values[\"direction\"] = direction\n",
    "            else:\n",
    "                return ValueError(\"tails must be 1 for directional crit values\")\n",
    "        return self.crit_values\n",
    "\n",
    "\n",
    "    def z_test(self):\n",
    "        if len(self.df.columns) > 1:\n",
    "            raise Exception(\"Data contains more than one sample\")\n",
    "        elif len(self.df.columns) == 0:\n",
    "            raise Exception(\"Dataframe error: no data columns\")\n",
    "        else:\n",
    "            self.test = \"z\"\n",
    "\n",
    "            # set the null and write out the question\n",
    "            self.set_null_hypothesis()\n",
    "            self.critical_value()\n",
    "            self.generate_question()\n",
    "\n",
    "            # calculate the standard error\n",
    "            # TODO double check the work here to make sure it is accurate\n",
    "            sd = round(self.df['A'].std(ddof = 0), 2)\n",
    "            n = len(self.df['A'])\n",
    "            sem = round(sd/(round(math.sqrt(n),2)),2)\n",
    "            self.obt = round((self.means[0] - self.null) / sem, 2)\n",
    "            self.effect_size = round((self.means[0] - self.null) / sd, 2)\n",
    "\n",
    "            # TODO add a way to determine environment so output can display in terminal or notebook\n",
    "            # print calculations for the standard error\n",
    "            display(Markdown(\"Calculating the standard error...\"))\n",
    "            display(Markdown(f\"$\\\\sigma_M = \\\\frac{{\\\\sigma}}{{\\\\sqrt{{N}}}}$\"))\n",
    "            display(Markdown(f\"$\\\\sigma_M = \\\\frac{{{sd}}}{{\\\\sqrt{n}}}$\"))\n",
    "            display(Markdown(f\"$\\\\sigma_M = \\\\frac{{{sd}}}{{{round(math.sqrt(n),2)}}}$\"))\n",
    "            display(Markdown(f\"$\\\\sigma_M = {{{sem}}}$\"))\n",
    "            print() # blank space\n",
    "            # print the caluclations for z_obt\n",
    "            display(Markdown(\"calculating $z_{{obt}}$...\"))\n",
    "            display(Markdown(f\"$z_{{obt}} = {{\\\\frac{{M - \\\\mu}}{{\\\\sigma_M}}}}$\"))\n",
    "            display(Markdown(f\"$z_{{obt}} = \\\\frac{{{self.means[0]} - {self.null}}}{{{sem}}}$\"))\n",
    "            display(Markdown(f\"$z_{{obt}} = \\\\frac{{{self.means[0] - self.null}}}{{{sem}}}$\"))\n",
    "            display(Markdown(f\"$z_{{obt}} = {{{self.obt}}}$\"))\n",
    "            print() # blank space\n",
    "            # print calculations for cohen's d\n",
    "            display(Markdown(\"calculating Cohen's d...\"))\n",
    "            display(Markdown(\"Cohen's d = $\\\\frac{{M - \\\\mu}}{{\\\\sigma}}$\"))\n",
    "            display(Markdown(f\"Cohen's d = $\\\\frac{{{self.means[0]} - {self.null}}}{{{sd}}}$\"))\n",
    "            display(Markdown(f\"Cohen's d = $\\\\frac{{{self.means[0] - self.null}}}{{{sd}}}$\"))\n",
    "            display(Markdown(f\"Cohen's d = ${{{self.effect_size}}}$\"))\n",
    "            print() # blank space\n",
    "\n",
    "            self.significance = self.final_decision()\n",
    "            self.write_result()\n",
    "\n",
    "            # return self.obt - not returning b/c it was printing out the value of self.obt.  need to figure out why but commenting out fixed it\n",
    "\n",
    "\n",
    "    def one_sample_t_test(self):\n",
    "        if len(self.df.columns) > 1:\n",
    "            raise Exception(\"Data contains more than one sample\")\n",
    "        elif len(self.df.columns) == 0:\n",
    "            raise Exception(\"Dataframe error: no data columns\")\n",
    "        else:\n",
    "            self.test = \"one-sample t-test\"   \n",
    "            \n",
    "            # set the null and write out the question\n",
    "            self.set_null_hypothesis()\n",
    "            self.critical_value()\n",
    "            self.generate_question()\n",
    "\n",
    "            # calculate the standard error\n",
    "            sem = round(math.sqrt(round((self.var[0]/self.n),2)),2)\n",
    "            self.obt = round((self.means[0] - self.null) / sem, 2)\n",
    "            self.effect_size = round((self.means[0] - self.null) / self.std[0], 2)\n",
    "\n",
    "            # print the caluclations for the standard error\n",
    "            # TODO add a way to determine environment so output can display in terminal or notebook\n",
    "            print(\"calculating the standard error...\")\n",
    "            display(Markdown(\"$s_M = \\\\sqrt{{\\\\frac{{s^2}}{{n}}}}$\"))\n",
    "            display(Markdown(f\"$s_M = \\\\sqrt{{\\\\frac{{{self.var[0]}}}{{{self.n}}}}}$\"))\n",
    "            display(Markdown(f\"$s_M = \\\\sqrt{{{round((self.var[0]/self.n),2)}}}$\"))\n",
    "            display(Markdown(f\"$s_M = {{{sem}}}$\"))\n",
    "            print() # blank space\n",
    "            # print the caluclations for t_obt\n",
    "            display(Markdown(\"calculating $t_{{obt}}$...\"))\n",
    "            display(Markdown(f\"$t_{{obt}} = {{\\\\frac{{M - \\\\mu}}{{s_M}}}}$\"))\n",
    "            display(Markdown(f\"$t_{{obt}} = \\\\frac{{{self.means[0]} - {self.null}}}{{{sem}}}$\"))\n",
    "            display(Markdown(f\"$t_{{obt}} = \\\\frac{{{self.means[0] - self.null}}}{{{sem}}}$\"))\n",
    "            display(Markdown(f\"$t_{{obt}} = {{{self.obt}}}$\"))\n",
    "            print() # blank space\n",
    "            # print calculations for cohen's d\n",
    "            display(Markdown(\"calculating Cohen's d...\"))\n",
    "            display(Markdown(\"Cohen's d = $\\\\frac{{M - \\\\mu}}{{s}}$\"))\n",
    "            display(Markdown(f\"Cohen's d = $\\\\frac{{{self.means[0]} - {self.null}}}{{{self.std[0]}}}$\"))\n",
    "            display(Markdown(f\"Cohen's d = $\\\\frac{{{self.means[0] - self.null}}}{{{self.std[0]}}}$\"))\n",
    "            display(Markdown(f\"Cohen's d = ${{{self.effect_size}}}$\"))\n",
    "            print() # blank space\n",
    "\n",
    "            self.significance = self.final_decision()\n",
    "            self.write_result()\n",
    "\n",
    "            # return self.obt - not returning b/c it was printing out the value of self.obt.  need to figure out why but commenting out fixed it        \n",
    "\n",
    "\n",
    "    def independent_samples_t_test(self):\n",
    "        if len(self.df.columns) == 1 or len(self.df.columns) > 2:\n",
    "            raise ValueError(\"Data does not contain two samples\")\n",
    "        elif len(self.df.columns) == 0:\n",
    "            raise ValueError(\"Dataframe error: no data columns\")\n",
    "        else: \n",
    "            self.test = \"independent-samples t-test\"           \n",
    "                        \n",
    "            # set the null and write out the question\n",
    "            self.set_null_hypothesis()\n",
    "            self.critical_value()\n",
    "            self.generate_question()\n",
    "            \n",
    "            # primary calculations\n",
    "            pooled_var = round(((self.ss[0] + self.ss[1]) / ((self.n - 1) + (self.n - 1))), 2)\n",
    "            sem = round(math.sqrt((round((pooled_var/self.n),2))+(round((pooled_var/self.n),2))),2)\n",
    "            self.obt = round(((self.means[0] - self.means[1]) - self.null) / sem, 2)\n",
    "            self.effect_size = round(((self.means[0] - self.means[1])) / round(math.sqrt(pooled_var),2), 2)\n",
    "\n",
    "            # TODO adapt to display in the terminal or a notebook\n",
    "            # display the caluclations for the pooled variance\n",
    "            print(\"calculating the pooled variance...\")\n",
    "            display(Markdown(\"$s_p^2 = {{\\\\frac{{SS_A + SS_B}}{{df_A + df_B}}}}$\"))\n",
    "            display(Markdown(f\"$s_p^2 = {{\\\\frac{{{self.ss[0]} + {self.ss[1]}}}{{{self.n - 1} + {self.n - 1}}}}}$\"))\n",
    "            display(Markdown(f\"$s_p^2 = \\\\frac{{{round(self.ss[0] + self.ss[1],2)}}}{{{(self.n - 1) + (self.n - 1)}}}$\"))\n",
    "            display(Markdown(f\"$s_p^2 = {{{pooled_var}}}$\"))\n",
    "            # display the calculations for the estimated standard error\n",
    "            print(\"calculating the estimated standard error of the difference between means...\")\n",
    "            display(Markdown(\"$s_{{(M_A - M_B)}} = \\\\sqrt{{\\\\frac{{s_p^2}}{{n_1}} + \\\\frac{{s_p^2}}{{n_1}}}}$\"))\n",
    "            display(Markdown(f\"$s_{{(M_A - M_B)}} = \\\\sqrt{{\\\\frac{{{pooled_var}}}{{{self.n}}} + \\\\frac{{{pooled_var}}}{{{self.n}}}}}$\"))\n",
    "            display(Markdown(f\"$s_{{(M_A - M_B)}} = \\\\sqrt{{{round(pooled_var/self.n, 2)} + {round(pooled_var/self.n, 2)}}}$\"))\n",
    "            display(Markdown(f\"$s_{{(M_A - M_B)}} = \\\\sqrt{{{round(pooled_var/self.n, 2) + round(pooled_var/self.n, 2)}}}$\"))\n",
    "            display(Markdown(f\"$s_{{(M_A - M_B)}} = {{{sem}}}$\"))\n",
    "            # display the caluclations for t_obt\n",
    "            display(Markdown(\"calculating $t_{{obt}}$...\"))\n",
    "            display(Markdown(f\"$t_{{obt}} = {{\\\\frac{{(M_A - M_B) - (\\\\mu_A - \\\\mu_B)}}{{s_{{(M_A - M_B)}}}}}}$\"))\n",
    "            display(Markdown(f\"$t_{{obt}} = \\\\frac{{({self.means[0]} - {self.means[1]}) - {{{self.null}}}}}{{{sem}}}$\")) \n",
    "            display(Markdown(f\"$t_{{obt}} = \\\\frac{{{round(self.means[0] - self.means[1] - self.null, 2)}}}{{{sem}}}$\"))\n",
    "            display(Markdown(f\"$t_{{obt}} = {{{self.obt}}}$\"))\n",
    "            print() # blank space\n",
    "            # print calculations for cohen's d\n",
    "            display(Markdown(\"calculating Cohen's d...\"))\n",
    "            display(Markdown(\"Cohen's d = $\\\\frac{{M_A - M_B}}{{\\\\sqrt{{{s_p^2}}}}}$\"))\n",
    "            display(Markdown(f\"Cohen's d = $\\\\frac{{({self.means[0]} - {self.means[1]})}}{{{{{{\\\\sqrt{{{pooled_var}}}}}}}}}$\"))\n",
    "            display(Markdown(f\"Cohen's d = $\\\\frac{{({self.means[0] - self.means[1]})}}{{{round(math.sqrt(pooled_var),2)}}}$\"))\n",
    "            display(Markdown(f\"Cohen's d = ${{{self.effect_size}}}$\"))\n",
    "            print() # blank space\n",
    "\n",
    "            self.significance = self.final_decision()\n",
    "            self.write_result()\n",
    "\n",
    "            # return self.obt - not returning b/c it was printing out the value of self.obt.  need to figure out why but commenting out fixed it\n",
    "        \n",
    "\n",
    "    def dependent_samples_t_test(self):\n",
    "        if len(self.df.columns) == 1 or len(self.df.columns) > 2:\n",
    "            raise ValueError(\"Data does not contain two samples\")\n",
    "        elif len(self.df.columns) == 0:\n",
    "            raise ValueError(\"Dataframe error: no data columns\")\n",
    "        else:\n",
    "            self.test = \"dependent-samples t-test\"     \n",
    "            \n",
    "            # set the null and write out the question\n",
    "            self.set_null_hypothesis()\n",
    "            self.critical_value()\n",
    "            self.generate_question()\n",
    "\n",
    "            # primary calculations\n",
    "            # need to gather the difference scores\n",
    "            self.df['D'] = self.df['B'] - self.df['A']\n",
    "            \n",
    "            # print the dataframe with the difference scores\n",
    "            display(Markdown(\"Calculating the difference scores $D = X_B - X_A$\"))\n",
    "            print(self.df.to_string(index = False))\n",
    "            print() # blank space\n",
    "            # Calculate the Mean of the Difference Scores\n",
    "            sum_d = self.df['D'].sum()\n",
    "            n = len(self.df['D'])\n",
    "            mean_d = round(sum_d/n, 2)\n",
    "            display(Markdown(\"Calculating the Mean of the Difference Scores...\"))\n",
    "            display(Markdown(\"$M_D = \\\\frac{{\\\\Sigma D}}{{n}}$\"))\n",
    "            display(Markdown(f\"$M_D = \\\\frac{{{sum_d}}}{{{n}}}$\"))\n",
    "            display(Markdown(f\"$M_D = {{{mean_d}}}$\"))\n",
    "            print() # blank space\n",
    "            # calculate the SS for the difference scores\n",
    "            self.df['D^2'] = self.df['D'].apply(lambda x: x ** 2)\n",
    "            sum_sqared_scores = self.df['D^2'].sum()\n",
    "            ss = round(sum_sqared_scores - round((sum_d ** 2)/n, 2), 2)\n",
    "            # print the dataframe with the squared difference scores\n",
    "            display(Markdown(\"Calculating the sum of the squared deviations...\"))\n",
    "            print(self.df.to_string(index = False))\n",
    "            display(Markdown(\"$ SS_D = \\\\Sigma D^2 - \\\\frac{{(\\\\Sigma D)^2}}{{n}}$\"))\n",
    "            display(Markdown(f\"$ SS_D = {{{sum_sqared_scores}}} - \\\\frac{{{sum_d ** 2}}}{{{n}}}$\"))\n",
    "            display(Markdown(f\"$ SS_D = {{{sum_sqared_scores}}} - {{{round((sum_d ** 2)/n, 2)}}}$\"))\n",
    "            display(Markdown(f\"$ SS_D = {{{ss}}}$\"))\n",
    "            print() # blank space\n",
    "            # calculate the variance    \n",
    "            variance = round(ss / (n - 1), 2)\n",
    "            display(Markdown(\"$ s^2 = \\\\frac{{SS_D}}{{df}}$\")) \n",
    "            display(Markdown(f\"$ s^2 = \\\\frac{{{ss}}}{{{n - 1}}}$\"))   \n",
    "            display(Markdown(f\"$ s^2 = \\\\frac{{{round(ss/(n - 1), 2)}}}$\"))\n",
    "            display(Markdown(f\"$ s^2 = {{{variance}}}$\"))  \n",
    "            print() # blank space\n",
    "            # Calculate the estimated standard error\n",
    "            sem = round(math.sqrt(variance/n), 2)\n",
    "            display(Markdown(\"Calculating the estimated standard error...\"))\n",
    "            display(Markdown(\"$ s_{M_D} = \\\\sqrt{{\\\\frac{{s^2}}{{n}}}}$\"))\n",
    "            display(Markdown(f\"$ s_{{M_D}} = \\\\sqrt{{\\\\frac{{{variance}}}{{{n}}}}}$\"))\n",
    "            display(Markdown(f\"$ s_{{M_D}} = \\\\sqrt{{{round(variance/n, 2)}}}$\"))\n",
    "            display(Markdown(f\"$ s_{{M_D}} = {{{sem}}}$\"))\n",
    "            print() # blank space\n",
    "            # caclulate the t-statistic\n",
    "            self.obt = round((mean_d - self.null) / sem, 2)\n",
    "            display(Markdown(\"calculating $t_{{obt}}$...\"))\n",
    "            display(Markdown(\"$t_{{obt}} = {{\\\\frac{{M_D - \\\\mu_D}}{{s_{M_D}}}}}$\"))\n",
    "            display(Markdown(f\"$t_{{obt}} = \\\\frac{{{mean_d} - {self.null}}}{{{sem}}}$\"))\n",
    "            display(Markdown(f\"$t_{{obt}} = \\\\frac{{{mean_d - self.null}}}{{{sem}}}$\"))\n",
    "            display(Markdown(f\"$t_{{obt}} = {{{self.obt}}}$\"))\n",
    "            print() # blank space\n",
    "            # print calculations for cohen's d\n",
    "            self.effect_size = round(mean_d / round(math.sqrt(variance),2), 2)\n",
    "            display(Markdown(\"calculating Cohen's d...\"))\n",
    "            display(Markdown(\"Cohen's d = $\\\\frac{{M_D}}{{\\\\sqrt{{s^2}}}}$\"))\n",
    "            display(Markdown(f\"Cohen's d = $\\\\frac{{{mean_d}}}{{{{{{\\\\sqrt{{{variance}}}}}}}}}$\"))\n",
    "            display(Markdown(f\"Cohen's d = $\\\\frac{{{mean_d}}}{{{round(math.sqrt(variance),2)}}}$\"))\n",
    "            display(Markdown(f\"Cohen's d = ${{{self.effect_size}}}$\"))\n",
    "            print() # blank space\n",
    "\n",
    "            self.significance = self.final_decision()\n",
    "            self.write_result()\n",
    "\n",
    "            # return self.obt - not returning b/c it was printing out the value of self.obt.  need to figure out why but commenting out fixed it\n",
    "\n",
    "\n",
    "    def anova(self, test: str):\n",
    "        if len(self.df.columns) == 1:\n",
    "            raise ValueError(\"Data does not contain at least two samples\")\n",
    "        elif len(self.df.columns) == 0:\n",
    "            raise ValueError(\"Dataframe error: no data columns\")\n",
    "        else:\n",
    "            if test == \"one-way\":\n",
    "                self.test = \"one-way ANOVA\"     \n",
    "            elif test == \"repeated-measures\":\n",
    "                self.test = \"repeated-measures ANOVA\"\n",
    "            else:\n",
    "                raise ValueError(\"test must be set to: 'one-way', 'repeated-measures'\")\n",
    "\n",
    "            # set the null and write out the question\n",
    "            self.set_null_hypothesis()\n",
    "            self.critical_value()\n",
    "            self.generate_question()\n",
    "\n",
    "            # Primary Calculations\n",
    "            big_n = self.groups * self.n\n",
    "            \n",
    "            # degrees of freedom\n",
    "            df_total = big_n - 1\n",
    "            df_between = self.groups - 1\n",
    "            df_within = big_n - self.groups\n",
    "\n",
    "            print() # blank space\n",
    "            if test == \"repeated-measures\":\n",
    "                print(\"Stage 1 Calculations:\")\n",
    "\n",
    "            print(\"calculating the degrees of freedom...\")\n",
    "    \n",
    "            display(Markdown(f\"$df_{{total}} = N - 1$\"))\n",
    "            display(Markdown(f\"$df_{{total}} = {{{big_n}}} - 1$\"))\n",
    "            display(Markdown(f\"$df_{{total}} = {{{df_total}}}$\"))\n",
    "            print() # blank space\n",
    "\n",
    "            display(Markdown(f\"$df_{{between}} = k - 1 $\"))\n",
    "            display(Markdown(f\"$df_{{between}} = {{{self.groups}}} - 1 $\"))\n",
    "            display(Markdown(f\"$df_{{between}} = {{{df_between}}}$\"))\n",
    "            print() # blank space\n",
    "\n",
    "            display(Markdown(f\"$df_{{within}} = N - K $\"))\n",
    "            display(Markdown(f\"$df_{{within}} = {{{big_n}}} - {{{self.groups}}} $\"))\n",
    "            display(Markdown(f\"$df_{{within}} = {{{df_within}}}$\"))\n",
    "            print() # blank space\n",
    "\n",
    "            # sum of squares\n",
    "            ss_total = self.sum_squared_scores - round(((self.g**2)/big_n), 2)\n",
    "            ss_within = 0\n",
    "            for group in range(self.groups):\n",
    "                ss_within += self.ss[group]\n",
    "            ss_between = ss_total - ss_within\n",
    "\n",
    "            print(\"calulating the sum of squares...\")\n",
    "            display(Markdown(f\"$ SS_{{total}} = \\\\Sigma X^2 - \\\\frac{{G^2}}{{N}} $\"))\n",
    "            display(Markdown(f\"$ SS_{{total}} = {{{self.sum_squared_scores}}} - \\\\frac{{{self.g}^2}}{{{big_n}}} $\"))\n",
    "            display(Markdown(f\"$ SS_{{total}} = {{{self.sum_squared_scores}}} - \\\\frac{{{self.g**2}}}{{{big_n}}} $\"))\n",
    "            display(Markdown(f\"$ SS_{{total}} = {{{self.sum_squared_scores}}} - {{{round(((self.g**2)/big_n), 2)}}} $\"))\n",
    "            display(Markdown(f\"$ SS_{{total}} = {{{round(ss_total, 2)}}} $\"))\n",
    "            print() # blank space\n",
    "\n",
    "            display(Markdown(f\"$ SS_{{within}} = \\\\Sigma SS_{{inside\\\\_each\\\\_condition}} $\"))\n",
    "            values = \"\"\n",
    "            for group in range(self.groups):\n",
    "                if group == 0:\n",
    "                    values += f\"{self.ss[group]}\"\n",
    "                else:\n",
    "                    values += f\" + {self.ss[group]}\"\n",
    "            display(Markdown(f\"$ SS_{{within}} = {{{values}}}$\"))\n",
    "            display(Markdown(f\"$ SS_{{within}} = {{{round(ss_within, 2)}}}$\"))\n",
    "            print() # blank space\n",
    "\n",
    "            display(Markdown(f\"$ SS_{{between}} = SS_{{total}} - SS_{{within}} $\"))\n",
    "            display(Markdown(f\"$ SS_{{between}} = {{{round(ss_total, 2)}}} - {{{round(ss_within, 2)}}} $\"))\n",
    "            display(Markdown(f\"$ SS_{{between}} = {{{round(ss_between, 2)}}} $\"))\n",
    "            print() # blank space\n",
    "\n",
    "            display(Markdown(\"note: the other way to calculate $SS_{{betwen}}$ is:\"))\n",
    "            display(Markdown(\"$ SS_{{between}} = \\\\Sigma{{\\\\frac{{T^2}}{{n}}}} - \\\\frac{{G^2}}{{N}} $\"))\n",
    "            print() # blank space\n",
    "\n",
    "            if self.test == \"repeated-measures ANOVA\":\n",
    "                # degrees of freedom\n",
    "                df_subjects = self.n - 1\n",
    "                df_error = df_within - df_subjects\n",
    "                \n",
    "                print(\"Stage 2 Calculations:\")\n",
    "                print(\"partitioning the degrees of freedom...\")\n",
    "\n",
    "                display(Markdown(f\"$df_{{subjects}} = n - 1 $\"))\n",
    "                display(Markdown(f\"$df_{{subjects}} = {{{self.n}}} - 1 $\"))\n",
    "                display(Markdown(f\"$df_{{subjects}} = {{{df_subjects}}}$\"))\n",
    "                print() # blank space\n",
    "\n",
    "                display(Markdown(f\"$df_{{error}} = df_{{within}} - df_{{subjects}} $\"))\n",
    "                display(Markdown(f\"$df_{{error}} = {{{df_within}}} - {{{df_subjects}}} $\"))\n",
    "                display(Markdown(f\"$df_{{error}} = {{{df_error}}} $\"))\n",
    "                print() # blank space\n",
    "\n",
    "                # sum of squares\n",
    "                print(\"partitioning the sum of squares...\")\n",
    "                \n",
    "                self.df[\"P\"] = self.df.sum(axis = 1)\n",
    "                print(self.df)\n",
    "                print() # blank space\n",
    "\n",
    "                p_sums = [] # holder for the P sums for displaying below\n",
    "                p_squared = [] # holds the squared partipant sums (P^2)\n",
    "                quotients = [] # holds the value of each (P^2)/k\n",
    "                sum_quotients = 0 # holds the sum of (P^2)/k\n",
    "                for p in self.df[\"P\"]:\n",
    "                    p_sums.append(p)\n",
    "                    p_squared.append(p ** 2)\n",
    "                    quotients.append(round((p **2 / self.groups), 2))\n",
    "                    sum_quotients += round((p **2 / self.groups), 2)\n",
    "\n",
    "                ss_subjects = round(sum_quotients, 2) - round(((self.g**2)/big_n), 2)\n",
    "                ss_error = ss_within - ss_subjects\n",
    "\n",
    "                display(Markdown(f\"$SS_{{subjects}} = \\\\Sigma{{\\\\frac{{P^2}}{{k}}}} - \\\\frac{{G^2}}{{N}} $\"))\n",
    "                temp_text = \"\"\n",
    "                for p in p_sums:\n",
    "                    temp_text += f\" + \\\\frac{{{p}^2}}{{{self.groups}}}\"\n",
    "                display(Markdown(f\"$SS_{{subjects}} = {{{temp_text[3:]}}} - \\\\frac{{{self.g}^2}}{{{big_n}}}$\"))\n",
    "                temp_text = \"\"\n",
    "                for p in p_squared:\n",
    "                    temp_text += f\" + \\\\frac{{{p}}}{{{self.groups}}}\"\n",
    "                display(Markdown(f\"$SS_{{subjects}} = {{{temp_text[3:]}}} - \\\\frac{{{self.g**2}}}{{{big_n}}}$\"))\n",
    "                temp_text = \"\"\n",
    "                for p in quotients:\n",
    "                    temp_text += f\" + {{{p}}}\"\n",
    "                display(Markdown(f\"$SS_{{subjects}} = {{{temp_text[3:]}}} - {{{round(((self.g**2)/big_n), 2)}}}$\"))\n",
    "                display(Markdown(f\"$SS_{{subjects}} = {{{round(sum_quotients,2)}}} - {{{round(((self.g**2)/big_n), 2)}}}$\")) \n",
    "                display(Markdown(f\"$SS_{{subjects}} = {{{round(ss_subjects,2)}}}$\"))     \n",
    "                print() # blank space\n",
    "\n",
    "                display(Markdown(f\"$SS_{{error}} = SS_{{within}} - SS_{{subjects}} $\"))\n",
    "                display(Markdown(f\"$SS_{{error}} = {{{round(ss_within,2)}}} - {{{round(ss_subjects,2)}}}$\"))\n",
    "                display(Markdown(f\"$SS_{{error}} = {{{round(ss_error,2)}}}$\"))\n",
    "                print() # blank space\n",
    "\n",
    "\n",
    "            # mean squares\n",
    "            ms_between = round(round(ss_between, 2)/df_between, 2)\n",
    "            ms_within = round(round(ss_within, 2)/df_within, 2)\n",
    "            \n",
    "\n",
    "            print(\"calculating the mean squares...\")\n",
    "            display(Markdown(f\"$ MS_{{between}} = \\\\frac{{SS_{{between}}}}{{df_{{between}}}} $\"))\n",
    "            display(Markdown(f\"$ MS_{{between}} = \\\\frac{{{round(ss_between, 2)}}}{{{df_between}}} $\"))\n",
    "            display(Markdown(f\"$ MS_{{between}} = {{{round(ms_between, 2)}}} $\"))\n",
    "            print() # blank space\n",
    "\n",
    "            if self.test == \"one-way ANOVA\":\n",
    "                display(Markdown(f\"$ MS_{{within}} = \\\\frac{{SS_{{within}}}}{{df_{{within}}}} $\"))\n",
    "                display(Markdown(f\"$ MS_{{within}} = \\\\frac{{{round(ss_within, 2)}}}{{{df_within}}} $\"))\n",
    "                display(Markdown(f\"$ MS_{{within}} = {{{round(ms_within, 2)}}} $\"))\n",
    "                print() # blank space\n",
    "                \n",
    "                # F value\n",
    "                self.obt = round(ms_between/ms_within, 2)\n",
    "\n",
    "                print(\"calculating the f ratio...\")\n",
    "                display(Markdown(f\"$ F_{{obt}} = \\\\frac{{MS_{{between}}}}{{MS_{{within}}}} $\"))\n",
    "                display(Markdown(f\"$ F_{{obt}} = \\\\frac{{{round(ms_between,2)}}}{{{round(ms_within,2)}}} $\"))\n",
    "                display(Markdown(f\"$ F_{{obt}} = {{{round(self.obt, 2)}}} $\"))\n",
    "                print() # blank space\n",
    "\n",
    "                # effect size\n",
    "                self.effect_size = round(round(ss_between, 2)/round(ss_total, 2), 2)\n",
    "                \n",
    "                print(\"calculating eta squared...\")\n",
    "                display(Markdown(f\"$ \\\\eta^2 = \\\\frac{{SS{{between}}}}{{SS_{{total}}}} $\"))\n",
    "                display(Markdown(f\"$ \\\\eta^2 = \\\\frac{{{round(ss_between, 2)}}}{{{round(ss_total, 2)}}} $\"))\n",
    "                display(Markdown(f\"$ \\\\eta^2 = {{{round(self.effect_size, 2)}}} $\"))\n",
    "                print() # blank space\n",
    "\n",
    "\n",
    "            elif test == \"repeated-measures\":\n",
    "                ms_error = round(round(ss_error,2)/df_error, 2)\n",
    "\n",
    "                display(Markdown(f\"$ MS_{{error}} = \\\\frac{{SS_{{error}}}}{{df_{{error}}}} $\"))\n",
    "                display(Markdown(f\"$ MS_{{error}} = \\\\frac{{{round(ss_error, 2)}}}{{{df_error}}} $\"))\n",
    "                display(Markdown(f\"$ MS_{{error}} = {{{round(ms_error, 2)}}} $\"))\n",
    "                print() # blank space\n",
    "\n",
    "                # F value\n",
    "                self.obt = round(ms_between/ms_error, 2)\n",
    "\n",
    "                print(\"calculating the f ratio...\")\n",
    "                display(Markdown(f\"$ F_{{obt}} = \\\\frac{{MS_{{between}}}}{{MS_{{error}}}} $\"))\n",
    "                display(Markdown(f\"$ F_{{obt}} = \\\\frac{{{round(ms_between,2)}}}{{{round(ms_error,2)}}} $\"))\n",
    "                display(Markdown(f\"$ F_{{obt}} = {{{round(self.obt, 2)}}} $\"))\n",
    "                print() # blank space\n",
    "\n",
    "                # effect size\n",
    "                self.effect_size = round(round(ss_between, 2)/(round(ss_total, 2) - round(ss_subjects, 2)), 2)\n",
    "                \n",
    "                print(\"calculating partial eta squared...\")\n",
    "                display(Markdown(f\"$ \\\\eta_p^2 = \\\\frac{{SS{{between}}}}{{SS_{{total}} - SS_{{subjects}}}} $\"))\n",
    "                display(Markdown(f\"$ \\\\eta_p^2 = \\\\frac{{{round(ss_between, 2)}}}{{{round(ss_total, 2)}}} - {{{round(ss_subjects, 2)}}} $\"))\n",
    "                display(Markdown(f\"$ \\\\eta_p^2 = \\\\frac{{{round(ss_between, 2)}}}{{{round(ss_total, 2) - round(ss_subjects, 2)}}} $\"))\n",
    "                display(Markdown(f\"$ \\\\eta_p^2 = {{{round(self.effect_size, 2)}}} $\"))\n",
    "                print() # blank space\n",
    "\n",
    "            else:\n",
    "                raise ValueError(\"test accepts: 'one-way', 'repeated-measures'\")\n",
    "\n",
    "            self.significance = self.final_decision()\n",
    "            self.write_result()\n",
    "            print() # blank space"
   ]
  },
  {
   "cell_type": "markdown",
   "id": "a6783bc5",
   "metadata": {},
   "source": [
    "# One-Way ANOVA\n",
    "\n",
    "conducting a one-way ANOVA.  Groups needs to be set to 2 or more.  The value for n can be any integer (whole number)"
   ]
  },
  {
   "cell_type": "code",
   "execution_count": 2,
   "id": "97ce14e4",
   "metadata": {},
   "outputs": [
    {
     "name": "stdout",
     "output_type": "stream",
     "text": [
      "    A   B    C   D\n",
      "0   5  22  102  14\n",
      "1  12  77   93  29\n",
      "2   8  66  114  21\n",
      "3   9  48   88  13\n",
      "4  15  23   62  16\n",
      "5  19  60  122  20\n",
      "6  18  46   52  21\n",
      "7  10  49   27  16\n",
      "8  16  74   74  12\n",
      "9   4  43   80  13\n"
     ]
    },
    {
     "data": {
      "text/markdown": [
       "Given the following between-subjects data, use a one-way ANOVA with $\\alpha = {0.01}$"
      ],
      "text/plain": [
       "<IPython.core.display.Markdown object>"
      ]
     },
     "metadata": {},
     "output_type": "display_data"
    },
    {
     "data": {
      "text/markdown": [
       "$G = {1613}, \\Sigma X^2 = {107783}, k = {4}, N = {40}$"
      ],
      "text/plain": [
       "<IPython.core.display.Markdown object>"
      ]
     },
     "metadata": {},
     "output_type": "display_data"
    },
    {
     "data": {
      "text/markdown": [
       "$T_{A} = {116}, SS_{A} = {250.4}$"
      ],
      "text/plain": [
       "<IPython.core.display.Markdown object>"
      ]
     },
     "metadata": {},
     "output_type": "display_data"
    },
    {
     "data": {
      "text/markdown": [
       "$T_{B} = {508}, SS_{B} = {3237.6}$"
      ],
      "text/plain": [
       "<IPython.core.display.Markdown object>"
      ]
     },
     "metadata": {},
     "output_type": "display_data"
    },
    {
     "data": {
      "text/markdown": [
       "$T_{C} = {814}, SS_{C} = {7570.4}$"
      ],
      "text/plain": [
       "<IPython.core.display.Markdown object>"
      ]
     },
     "metadata": {},
     "output_type": "display_data"
    },
    {
     "data": {
      "text/markdown": [
       "$T_{D} = {175}, SS_{D} = {250.5}$"
      ],
      "text/plain": [
       "<IPython.core.display.Markdown object>"
      ]
     },
     "metadata": {},
     "output_type": "display_data"
    },
    {
     "name": "stdout",
     "output_type": "stream",
     "text": [
      "\n",
      "calculating the degrees of freedom...\n"
     ]
    },
    {
     "data": {
      "text/markdown": [
       "$df_{total} = N - 1$"
      ],
      "text/plain": [
       "<IPython.core.display.Markdown object>"
      ]
     },
     "metadata": {},
     "output_type": "display_data"
    },
    {
     "data": {
      "text/markdown": [
       "$df_{total} = {40} - 1$"
      ],
      "text/plain": [
       "<IPython.core.display.Markdown object>"
      ]
     },
     "metadata": {},
     "output_type": "display_data"
    },
    {
     "data": {
      "text/markdown": [
       "$df_{total} = {39}$"
      ],
      "text/plain": [
       "<IPython.core.display.Markdown object>"
      ]
     },
     "metadata": {},
     "output_type": "display_data"
    },
    {
     "name": "stdout",
     "output_type": "stream",
     "text": [
      "\n"
     ]
    },
    {
     "data": {
      "text/markdown": [
       "$df_{between} = k - 1 $"
      ],
      "text/plain": [
       "<IPython.core.display.Markdown object>"
      ]
     },
     "metadata": {},
     "output_type": "display_data"
    },
    {
     "data": {
      "text/markdown": [
       "$df_{between} = {4} - 1 $"
      ],
      "text/plain": [
       "<IPython.core.display.Markdown object>"
      ]
     },
     "metadata": {},
     "output_type": "display_data"
    },
    {
     "data": {
      "text/markdown": [
       "$df_{between} = {3}$"
      ],
      "text/plain": [
       "<IPython.core.display.Markdown object>"
      ]
     },
     "metadata": {},
     "output_type": "display_data"
    },
    {
     "name": "stdout",
     "output_type": "stream",
     "text": [
      "\n"
     ]
    },
    {
     "data": {
      "text/markdown": [
       "$df_{within} = N - K $"
      ],
      "text/plain": [
       "<IPython.core.display.Markdown object>"
      ]
     },
     "metadata": {},
     "output_type": "display_data"
    },
    {
     "data": {
      "text/markdown": [
       "$df_{within} = {40} - {4} $"
      ],
      "text/plain": [
       "<IPython.core.display.Markdown object>"
      ]
     },
     "metadata": {},
     "output_type": "display_data"
    },
    {
     "data": {
      "text/markdown": [
       "$df_{within} = {36}$"
      ],
      "text/plain": [
       "<IPython.core.display.Markdown object>"
      ]
     },
     "metadata": {},
     "output_type": "display_data"
    },
    {
     "name": "stdout",
     "output_type": "stream",
     "text": [
      "\n",
      "calulating the sum of squares...\n"
     ]
    },
    {
     "data": {
      "text/markdown": [
       "$ SS_{total} = \\Sigma X^2 - \\frac{G^2}{N} $"
      ],
      "text/plain": [
       "<IPython.core.display.Markdown object>"
      ]
     },
     "metadata": {},
     "output_type": "display_data"
    },
    {
     "data": {
      "text/markdown": [
       "$ SS_{total} = {107783} - \\frac{1613^2}{40} $"
      ],
      "text/plain": [
       "<IPython.core.display.Markdown object>"
      ]
     },
     "metadata": {},
     "output_type": "display_data"
    },
    {
     "data": {
      "text/markdown": [
       "$ SS_{total} = {107783} - \\frac{2601769}{40} $"
      ],
      "text/plain": [
       "<IPython.core.display.Markdown object>"
      ]
     },
     "metadata": {},
     "output_type": "display_data"
    },
    {
     "data": {
      "text/markdown": [
       "$ SS_{total} = {107783} - {65044.22} $"
      ],
      "text/plain": [
       "<IPython.core.display.Markdown object>"
      ]
     },
     "metadata": {},
     "output_type": "display_data"
    },
    {
     "data": {
      "text/markdown": [
       "$ SS_{total} = {42738.78} $"
      ],
      "text/plain": [
       "<IPython.core.display.Markdown object>"
      ]
     },
     "metadata": {},
     "output_type": "display_data"
    },
    {
     "name": "stdout",
     "output_type": "stream",
     "text": [
      "\n"
     ]
    },
    {
     "data": {
      "text/markdown": [
       "$ SS_{within} = \\Sigma SS_{inside\\_each\\_condition} $"
      ],
      "text/plain": [
       "<IPython.core.display.Markdown object>"
      ]
     },
     "metadata": {},
     "output_type": "display_data"
    },
    {
     "data": {
      "text/markdown": [
       "$ SS_{within} = {250.4 + 3237.6 + 7570.4 + 250.5}$"
      ],
      "text/plain": [
       "<IPython.core.display.Markdown object>"
      ]
     },
     "metadata": {},
     "output_type": "display_data"
    },
    {
     "data": {
      "text/markdown": [
       "$ SS_{within} = {11308.9}$"
      ],
      "text/plain": [
       "<IPython.core.display.Markdown object>"
      ]
     },
     "metadata": {},
     "output_type": "display_data"
    },
    {
     "name": "stdout",
     "output_type": "stream",
     "text": [
      "\n"
     ]
    },
    {
     "data": {
      "text/markdown": [
       "$ SS_{between} = SS_{total} - SS_{within} $"
      ],
      "text/plain": [
       "<IPython.core.display.Markdown object>"
      ]
     },
     "metadata": {},
     "output_type": "display_data"
    },
    {
     "data": {
      "text/markdown": [
       "$ SS_{between} = {42738.78} - {11308.9} $"
      ],
      "text/plain": [
       "<IPython.core.display.Markdown object>"
      ]
     },
     "metadata": {},
     "output_type": "display_data"
    },
    {
     "data": {
      "text/markdown": [
       "$ SS_{between} = {31429.88} $"
      ],
      "text/plain": [
       "<IPython.core.display.Markdown object>"
      ]
     },
     "metadata": {},
     "output_type": "display_data"
    },
    {
     "name": "stdout",
     "output_type": "stream",
     "text": [
      "\n"
     ]
    },
    {
     "data": {
      "text/markdown": [
       "note: the other way to calculate $SS_{{betwen}}$ is:"
      ],
      "text/plain": [
       "<IPython.core.display.Markdown object>"
      ]
     },
     "metadata": {},
     "output_type": "display_data"
    },
    {
     "data": {
      "text/markdown": [
       "$ SS_{{between}} = \\Sigma{{\\frac{{T^2}}{{n}}}} - \\frac{{G^2}}{{N}} $"
      ],
      "text/plain": [
       "<IPython.core.display.Markdown object>"
      ]
     },
     "metadata": {},
     "output_type": "display_data"
    },
    {
     "name": "stdout",
     "output_type": "stream",
     "text": [
      "\n",
      "calculating the mean squares...\n"
     ]
    },
    {
     "data": {
      "text/markdown": [
       "$ MS_{between} = \\frac{SS_{between}}{df_{between}} $"
      ],
      "text/plain": [
       "<IPython.core.display.Markdown object>"
      ]
     },
     "metadata": {},
     "output_type": "display_data"
    },
    {
     "data": {
      "text/markdown": [
       "$ MS_{between} = \\frac{31429.88}{3} $"
      ],
      "text/plain": [
       "<IPython.core.display.Markdown object>"
      ]
     },
     "metadata": {},
     "output_type": "display_data"
    },
    {
     "data": {
      "text/markdown": [
       "$ MS_{between} = {10476.63} $"
      ],
      "text/plain": [
       "<IPython.core.display.Markdown object>"
      ]
     },
     "metadata": {},
     "output_type": "display_data"
    },
    {
     "name": "stdout",
     "output_type": "stream",
     "text": [
      "\n"
     ]
    },
    {
     "data": {
      "text/markdown": [
       "$ MS_{within} = \\frac{SS_{within}}{df_{within}} $"
      ],
      "text/plain": [
       "<IPython.core.display.Markdown object>"
      ]
     },
     "metadata": {},
     "output_type": "display_data"
    },
    {
     "data": {
      "text/markdown": [
       "$ MS_{within} = \\frac{11308.9}{36} $"
      ],
      "text/plain": [
       "<IPython.core.display.Markdown object>"
      ]
     },
     "metadata": {},
     "output_type": "display_data"
    },
    {
     "data": {
      "text/markdown": [
       "$ MS_{within} = {314.14} $"
      ],
      "text/plain": [
       "<IPython.core.display.Markdown object>"
      ]
     },
     "metadata": {},
     "output_type": "display_data"
    },
    {
     "name": "stdout",
     "output_type": "stream",
     "text": [
      "\n",
      "calculating the f ratio...\n"
     ]
    },
    {
     "data": {
      "text/markdown": [
       "$ F_{obt} = \\frac{MS_{between}}{MS_{within}} $"
      ],
      "text/plain": [
       "<IPython.core.display.Markdown object>"
      ]
     },
     "metadata": {},
     "output_type": "display_data"
    },
    {
     "data": {
      "text/markdown": [
       "$ F_{obt} = \\frac{10476.63}{314.14} $"
      ],
      "text/plain": [
       "<IPython.core.display.Markdown object>"
      ]
     },
     "metadata": {},
     "output_type": "display_data"
    },
    {
     "data": {
      "text/markdown": [
       "$ F_{obt} = {33.35} $"
      ],
      "text/plain": [
       "<IPython.core.display.Markdown object>"
      ]
     },
     "metadata": {},
     "output_type": "display_data"
    },
    {
     "name": "stdout",
     "output_type": "stream",
     "text": [
      "\n",
      "calculating eta squared...\n"
     ]
    },
    {
     "data": {
      "text/markdown": [
       "$ \\eta^2 = \\frac{SS{between}}{SS_{total}} $"
      ],
      "text/plain": [
       "<IPython.core.display.Markdown object>"
      ]
     },
     "metadata": {},
     "output_type": "display_data"
    },
    {
     "data": {
      "text/markdown": [
       "$ \\eta^2 = \\frac{31429.88}{42738.78} $"
      ],
      "text/plain": [
       "<IPython.core.display.Markdown object>"
      ]
     },
     "metadata": {},
     "output_type": "display_data"
    },
    {
     "data": {
      "text/markdown": [
       "$ \\eta^2 = {0.74} $"
      ],
      "text/plain": [
       "<IPython.core.display.Markdown object>"
      ]
     },
     "metadata": {},
     "output_type": "display_data"
    },
    {
     "name": "stdout",
     "output_type": "stream",
     "text": [
      "\n"
     ]
    },
    {
     "data": {
      "text/markdown": [
       "$F_{crit} = {4.38}, \\alpha = {0.01}$"
      ],
      "text/plain": [
       "<IPython.core.display.Markdown object>"
      ]
     },
     "metadata": {},
     "output_type": "display_data"
    },
    {
     "data": {
      "text/markdown": [
       "reject the null hypothesis, results are significant, $ F({3}, {36}) = {33.35}, p < {0.01}, \\eta^2 = {0.74}$"
      ],
      "text/plain": [
       "<IPython.core.display.Markdown object>"
      ]
     },
     "metadata": {},
     "output_type": "display_data"
    },
    {
     "name": "stdout",
     "output_type": "stream",
     "text": [
      "\n"
     ]
    }
   ],
   "source": [
    "RandomData(groups = 4, n = 10).anova(test = \"one-way\")"
   ]
  },
  {
   "cell_type": "markdown",
   "id": "f71e3c0e",
   "metadata": {},
   "source": [
    "# Repeated-Measures ANOVA\n",
    "\n",
    "conducting a repeated-measures ANOVA.  Groups needs to be set to 2 or more.  The value for n can be any integer (whole number)"
   ]
  },
  {
   "cell_type": "code",
   "execution_count": 3,
   "id": "ad055fe0",
   "metadata": {},
   "outputs": [
    {
     "name": "stdout",
     "output_type": "stream",
     "text": [
      "    A   B   C\n",
      "0  36  26  27\n",
      "1  48  25  24\n",
      "2  53  27  15\n",
      "3  43  28  12\n"
     ]
    },
    {
     "data": {
      "text/markdown": [
       "Given the following within-subjects data, use a repeated-measures ANOVA with $\\alpha = {0.05}$"
      ],
      "text/plain": [
       "<IPython.core.display.Markdown object>"
      ]
     },
     "metadata": {},
     "output_type": "display_data"
    },
    {
     "data": {
      "text/markdown": [
       "$G = {364}, \\Sigma X^2 = {12746}, k = {3}, N = {12}$"
      ],
      "text/plain": [
       "<IPython.core.display.Markdown object>"
      ]
     },
     "metadata": {},
     "output_type": "display_data"
    },
    {
     "data": {
      "text/markdown": [
       "$T_{A} = {180}, SS_{A} = {158.0}$"
      ],
      "text/plain": [
       "<IPython.core.display.Markdown object>"
      ]
     },
     "metadata": {},
     "output_type": "display_data"
    },
    {
     "data": {
      "text/markdown": [
       "$T_{B} = {106}, SS_{B} = {5.0}$"
      ],
      "text/plain": [
       "<IPython.core.display.Markdown object>"
      ]
     },
     "metadata": {},
     "output_type": "display_data"
    },
    {
     "data": {
      "text/markdown": [
       "$T_{C} = {78}, SS_{C} = {153.0}$"
      ],
      "text/plain": [
       "<IPython.core.display.Markdown object>"
      ]
     },
     "metadata": {},
     "output_type": "display_data"
    },
    {
     "name": "stdout",
     "output_type": "stream",
     "text": [
      "\n",
      "Stage 1 Calculations:\n",
      "calculating the degrees of freedom...\n"
     ]
    },
    {
     "data": {
      "text/markdown": [
       "$df_{total} = N - 1$"
      ],
      "text/plain": [
       "<IPython.core.display.Markdown object>"
      ]
     },
     "metadata": {},
     "output_type": "display_data"
    },
    {
     "data": {
      "text/markdown": [
       "$df_{total} = {12} - 1$"
      ],
      "text/plain": [
       "<IPython.core.display.Markdown object>"
      ]
     },
     "metadata": {},
     "output_type": "display_data"
    },
    {
     "data": {
      "text/markdown": [
       "$df_{total} = {11}$"
      ],
      "text/plain": [
       "<IPython.core.display.Markdown object>"
      ]
     },
     "metadata": {},
     "output_type": "display_data"
    },
    {
     "name": "stdout",
     "output_type": "stream",
     "text": [
      "\n"
     ]
    },
    {
     "data": {
      "text/markdown": [
       "$df_{between} = k - 1 $"
      ],
      "text/plain": [
       "<IPython.core.display.Markdown object>"
      ]
     },
     "metadata": {},
     "output_type": "display_data"
    },
    {
     "data": {
      "text/markdown": [
       "$df_{between} = {3} - 1 $"
      ],
      "text/plain": [
       "<IPython.core.display.Markdown object>"
      ]
     },
     "metadata": {},
     "output_type": "display_data"
    },
    {
     "data": {
      "text/markdown": [
       "$df_{between} = {2}$"
      ],
      "text/plain": [
       "<IPython.core.display.Markdown object>"
      ]
     },
     "metadata": {},
     "output_type": "display_data"
    },
    {
     "name": "stdout",
     "output_type": "stream",
     "text": [
      "\n"
     ]
    },
    {
     "data": {
      "text/markdown": [
       "$df_{within} = N - K $"
      ],
      "text/plain": [
       "<IPython.core.display.Markdown object>"
      ]
     },
     "metadata": {},
     "output_type": "display_data"
    },
    {
     "data": {
      "text/markdown": [
       "$df_{within} = {12} - {3} $"
      ],
      "text/plain": [
       "<IPython.core.display.Markdown object>"
      ]
     },
     "metadata": {},
     "output_type": "display_data"
    },
    {
     "data": {
      "text/markdown": [
       "$df_{within} = {9}$"
      ],
      "text/plain": [
       "<IPython.core.display.Markdown object>"
      ]
     },
     "metadata": {},
     "output_type": "display_data"
    },
    {
     "name": "stdout",
     "output_type": "stream",
     "text": [
      "\n",
      "calulating the sum of squares...\n"
     ]
    },
    {
     "data": {
      "text/markdown": [
       "$ SS_{total} = \\Sigma X^2 - \\frac{G^2}{N} $"
      ],
      "text/plain": [
       "<IPython.core.display.Markdown object>"
      ]
     },
     "metadata": {},
     "output_type": "display_data"
    },
    {
     "data": {
      "text/markdown": [
       "$ SS_{total} = {12746} - \\frac{364^2}{12} $"
      ],
      "text/plain": [
       "<IPython.core.display.Markdown object>"
      ]
     },
     "metadata": {},
     "output_type": "display_data"
    },
    {
     "data": {
      "text/markdown": [
       "$ SS_{total} = {12746} - \\frac{132496}{12} $"
      ],
      "text/plain": [
       "<IPython.core.display.Markdown object>"
      ]
     },
     "metadata": {},
     "output_type": "display_data"
    },
    {
     "data": {
      "text/markdown": [
       "$ SS_{total} = {12746} - {11041.33} $"
      ],
      "text/plain": [
       "<IPython.core.display.Markdown object>"
      ]
     },
     "metadata": {},
     "output_type": "display_data"
    },
    {
     "data": {
      "text/markdown": [
       "$ SS_{total} = {1704.67} $"
      ],
      "text/plain": [
       "<IPython.core.display.Markdown object>"
      ]
     },
     "metadata": {},
     "output_type": "display_data"
    },
    {
     "name": "stdout",
     "output_type": "stream",
     "text": [
      "\n"
     ]
    },
    {
     "data": {
      "text/markdown": [
       "$ SS_{within} = \\Sigma SS_{inside\\_each\\_condition} $"
      ],
      "text/plain": [
       "<IPython.core.display.Markdown object>"
      ]
     },
     "metadata": {},
     "output_type": "display_data"
    },
    {
     "data": {
      "text/markdown": [
       "$ SS_{within} = {158.0 + 5.0 + 153.0}$"
      ],
      "text/plain": [
       "<IPython.core.display.Markdown object>"
      ]
     },
     "metadata": {},
     "output_type": "display_data"
    },
    {
     "data": {
      "text/markdown": [
       "$ SS_{within} = {316.0}$"
      ],
      "text/plain": [
       "<IPython.core.display.Markdown object>"
      ]
     },
     "metadata": {},
     "output_type": "display_data"
    },
    {
     "name": "stdout",
     "output_type": "stream",
     "text": [
      "\n"
     ]
    },
    {
     "data": {
      "text/markdown": [
       "$ SS_{between} = SS_{total} - SS_{within} $"
      ],
      "text/plain": [
       "<IPython.core.display.Markdown object>"
      ]
     },
     "metadata": {},
     "output_type": "display_data"
    },
    {
     "data": {
      "text/markdown": [
       "$ SS_{between} = {1704.67} - {316.0} $"
      ],
      "text/plain": [
       "<IPython.core.display.Markdown object>"
      ]
     },
     "metadata": {},
     "output_type": "display_data"
    },
    {
     "data": {
      "text/markdown": [
       "$ SS_{between} = {1388.67} $"
      ],
      "text/plain": [
       "<IPython.core.display.Markdown object>"
      ]
     },
     "metadata": {},
     "output_type": "display_data"
    },
    {
     "name": "stdout",
     "output_type": "stream",
     "text": [
      "\n"
     ]
    },
    {
     "data": {
      "text/markdown": [
       "note: the other way to calculate $SS_{{betwen}}$ is:"
      ],
      "text/plain": [
       "<IPython.core.display.Markdown object>"
      ]
     },
     "metadata": {},
     "output_type": "display_data"
    },
    {
     "data": {
      "text/markdown": [
       "$ SS_{{between}} = \\Sigma{{\\frac{{T^2}}{{n}}}} - \\frac{{G^2}}{{N}} $"
      ],
      "text/plain": [
       "<IPython.core.display.Markdown object>"
      ]
     },
     "metadata": {},
     "output_type": "display_data"
    },
    {
     "name": "stdout",
     "output_type": "stream",
     "text": [
      "\n",
      "Stage 2 Calculations:\n",
      "partitioning the degrees of freedom...\n"
     ]
    },
    {
     "data": {
      "text/markdown": [
       "$df_{subjects} = n - 1 $"
      ],
      "text/plain": [
       "<IPython.core.display.Markdown object>"
      ]
     },
     "metadata": {},
     "output_type": "display_data"
    },
    {
     "data": {
      "text/markdown": [
       "$df_{subjects} = {4} - 1 $"
      ],
      "text/plain": [
       "<IPython.core.display.Markdown object>"
      ]
     },
     "metadata": {},
     "output_type": "display_data"
    },
    {
     "data": {
      "text/markdown": [
       "$df_{subjects} = {3}$"
      ],
      "text/plain": [
       "<IPython.core.display.Markdown object>"
      ]
     },
     "metadata": {},
     "output_type": "display_data"
    },
    {
     "name": "stdout",
     "output_type": "stream",
     "text": [
      "\n"
     ]
    },
    {
     "data": {
      "text/markdown": [
       "$df_{error} = df_{within} - df_{subjects} $"
      ],
      "text/plain": [
       "<IPython.core.display.Markdown object>"
      ]
     },
     "metadata": {},
     "output_type": "display_data"
    },
    {
     "data": {
      "text/markdown": [
       "$df_{error} = {9} - {3} $"
      ],
      "text/plain": [
       "<IPython.core.display.Markdown object>"
      ]
     },
     "metadata": {},
     "output_type": "display_data"
    },
    {
     "data": {
      "text/markdown": [
       "$df_{error} = {6} $"
      ],
      "text/plain": [
       "<IPython.core.display.Markdown object>"
      ]
     },
     "metadata": {},
     "output_type": "display_data"
    },
    {
     "name": "stdout",
     "output_type": "stream",
     "text": [
      "\n",
      "partitioning the sum of squares...\n",
      "    A   B   C   P\n",
      "0  36  26  27  89\n",
      "1  48  25  24  97\n",
      "2  53  27  15  95\n",
      "3  43  28  12  83\n",
      "\n"
     ]
    },
    {
     "data": {
      "text/markdown": [
       "$SS_{subjects} = \\Sigma{\\frac{P^2}{k}} - \\frac{G^2}{N} $"
      ],
      "text/plain": [
       "<IPython.core.display.Markdown object>"
      ]
     },
     "metadata": {},
     "output_type": "display_data"
    },
    {
     "data": {
      "text/markdown": [
       "$SS_{subjects} = {\\frac{89^2}{3} + \\frac{97^2}{3} + \\frac{95^2}{3} + \\frac{83^2}{3}} - \\frac{364^2}{12}$"
      ],
      "text/plain": [
       "<IPython.core.display.Markdown object>"
      ]
     },
     "metadata": {},
     "output_type": "display_data"
    },
    {
     "data": {
      "text/markdown": [
       "$SS_{subjects} = {\\frac{7921}{3} + \\frac{9409}{3} + \\frac{9025}{3} + \\frac{6889}{3}} - \\frac{132496}{12}$"
      ],
      "text/plain": [
       "<IPython.core.display.Markdown object>"
      ]
     },
     "metadata": {},
     "output_type": "display_data"
    },
    {
     "data": {
      "text/markdown": [
       "$SS_{subjects} = {{2640.33} + {3136.33} + {3008.33} + {2296.33}} - {11041.33}$"
      ],
      "text/plain": [
       "<IPython.core.display.Markdown object>"
      ]
     },
     "metadata": {},
     "output_type": "display_data"
    },
    {
     "data": {
      "text/markdown": [
       "$SS_{subjects} = {11081.32} - {11041.33}$"
      ],
      "text/plain": [
       "<IPython.core.display.Markdown object>"
      ]
     },
     "metadata": {},
     "output_type": "display_data"
    },
    {
     "data": {
      "text/markdown": [
       "$SS_{subjects} = {39.99}$"
      ],
      "text/plain": [
       "<IPython.core.display.Markdown object>"
      ]
     },
     "metadata": {},
     "output_type": "display_data"
    },
    {
     "name": "stdout",
     "output_type": "stream",
     "text": [
      "\n"
     ]
    },
    {
     "data": {
      "text/markdown": [
       "$SS_{error} = SS_{within} - SS_{subjects} $"
      ],
      "text/plain": [
       "<IPython.core.display.Markdown object>"
      ]
     },
     "metadata": {},
     "output_type": "display_data"
    },
    {
     "data": {
      "text/markdown": [
       "$SS_{error} = {316.0} - {39.99}$"
      ],
      "text/plain": [
       "<IPython.core.display.Markdown object>"
      ]
     },
     "metadata": {},
     "output_type": "display_data"
    },
    {
     "data": {
      "text/markdown": [
       "$SS_{error} = {276.01}$"
      ],
      "text/plain": [
       "<IPython.core.display.Markdown object>"
      ]
     },
     "metadata": {},
     "output_type": "display_data"
    },
    {
     "name": "stdout",
     "output_type": "stream",
     "text": [
      "\n",
      "calculating the mean squares...\n"
     ]
    },
    {
     "data": {
      "text/markdown": [
       "$ MS_{between} = \\frac{SS_{between}}{df_{between}} $"
      ],
      "text/plain": [
       "<IPython.core.display.Markdown object>"
      ]
     },
     "metadata": {},
     "output_type": "display_data"
    },
    {
     "data": {
      "text/markdown": [
       "$ MS_{between} = \\frac{1388.67}{2} $"
      ],
      "text/plain": [
       "<IPython.core.display.Markdown object>"
      ]
     },
     "metadata": {},
     "output_type": "display_data"
    },
    {
     "data": {
      "text/markdown": [
       "$ MS_{between} = {694.34} $"
      ],
      "text/plain": [
       "<IPython.core.display.Markdown object>"
      ]
     },
     "metadata": {},
     "output_type": "display_data"
    },
    {
     "name": "stdout",
     "output_type": "stream",
     "text": [
      "\n"
     ]
    },
    {
     "data": {
      "text/markdown": [
       "$ MS_{error} = \\frac{SS_{error}}{df_{error}} $"
      ],
      "text/plain": [
       "<IPython.core.display.Markdown object>"
      ]
     },
     "metadata": {},
     "output_type": "display_data"
    },
    {
     "data": {
      "text/markdown": [
       "$ MS_{error} = \\frac{276.01}{6} $"
      ],
      "text/plain": [
       "<IPython.core.display.Markdown object>"
      ]
     },
     "metadata": {},
     "output_type": "display_data"
    },
    {
     "data": {
      "text/markdown": [
       "$ MS_{error} = {46.0} $"
      ],
      "text/plain": [
       "<IPython.core.display.Markdown object>"
      ]
     },
     "metadata": {},
     "output_type": "display_data"
    },
    {
     "name": "stdout",
     "output_type": "stream",
     "text": [
      "\n",
      "calculating the f ratio...\n"
     ]
    },
    {
     "data": {
      "text/markdown": [
       "$ F_{obt} = \\frac{MS_{between}}{MS_{error}} $"
      ],
      "text/plain": [
       "<IPython.core.display.Markdown object>"
      ]
     },
     "metadata": {},
     "output_type": "display_data"
    },
    {
     "data": {
      "text/markdown": [
       "$ F_{obt} = \\frac{694.34}{46.0} $"
      ],
      "text/plain": [
       "<IPython.core.display.Markdown object>"
      ]
     },
     "metadata": {},
     "output_type": "display_data"
    },
    {
     "data": {
      "text/markdown": [
       "$ F_{obt} = {15.09} $"
      ],
      "text/plain": [
       "<IPython.core.display.Markdown object>"
      ]
     },
     "metadata": {},
     "output_type": "display_data"
    },
    {
     "name": "stdout",
     "output_type": "stream",
     "text": [
      "\n",
      "calculating partial eta squared...\n"
     ]
    },
    {
     "data": {
      "text/markdown": [
       "$ \\eta_p^2 = \\frac{SS{between}}{SS_{total} - SS_{subjects}} $"
      ],
      "text/plain": [
       "<IPython.core.display.Markdown object>"
      ]
     },
     "metadata": {},
     "output_type": "display_data"
    },
    {
     "data": {
      "text/markdown": [
       "$ \\eta_p^2 = \\frac{1388.67}{1704.67} - {39.99} $"
      ],
      "text/plain": [
       "<IPython.core.display.Markdown object>"
      ]
     },
     "metadata": {},
     "output_type": "display_data"
    },
    {
     "data": {
      "text/markdown": [
       "$ \\eta_p^2 = \\frac{1388.67}{1664.68} $"
      ],
      "text/plain": [
       "<IPython.core.display.Markdown object>"
      ]
     },
     "metadata": {},
     "output_type": "display_data"
    },
    {
     "data": {
      "text/markdown": [
       "$ \\eta_p^2 = {0.83} $"
      ],
      "text/plain": [
       "<IPython.core.display.Markdown object>"
      ]
     },
     "metadata": {},
     "output_type": "display_data"
    },
    {
     "name": "stdout",
     "output_type": "stream",
     "text": [
      "\n"
     ]
    },
    {
     "data": {
      "text/markdown": [
       "$F_{crit} = {5.14}, \\alpha = {0.05}$"
      ],
      "text/plain": [
       "<IPython.core.display.Markdown object>"
      ]
     },
     "metadata": {},
     "output_type": "display_data"
    },
    {
     "data": {
      "text/markdown": [
       "reject the null hypothesis, results are significant, $ F({2}, {6}) = {15.09}, p < {0.05}, \\eta^2 = {0.83}$"
      ],
      "text/plain": [
       "<IPython.core.display.Markdown object>"
      ]
     },
     "metadata": {},
     "output_type": "display_data"
    },
    {
     "name": "stdout",
     "output_type": "stream",
     "text": [
      "\n"
     ]
    }
   ],
   "source": [
    "RandomData(groups = 3, n = 4).anova(test = \"repeated-measures\")"
   ]
  }
 ],
 "metadata": {
  "kernelspec": {
   "display_name": "base",
   "language": "python",
   "name": "python3"
  },
  "language_info": {
   "codemirror_mode": {
    "name": "ipython",
    "version": 3
   },
   "file_extension": ".py",
   "mimetype": "text/x-python",
   "name": "python",
   "nbconvert_exporter": "python",
   "pygments_lexer": "ipython3",
   "version": "3.12.7"
  }
 },
 "nbformat": 4,
 "nbformat_minor": 5
}
