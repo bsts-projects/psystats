{
 "cells": [
  {
   "cell_type": "markdown",
   "id": "72d52109",
   "metadata": {},
   "source": [
    "# Analysis of Variance"
   ]
  },
  {
   "cell_type": "markdown",
   "id": "0757638b",
   "metadata": {},
   "source": [
    "The first block of code must be run before anything else.  It only needs to be run once each time you use the website.  It loads the class and class functions necessary to generate the practice problems.  You can hide the first block (it is long)"
   ]
  },
  {
   "cell_type": "code",
   "execution_count": 4,
   "id": "75aed776",
   "metadata": {},
   "outputs": [],
   "source": [
    "# @title Click to hide code\n",
    "import numpy as np\n",
    "import pandas as pd\n",
    "import random, math\n",
    "from scipy import stats\n",
    "from IPython.display import Markdown, display\n",
    "\n",
    "class RandomData():\n",
    "    def __init__(self, groups = 1, n = 10, distribution = \"normal\"):\n",
    "        self.groups = groups\n",
    "        self.n = n # TODO add option for unequal sample sizes.\n",
    "        self.df = self.generate_data()\n",
    "        self.ss = self.sum_of_squares()\n",
    "        self.means = self.group_means()\n",
    "        self.sums = self.col_sums()\n",
    "        self.g = self.anova_g()\n",
    "        self.sum_squared_scores = self.grand_sum_squared_scores()\n",
    "        self.var = self.variance()\n",
    "        self.std = self.stdev()\n",
    "        self.test = \"\" # value is set when a stats function is called\n",
    "        self.alpha = self.set_alpha()\n",
    "        self.tails = int\n",
    "        self.null = int\n",
    "        self.obt = float\n",
    "        self.effect_size = float\n",
    "        self.crit_values = {}; dict\n",
    "        self.significance = bool\n",
    "        if distribution == \"normal\":\n",
    "            self.distribution = distribution \n",
    "        else:\n",
    "            raise ValueError(\"only the normal distribution is currently supported\")\n",
    "            # TODO add the ability to generate data from other distribuions\n",
    "\n",
    "\n",
    "    def set_alpha(self):\n",
    "        self.alpha = random.choice([0.05, 0.01])\n",
    "        return self.alpha\n",
    "        \n",
    "    \n",
    "    def generate_data(self):\n",
    "        self.df = pd.DataFrame()\n",
    "        # list of letters for group labels\n",
    "        letters = \"ABCDEFGHIJKLMNOPQRSTUVWXYZ\"\n",
    "\n",
    "        # create data for each group and add it to the dataframe\n",
    "        for group in range(self.groups):\n",
    "            mean = random.randint(10, 100)\n",
    "            sd = mean * random.uniform(0.05, 0.50)\n",
    "\n",
    "            # generate the sample based on the above values\n",
    "            samples = np.random.normal(mean, sd, self.n)\n",
    "\n",
    "            # round the data so it only includes whole numbers\n",
    "            sample = np.round(samples).astype(int)\n",
    "\n",
    "            # convert to a dataframe to display the data\n",
    "            self.df[f'{letters[group]}'] = sample\n",
    "        return self.df\n",
    "    \n",
    "\n",
    "    def generate_question(self):\n",
    "        # determine the test type\n",
    "\n",
    "        if self.tails == 2:\n",
    "            text = \"significantly different from\"\n",
    "        elif self.tails == 1:\n",
    "            if self.crit_values[\"direction\"] == \"increase\" :\n",
    "                text = \"significantly greater than\"\n",
    "            elif self.crit_values[\"direction\"] == \"decrease\":\n",
    "                text = \"significantly less than\"\n",
    "            else:\n",
    "                return ValueError(\"direction error for generating question\")\n",
    "        else:\n",
    "            return ValueError(\"tails error for question generation\")    \n",
    "\n",
    "        print(self.df)\n",
    "        \n",
    "        if self.test == \"z\":\n",
    "            display(Markdown(f\"Given the following data, is the mean of $Group_A$ {text} ${{{self.null}}}$?  Use a ${{{self.tails}}}$ tailed-test with $\\\\alpha = {{{self.alpha}}}$\"))\n",
    "            display(Markdown(f\"$M_A = {{{self.means[0]}}}$\"))\n",
    "            display(Markdown(f\"$ {{\\\\sigma_A}} = {{{round(self.df['A'].std(ddof = 0), 2)}}}$\"))\n",
    "            display(Markdown(f\"$ n = {{{len(self.df['A'])}}}$\"))\n",
    "        elif self.test == \"one-sample t-test\":\n",
    "            display(Markdown(f\"Given the following data, is the mean of $Group_A$ {text} ${{{self.null}}}$?  Use a ${{{self.tails}}}$ tailed-test with $\\\\alpha = {{{self.alpha}}}$\"))\n",
    "            display(Markdown(f\"$M_A = {{{self.means[0]}}}$\"))\n",
    "            display(Markdown(f\"$s^2 = {{{self.var[0]}}}$\"))\n",
    "            display(Markdown(f\"$ n = {{{len(self.df['A'])}}}$\"))\n",
    "        elif self.test == \"independent-samples t-test\":\n",
    "            display(Markdown(f\"Given the following between-subjects data, is the mean of $Group_A$ {text} the mean of $Group_B$?  Use a ${{{self.tails}}}$ tailed-test with $\\\\alpha = {{{self.alpha}}}$\"))\n",
    "            display(Markdown(f\"$M_A = {{{self.means[0]}}}, M_B = {{{self.means[1]}}}$\"))\n",
    "            display(Markdown(f\"$SS_A = {{{self.ss[0]}}}, SS_B = {{{self.ss[1]}}}$\"))\n",
    "            display(Markdown(f\"$ n_A = {{{len(self.df['A'])}}}, n_B = {{{len(self.df['B'])}}}$\"))\n",
    "        elif self.test == \"dependent-samples t-test\":\n",
    "            display(Markdown(f\"Given the following within-subjects data, is $M_D$ {text} ${{{self.null}}}$?  Use a ${{{self.tails}}}$ tailed-test with $\\\\alpha = {{{self.alpha}}}$\"))\n",
    "            display(Markdown(f\"$M_A = {{{self.means[0]}}}, M_B = {{{self.means[1]}}}$\"))\n",
    "            display(Markdown(f\"$ n = {{{len(self.df['A'])}}}$\"))\n",
    "        elif self.test == \"one-way ANOVA\":\n",
    "            display(Markdown(f\"Given the following between-subjects data, use a one-way ANOVA with $\\\\alpha = {{{self.alpha}}}$\"))\n",
    "            display(Markdown(f\"$G = {{{self.g}}}, \\\\Sigma X^2 = {{{self.sum_squared_scores}}}, k = {{{self.groups}}}, N = {{{self.groups * self.n}}}$\"))\n",
    "            letters = \"ABCDEFGHIJKLMNOPQRSTUVWXYZ\"\n",
    "            for group in range(self.groups):\n",
    "                display(Markdown(f\"$T_{{{letters[group]}}} = {{{self.sums[group]}}}, SS_{{{letters[group]}}} = {{{self.ss[group]}}}$\"))   \n",
    "        else:\n",
    "            return ValueError(\"test-type specification error in question geneneration\")\n",
    "       \n",
    "        \n",
    "    def final_decision(self):\n",
    "        if self.tails == 2:\n",
    "            if self.obt > self.crit_values[\"positive\"] or self.obt < self.crit_values[\"negative\"]:\n",
    "                self.significance = True\n",
    "            else:\n",
    "                self.significance = False\n",
    "        elif self.tails == 1:\n",
    "            if self.crit_values[\"direction\"] == \"increase\" and self.obt > self.crit_values[\"positive\"]:\n",
    "                self.significance = True\n",
    "            elif self.crit_values[\"direction\"] == \"decrease\" and self.obt < self.crit_values[\"negative\"]:\n",
    "                self.significance = True\n",
    "            else:\n",
    "                self.significance = False\n",
    "        else:\n",
    "            return ValueError(\"error in tails specification for final decision\")\n",
    "        \n",
    "        return self.significance \n",
    "    \n",
    "\n",
    "    def write_result(self):\n",
    "        # TODO add more elaborate functionality for the results\n",
    "        if self.test in [\"independent-samples t-test\", \"one-sample t-test\", \"dependent-samples t-test\"]:\n",
    "            # print the critical value for the test\n",
    "            if self.tails == 2:\n",
    "                display(Markdown(f\"$t_{{crit}} = \\\\pm{{{self.crit_values['positive']}}}, \\\\alpha_{{two-tailed}} = {{{self.alpha}}}, df = {{{self.crit_values['degf']}}}$\"))\n",
    "            elif self.tails == 1 and self.crit_values[\"direction\"] == \"increase\":\n",
    "                display(Markdown(f\"$t_{{crit}} = +{{{self.crit_values['positive']}}}, \\\\alpha_{{one-tailed}} = {{{self.alpha}}}, df = {{{self.crit_values['degf']}}}$\"))\n",
    "            elif self.tails == 1 and self.crit_values[\"direction\"] == \"decrease\":\n",
    "                display(Markdown(f\"$t_{{crit}} = {{{self.crit_values['negative']}}}, \\\\alpha_{{one-tailed}} = {{{self.alpha}}}, df = {{{self.crit_values['degf']}}}$\"))\n",
    "            else:\n",
    "                return ValueError(\"tails error in writing results\")\n",
    "            # determine significance\n",
    "            if self.significance:\n",
    "                print(f\"reject the null hypothesis, results are significant, t({self.crit_values['degf']}) = {self.obt}, p < {self.alpha}, d = {self.effect_size}\")\n",
    "            elif not self.significance:\n",
    "                print(f\"fail to reject the null hypothesis, results not significant, t({self.crit_values['degf']}) = {self.obt}, p > {self.alpha}, d = {self.effect_size}\")\n",
    "            else:\n",
    "                return ValueError(\"significance boolean error in writing results\")\n",
    "        elif self.test == \"z\":\n",
    "            # print the critical value of t\n",
    "            if self.tails == 2:\n",
    "                display(Markdown(f\"$z_{{crit}} = \\\\pm{{{self.crit_values['positive']}}}, \\\\alpha_{{two-tailed}} = {{{self.alpha}}}$\"))\n",
    "            elif self.tails == 1 and self.crit_values[\"direction\"] == \"increase\":\n",
    "                display(Markdown(f\"$z_{{crit}} = +{{{self.crit_values['positive']}}}, \\\\alpha_{{one-tailed}} = {{{self.alpha}}}$\"))\n",
    "            elif self.tails == 1 and self.crit_values[\"direction\"] == \"decrease\":\n",
    "                display(Markdown(f\"$z_{{crit}} = {{{self.crit_values['negative']}}}, \\\\alpha_{{one-tailed}} = {{{self.alpha}}}$\"))\n",
    "            else:\n",
    "                return ValueError(\"tails error in writing results\")\n",
    "            # determine significance\n",
    "            if self.significance:\n",
    "                print(f\"reject the null hypothesis, results are significant, z = {self.obt}, p < {self.alpha}, d = {self.effect_size}\")\n",
    "            elif not self.significance:\n",
    "                print(f\"fail to reject the null hypothesis, results not significant, z = {self.obt}, p > {self.alpha}, d = {self.effect_size}\")\n",
    "            else:\n",
    "                return ValueError(\"significance boolean error in writing results\")\n",
    "        elif self.test in [\"one-way ANOVA\"]:\n",
    "            display(Markdown(f\"$F_{{crit}} = {{{self.crit_values['positive']}}}, \\\\alpha = {{{self.alpha}}}$\"))\n",
    "            if self.significance:\n",
    "                display(Markdown(f\"reject the null hypothesis, results are significant, $ F({{{self.crit_values['degf_b']}}}, {{{self.crit_values['degf_w']}}}), p < {{{self.alpha}}}, \\\\eta^2 = {{{self.effect_size}}}$\"))\n",
    "            elif not self.significance:\n",
    "                display(Markdown(f\"fail to reject the null hypothesis, results not significant, $ F({{{self.crit_values['degf_b']}}}, {{{self.crit_values['degf_w']}}}), p > {{{self.alpha}}}, \\\\eta^2 = {{{self.effect_size}}}$\"))\n",
    "\n",
    "        else:\n",
    "            return ValueError(\"test specificaion error when writing results\")\n",
    "        \n",
    "        \n",
    "    def set_null_hypothesis(self):\n",
    "        # for one sample tests, sets a null hypothess between -3 to + 3 x the mean\n",
    "        if  self.test in [\"one-sample t-test\", \"z\"]:\n",
    "            mean = self.means[0]\n",
    "            multiplier = random.uniform(-3, 3)\n",
    "            self.null = round(mean * multiplier)\n",
    "        else:\n",
    "            self.null = 0\n",
    "        return self.null\n",
    "\n",
    "\n",
    "    def sum_of_squares(self):  # calculating the values presented in the problem.\n",
    "        ss = []\n",
    "        for column in self.df: \n",
    "            sum_scores = self.df[column].sum()\n",
    "            sum_sqared_scores= (self.df[column].apply(lambda x: x ** 2)).sum()  \n",
    "            ss_vals = sum_sqared_scores - round((sum_scores ** 2)/self.n, 2)\n",
    "            ss.append(round(ss_vals, 2))\n",
    "        return ss\n",
    "\n",
    "\n",
    "    def group_means(self):\n",
    "        means = []\n",
    "        for column in self.df:\n",
    "            means.append(round(self.df[column].mean(), 2))  \n",
    "        return means\n",
    "    \n",
    "\n",
    "    def variance(self):\n",
    "        vars = []\n",
    "        for column in self.df:\n",
    "            vars.append(round(self.df[column].var(ddof = 1), 2))\n",
    "        return vars\n",
    "\n",
    "\n",
    "    def stdev(self):\n",
    "        stdevs = []\n",
    "        for column in self.df:\n",
    "            stdevs.append(round(self.df[column].std(ddof = 1), 2))\n",
    "        return stdevs\n",
    "    \n",
    "\n",
    "    def col_sums(self):\n",
    "        sums = []\n",
    "        for column in self.df:\n",
    "            sums.append(self.df[column].sum())\n",
    "        return sums\n",
    "\n",
    "\n",
    "    def anova_g(self):\n",
    "        g = 0\n",
    "        for column in self.df:\n",
    "            g += self.df[column].sum()\n",
    "        return g\n",
    "    \n",
    "\n",
    "    def grand_sum_squared_scores(self): # for anova\n",
    "        sum_squared_scores = 0\n",
    "        for column in self.df: \n",
    "            score = (self.df[column].apply(lambda x: x ** 2)).sum()  \n",
    "            sum_squared_scores += score\n",
    "        return sum_squared_scores\n",
    "    \n",
    "\n",
    "    def critical_value(self):\n",
    "        # calculate the degrees of freedom based on the type of test used\n",
    "        if self.test == \"independent-samples t-test\":\n",
    "            degf = (self.n - 1) + (self.n - 1)\n",
    "            self.tails = random.choice([1, 2])\n",
    "            if self.tails == 1:\n",
    "                crit = round(stats.t.ppf(1 - self.alpha, degf), 2)\n",
    "            elif self.tails == 2:\n",
    "                crit = round(stats.t.ppf(1 - self.alpha/2, degf), 2)\n",
    "            self.crit_values = {\"positive\": crit, \"negative\": -crit, \"degf\": degf}\n",
    "\n",
    "        elif self.test == \"one-sample t-test\" or self.test == \"dependent-samples t-test\":\n",
    "            degf = self.n - 1\n",
    "            self.tails = random.choice([1, 2])\n",
    "            if self.tails == 1:\n",
    "                crit = round(stats.t.ppf(1 - self.alpha, degf), 2)\n",
    "            elif self.tails == 2:\n",
    "                crit = round(stats.t.ppf(1 - self.alpha/2, degf), 2)\n",
    "            self.crit_values = {\"positive\": crit, \"negative\": -crit, \"degf\": degf}\n",
    "\n",
    "        # TODO manually specify crit values for z scores.  or figure out why the math is incorrect\n",
    "        elif self.test == \"z\":\n",
    "            self.tails = random.choice([1, 2])\n",
    "            if self.tails == 1:\n",
    "                crit = round(stats.norm.ppf(1 - self.alpha), 2)\n",
    "            elif self.tails == 2:\n",
    "                crit = round(stats.norm.ppf(1 - self.alpha/2), 2)\n",
    "            self.crit_values = {\"positive\": crit, \"negative\": -crit}\n",
    "        \n",
    "        elif self.test == \"one-way ANOVA\":\n",
    "            degf_w = (self.n * self.groups) - self.groups\n",
    "            degf_b = self.groups - 1\n",
    "            self.tails = 1\n",
    "            crit = round(stats.f.ppf(q = (1 - self.alpha), dfn = degf_b, dfd = degf_w), 2)\n",
    "            self.crit_values = {\"positive\": crit, \"degf_w\": degf_w, \"degf_b\": degf_b}\n",
    "            \n",
    "        \n",
    "        else:\n",
    "            raise ValueError(\"incorrect test specification - degrees of freedom\")\n",
    "\n",
    "        # add a direction for one-tailed tests \n",
    "        if self.test in [\"one-way ANOVA\"]:\n",
    "            self.crit_values[\"direction\"] = \"increase\"\n",
    "        else:\n",
    "            if self.tails == 1:  \n",
    "                direction = random.choice([\"increase\", \"decrease\"])\n",
    "                self.crit_values[\"direction\"] = direction\n",
    "            else:\n",
    "                return ValueError(\"tails must be 1 for directional crit values\")\n",
    "        return self.crit_values\n",
    "\n",
    "\n",
    "    def z_test(self):\n",
    "        if len(self.df.columns) > 1:\n",
    "            raise Exception(\"Data contains more than one sample\")\n",
    "        elif len(self.df.columns) == 0:\n",
    "            raise Exception(\"Dataframe error: no data columns\")\n",
    "        else:\n",
    "            self.test = \"z\"\n",
    "\n",
    "            # set the null and write out the question\n",
    "            self.set_null_hypothesis()\n",
    "            self.critical_value()\n",
    "            self.generate_question()\n",
    "\n",
    "            # calculate the standard error\n",
    "            # TODO double check the work here to make sure it is accurate\n",
    "            sd = round(self.df['A'].std(ddof = 0), 2)\n",
    "            n = len(self.df['A'])\n",
    "            sem = round(sd/(round(math.sqrt(n),2)),2)\n",
    "            self.obt = round((self.means[0] - self.null) / sem, 2)\n",
    "            self.effect_size = round((self.means[0] - self.null) / sd, 2)\n",
    "\n",
    "            # TODO add a way to determine environment so output can display in terminal or notebook\n",
    "            # print calculations for the standard error\n",
    "            display(Markdown(\"Calculating the standard error...\"))\n",
    "            display(Markdown(f\"$\\\\sigma_M = \\\\frac{{\\\\sigma}}{{\\\\sqrt{{N}}}}$\"))\n",
    "            display(Markdown(f\"$\\\\sigma_M = \\\\frac{{{sd}}}{{\\\\sqrt{n}}}$\"))\n",
    "            display(Markdown(f\"$\\\\sigma_M = \\\\frac{{{sd}}}{{{round(math.sqrt(n),2)}}}$\"))\n",
    "            display(Markdown(f\"$\\\\sigma_M = {{{sem}}}$\"))\n",
    "            print() # blank space\n",
    "            # print the caluclations for z_obt\n",
    "            display(Markdown(\"calculating $z_{{obt}}$...\"))\n",
    "            display(Markdown(f\"$z_{{obt}} = {{\\\\frac{{M - \\\\mu}}{{\\\\sigma_M}}}}$\"))\n",
    "            display(Markdown(f\"$z_{{obt}} = \\\\frac{{{self.means[0]} - {self.null}}}{{{sem}}}$\"))\n",
    "            display(Markdown(f\"$z_{{obt}} = \\\\frac{{{self.means[0] - self.null}}}{{{sem}}}$\"))\n",
    "            display(Markdown(f\"$z_{{obt}} = {{{self.obt}}}$\"))\n",
    "            print() # blank space\n",
    "            # print calculations for cohen's d\n",
    "            display(Markdown(\"calculating Cohen's d...\"))\n",
    "            display(Markdown(\"Cohen's d = $\\\\frac{{M - \\\\mu}}{{\\\\sigma}}$\"))\n",
    "            display(Markdown(f\"Cohen's d = $\\\\frac{{{self.means[0]} - {self.null}}}{{{sd}}}$\"))\n",
    "            display(Markdown(f\"Cohen's d = $\\\\frac{{{self.means[0] - self.null}}}{{{sd}}}$\"))\n",
    "            display(Markdown(f\"Cohen's d = ${{{self.effect_size}}}$\"))\n",
    "            print() # blank space\n",
    "\n",
    "            self.significance = self.final_decision()\n",
    "            self.write_result()\n",
    "\n",
    "            # return self.obt - not returning b/c it was printing out the value of self.obt.  need to figure out why but commenting out fixed it\n",
    "\n",
    "\n",
    "    def one_sample_t_test(self):\n",
    "        if len(self.df.columns) > 1:\n",
    "            raise Exception(\"Data contains more than one sample\")\n",
    "        elif len(self.df.columns) == 0:\n",
    "            raise Exception(\"Dataframe error: no data columns\")\n",
    "        else:\n",
    "            self.test = \"one-sample t-test\"   \n",
    "            \n",
    "            # set the null and write out the question\n",
    "            self.set_null_hypothesis()\n",
    "            self.critical_value()\n",
    "            self.generate_question()\n",
    "\n",
    "            # calculate the standard error\n",
    "            sem = round(math.sqrt(round((self.var[0]/self.n),2)),2)\n",
    "            self.obt = round((self.means[0] - self.null) / sem, 2)\n",
    "            self.effect_size = round((self.means[0] - self.null) / self.std[0], 2)\n",
    "\n",
    "            # print the caluclations for the standard error\n",
    "            # TODO add a way to determine environment so output can display in terminal or notebook\n",
    "            print(\"calculating the standard error...\")\n",
    "            display(Markdown(\"$s_M = \\\\sqrt{{\\\\frac{{s^2}}{{n}}}}$\"))\n",
    "            display(Markdown(f\"$s_M = \\\\sqrt{{\\\\frac{{{self.var[0]}}}{{{self.n}}}}}$\"))\n",
    "            display(Markdown(f\"$s_M = \\\\sqrt{{{round((self.var[0]/self.n),2)}}}$\"))\n",
    "            display(Markdown(f\"$s_M = {{{sem}}}$\"))\n",
    "            print() # blank space\n",
    "            # print the caluclations for t_obt\n",
    "            display(Markdown(\"calculating $t_{{obt}}$...\"))\n",
    "            display(Markdown(f\"$t_{{obt}} = {{\\\\frac{{M - \\\\mu}}{{s_M}}}}$\"))\n",
    "            display(Markdown(f\"$t_{{obt}} = \\\\frac{{{self.means[0]} - {self.null}}}{{{sem}}}$\"))\n",
    "            display(Markdown(f\"$t_{{obt}} = \\\\frac{{{self.means[0] - self.null}}}{{{sem}}}$\"))\n",
    "            display(Markdown(f\"$t_{{obt}} = {{{self.obt}}}$\"))\n",
    "            print() # blank space\n",
    "            # print calculations for cohen's d\n",
    "            display(Markdown(\"calculating Cohen's d...\"))\n",
    "            display(Markdown(\"Cohen's d = $\\\\frac{{M - \\\\mu}}{{s}}$\"))\n",
    "            display(Markdown(f\"Cohen's d = $\\\\frac{{{self.means[0]} - {self.null}}}{{{self.std[0]}}}$\"))\n",
    "            display(Markdown(f\"Cohen's d = $\\\\frac{{{self.means[0] - self.null}}}{{{self.std[0]}}}$\"))\n",
    "            display(Markdown(f\"Cohen's d = ${{{self.effect_size}}}$\"))\n",
    "            print() # blank space\n",
    "\n",
    "            self.significance = self.final_decision()\n",
    "            self.write_result()\n",
    "\n",
    "            # return self.obt - not returning b/c it was printing out the value of self.obt.  need to figure out why but commenting out fixed it        \n",
    "\n",
    "\n",
    "    def independent_samples_t_test(self):\n",
    "        if len(self.df.columns) == 1 or len(self.df.columns) > 2:\n",
    "            raise ValueError(\"Data does not contain two samples\")\n",
    "        elif len(self.df.columns) == 0:\n",
    "            raise ValueError(\"Dataframe error: no data columns\")\n",
    "        else: \n",
    "            self.test = \"independent-samples t-test\"           \n",
    "                        \n",
    "            # set the null and write out the question\n",
    "            self.set_null_hypothesis()\n",
    "            self.critical_value()\n",
    "            self.generate_question()\n",
    "            \n",
    "            # primary calculations\n",
    "            pooled_var = round(((self.ss[0] + self.ss[1]) / ((self.n - 1) + (self.n - 1))), 2)\n",
    "            sem = round(math.sqrt((round((pooled_var/self.n),2))+(round((pooled_var/self.n),2))),2)\n",
    "            self.obt = round(((self.means[0] - self.means[1]) - self.null) / sem, 2)\n",
    "            self.effect_size = round(((self.means[0] - self.means[1])) / round(math.sqrt(pooled_var),2), 2)\n",
    "\n",
    "            # TODO adapt to display in the terminal or a notebook\n",
    "            # display the caluclations for the pooled variance\n",
    "            print(\"calculating the pooled variance...\")\n",
    "            display(Markdown(\"$s_p^2 = {{\\\\frac{{SS_A + SS_B}}{{df_A + df_B}}}}$\"))\n",
    "            display(Markdown(f\"$s_p^2 = {{\\\\frac{{{self.ss[0]} + {self.ss[1]}}}{{{self.n - 1} + {self.n - 1}}}}}$\"))\n",
    "            display(Markdown(f\"$s_p^2 = \\\\frac{{{round(self.ss[0] + self.ss[1],2)}}}{{{(self.n - 1) + (self.n - 1)}}}$\"))\n",
    "            display(Markdown(f\"$s_p^2 = {{{pooled_var}}}$\"))\n",
    "            # display the calculations for the estimated standard error\n",
    "            print(\"calculating the estimated standard error of the difference between means...\")\n",
    "            display(Markdown(\"$s_{{(M_A - M_B)}} = \\\\sqrt{{\\\\frac{{s_p^2}}{{n_1}} + \\\\frac{{s_p^2}}{{n_1}}}}$\"))\n",
    "            display(Markdown(f\"$s_{{(M_A - M_B)}} = \\\\sqrt{{\\\\frac{{{pooled_var}}}{{{self.n}}} + \\\\frac{{{pooled_var}}}{{{self.n}}}}}$\"))\n",
    "            display(Markdown(f\"$s_{{(M_A - M_B)}} = \\\\sqrt{{{round(pooled_var/self.n, 2)} + {round(pooled_var/self.n, 2)}}}$\"))\n",
    "            display(Markdown(f\"$s_{{(M_A - M_B)}} = \\\\sqrt{{{round(pooled_var/self.n, 2) + round(pooled_var/self.n, 2)}}}$\"))\n",
    "            display(Markdown(f\"$s_{{(M_A - M_B)}} = {{{sem}}}$\"))\n",
    "            # display the caluclations for t_obt\n",
    "            display(Markdown(\"calculating $t_{{obt}}$...\"))\n",
    "            display(Markdown(f\"$t_{{obt}} = {{\\\\frac{{(M_A - M_B) - (\\\\mu_A - \\\\mu_B)}}{{s_{{(M_A - M_B)}}}}}}$\"))\n",
    "            display(Markdown(f\"$t_{{obt}} = \\\\frac{{({self.means[0]} - {self.means[1]}) - {{{self.null}}}}}{{{sem}}}$\")) \n",
    "            display(Markdown(f\"$t_{{obt}} = \\\\frac{{{round(self.means[0] - self.means[1] - self.null, 2)}}}{{{sem}}}$\"))\n",
    "            display(Markdown(f\"$t_{{obt}} = {{{self.obt}}}$\"))\n",
    "            print() # blank space\n",
    "            # print calculations for cohen's d\n",
    "            display(Markdown(\"calculating Cohen's d...\"))\n",
    "            display(Markdown(\"Cohen's d = $\\\\frac{{M_A - M_B}}{{\\\\sqrt{{{s_p^2}}}}}$\"))\n",
    "            display(Markdown(f\"Cohen's d = $\\\\frac{{({self.means[0]} - {self.means[1]})}}{{{{{{\\\\sqrt{{{pooled_var}}}}}}}}}$\"))\n",
    "            display(Markdown(f\"Cohen's d = $\\\\frac{{({self.means[0] - self.means[1]})}}{{{round(math.sqrt(pooled_var),2)}}}$\"))\n",
    "            display(Markdown(f\"Cohen's d = ${{{self.effect_size}}}$\"))\n",
    "            print() # blank space\n",
    "\n",
    "            self.significance = self.final_decision()\n",
    "            self.write_result()\n",
    "\n",
    "            # return self.obt - not returning b/c it was printing out the value of self.obt.  need to figure out why but commenting out fixed it\n",
    "        \n",
    "\n",
    "    def dependent_samples_t_test(self):\n",
    "        if len(self.df.columns) == 1 or len(self.df.columns) > 2:\n",
    "            raise ValueError(\"Data does not contain two samples\")\n",
    "        elif len(self.df.columns) == 0:\n",
    "            raise ValueError(\"Dataframe error: no data columns\")\n",
    "        else:\n",
    "            self.test = \"dependent-samples t-test\"     \n",
    "            \n",
    "            # set the null and write out the question\n",
    "            self.set_null_hypothesis()\n",
    "            self.critical_value()\n",
    "            self.generate_question()\n",
    "\n",
    "            # primary calculations\n",
    "            # need to gather the difference scores\n",
    "            self.df['D'] = self.df['B'] - self.df['A']\n",
    "            \n",
    "            # print the dataframe with the difference scores\n",
    "            display(Markdown(\"Calculating the difference scores $D = X_B - X_A$\"))\n",
    "            print(self.df.to_string(index = False))\n",
    "            print() # blank space\n",
    "            # Calculate the Mean of the Difference Scores\n",
    "            sum_d = self.df['D'].sum()\n",
    "            n = len(self.df['D'])\n",
    "            mean_d = round(sum_d/n, 2)\n",
    "            display(Markdown(\"Calculating the Mean of the Difference Scores...\"))\n",
    "            display(Markdown(\"$M_D = \\\\frac{{\\\\Sigma D}}{{n}}$\"))\n",
    "            display(Markdown(f\"$M_D = \\\\frac{{{sum_d}}}{{{n}}}$\"))\n",
    "            display(Markdown(f\"$M_D = {{{mean_d}}}$\"))\n",
    "            print() # blank space\n",
    "            # calculate the SS for the difference scores\n",
    "            self.df['D^2'] = self.df['D'].apply(lambda x: x ** 2)\n",
    "            sum_sqared_scores = self.df['D^2'].sum()\n",
    "            ss = round(sum_sqared_scores - round((sum_d ** 2)/n, 2), 2)\n",
    "            # print the dataframe with the squared difference scores\n",
    "            display(Markdown(\"Calculating the sum of the squared deviations...\"))\n",
    "            print(self.df.to_string(index = False))\n",
    "            display(Markdown(\"$ SS_D = \\\\Sigma D^2 - \\\\frac{{(\\\\Sigma D)^2}}{{n}}$\"))\n",
    "            display(Markdown(f\"$ SS_D = {{{sum_sqared_scores}}} - \\\\frac{{{sum_d ** 2}}}{{{n}}}$\"))\n",
    "            display(Markdown(f\"$ SS_D = {{{sum_sqared_scores}}} - {{{round((sum_d ** 2)/n, 2)}}}$\"))\n",
    "            display(Markdown(f\"$ SS_D = {{{ss}}}$\"))\n",
    "            print() # blank space\n",
    "            # calculate the variance    \n",
    "            variance = round(ss / (n - 1), 2)\n",
    "            display(Markdown(\"$ s^2 = \\\\frac{{SS_D}}{{df}}$\")) \n",
    "            display(Markdown(f\"$ s^2 = \\\\frac{{{ss}}}{{{n - 1}}}$\"))   \n",
    "            display(Markdown(f\"$ s^2 = \\\\frac{{{round(ss/(n - 1), 2)}}}$\"))\n",
    "            display(Markdown(f\"$ s^2 = {{{variance}}}$\"))  \n",
    "            print() # blank space\n",
    "            # Calculate the estimated standard error\n",
    "            sem = round(math.sqrt(variance/n), 2)\n",
    "            display(Markdown(\"Calculating the estimated standard error...\"))\n",
    "            display(Markdown(\"$ s_{M_D} = \\\\sqrt{{\\\\frac{{s^2}}{{n}}}}$\"))\n",
    "            display(Markdown(f\"$ s_{{M_D}} = \\\\sqrt{{\\\\frac{{{variance}}}{{{n}}}}}$\"))\n",
    "            display(Markdown(f\"$ s_{{M_D}} = \\\\sqrt{{{round(variance/n, 2)}}}$\"))\n",
    "            display(Markdown(f\"$ s_{{M_D}} = {{{sem}}}$\"))\n",
    "            print() # blank space\n",
    "            # caclulate the t-statistic\n",
    "            self.obt = round((mean_d - self.null) / sem, 2)\n",
    "            display(Markdown(\"calculating $t_{{obt}}$...\"))\n",
    "            display(Markdown(\"$t_{{obt}} = {{\\\\frac{{M_D - \\\\mu_D}}{{s_{M_D}}}}}$\"))\n",
    "            display(Markdown(f\"$t_{{obt}} = \\\\frac{{{mean_d} - {self.null}}}{{{sem}}}$\"))\n",
    "            display(Markdown(f\"$t_{{obt}} = \\\\frac{{{mean_d - self.null}}}{{{sem}}}$\"))\n",
    "            display(Markdown(f\"$t_{{obt}} = {{{self.obt}}}$\"))\n",
    "            print() # blank space\n",
    "            # print calculations for cohen's d\n",
    "            self.effect_size = round(mean_d / round(math.sqrt(variance),2), 2)\n",
    "            display(Markdown(\"calculating Cohen's d...\"))\n",
    "            display(Markdown(\"Cohen's d = $\\\\frac{{M_D}}{{\\\\sqrt{{s^2}}}}$\"))\n",
    "            display(Markdown(f\"Cohen's d = $\\\\frac{{{mean_d}}}{{{{{{\\\\sqrt{{{variance}}}}}}}}}$\"))\n",
    "            display(Markdown(f\"Cohen's d = $\\\\frac{{{mean_d}}}{{{round(math.sqrt(variance),2)}}}$\"))\n",
    "            display(Markdown(f\"Cohen's d = ${{{self.effect_size}}}$\"))\n",
    "            print() # blank space\n",
    "\n",
    "            self.significance = self.final_decision()\n",
    "            self.write_result()\n",
    "\n",
    "            # return self.obt - not returning b/c it was printing out the value of self.obt.  need to figure out why but commenting out fixed it\n",
    "\n",
    "\n",
    "    def one_way_anova(self):\n",
    "        if len(self.df.columns) == 1:\n",
    "            raise ValueError(\"Data does not contain at least two samples\")\n",
    "        elif len(self.df.columns) == 0:\n",
    "            raise ValueError(\"Dataframe error: no data columns\")\n",
    "        else:\n",
    "            self.test = \"one-way ANOVA\"     \n",
    "\n",
    "            # set the null and write out the question\n",
    "            self.set_null_hypothesis()\n",
    "            self.critical_value()\n",
    "            self.generate_question()\n",
    "\n",
    "            # Primary Calculations\n",
    "            big_n = self.groups * self.n\n",
    "            \n",
    "            # degrees of freedom\n",
    "            df_total = big_n - 1\n",
    "            df_between = self.groups - 1\n",
    "            df_within = big_n - self.groups\n",
    "\n",
    "            print() # blank space\n",
    "            print(\"calculating the degrees of freedom...\")\n",
    "    \n",
    "            display(Markdown(f\"$df_{{total}} = N - 1$\"))\n",
    "            display(Markdown(f\"$df_{{total}} = {{{big_n}}} - 1$\"))\n",
    "            display(Markdown(f\"$df_{{total}} = {{{df_total}}}$\"))\n",
    "            print() # blank space\n",
    "\n",
    "            display(Markdown(f\"$df_{{between}} = k - 1 $\"))\n",
    "            display(Markdown(f\"$df_{{between}} = {{{self.groups}}} - 1 $\"))\n",
    "            display(Markdown(f\"$df_{{between}} = {{{df_between}}}$\"))\n",
    "            print() # blank space\n",
    "\n",
    "            display(Markdown(f\"$df_{{within}} = N - K $\"))\n",
    "            display(Markdown(f\"$df_{{within}} = {{{big_n}}} - {{{self.groups}}} $\"))\n",
    "            display(Markdown(f\"$df_{{within}} = {{{df_within}}}$\"))\n",
    "            print() # blank space\n",
    "\n",
    "            # sum of squares\n",
    "            ss_total = self.sum_squared_scores - round(((self.g**2)/big_n), 2)\n",
    "            ss_within = 0\n",
    "            for group in range(self.groups):\n",
    "                ss_within += self.ss[group]\n",
    "            ss_between = ss_total - ss_within\n",
    "\n",
    "            print(\"calulating the sum of squares...\")\n",
    "            display(Markdown(f\"$ SS_{{total}} = \\\\Sigma X^2 - \\\\frac{{G^2}}{{N}} $\"))\n",
    "            display(Markdown(f\"$ SS_{{total}} = {{{self.sum_squared_scores}}} - \\\\frac{{{self.g}^2}}{{{big_n}}} $\"))\n",
    "            display(Markdown(f\"$ SS_{{total}} = {{{self.sum_squared_scores}}} - \\\\frac{{{self.g**2}}}{{{big_n}}} $\"))\n",
    "            display(Markdown(f\"$ SS_{{total}} = {{{self.sum_squared_scores}}} - {{{round(((self.g**2)/big_n), 2)}}} $\"))\n",
    "            display(Markdown(f\"$ SS_{{total}} = {{{round(ss_total, 2)}}} $\"))\n",
    "            print() # blank space\n",
    "\n",
    "            display(Markdown(f\"$ SS_{{within}} = \\\\Sigma SS_{{inside\\\\_each\\\\_condition}} $\"))\n",
    "            values = \"\"\n",
    "            for group in range(self.groups):\n",
    "                if group == 0:\n",
    "                    values += f\"{self.ss[group]}\"\n",
    "                else:\n",
    "                    values += f\" + {self.ss[group]}\"\n",
    "            display(Markdown(f\"$ SS_{{within}} = {{{values}}}$\"))\n",
    "            display(Markdown(f\"$ SS_{{within}} = {{{round(ss_within, 2)}}}$\"))\n",
    "            print() # blank space\n",
    "\n",
    "            display(Markdown(f\"$ SS_{{between}} = SS_{{total}} - SS_{{within}} $\"))\n",
    "            display(Markdown(f\"$ SS_{{between}} = {{{round(ss_total, 2)}}} - {{{round(ss_within, 2)}}} $\"))\n",
    "            display(Markdown(f\"$ SS_{{between}} = {{{round(ss_between, 2)}}} $\"))\n",
    "            print() # blank space\n",
    "\n",
    "            display(Markdown(\"note: the other way to calculate $SS_{{betwen}}$ is:\"))\n",
    "            display(Markdown(\"$ SS_{{between}} = \\\\Sigma{{\\\\frac{{T^2}}{{n}}}} - \\\\frac{{G^2}}{{N}} $\"))\n",
    "            print() # blank space\n",
    "\n",
    "            # mean squares\n",
    "            ms_between = round(round(ss_between, 2)/df_between, 2)\n",
    "            ms_within = round(round(ss_within, 2)/df_within, 2)\n",
    "\n",
    "            print(\"calculating the mean squares...\")\n",
    "            display(Markdown(f\"$ MS_{{between}} = \\\\frac{{SS_{{between}}}}{{df_{{between}}}} $\"))\n",
    "            display(Markdown(f\"$ MS_{{between}} = \\\\frac{{{round(ss_between, 2)}}}{{{df_between}}} $\"))\n",
    "            display(Markdown(f\"$ MS_{{between}} = {{{round(ms_between, 2)}}} $\"))\n",
    "            print() # blank space\n",
    "\n",
    "            display(Markdown(f\"$ MS_{{within}} = \\\\frac{{SS_{{within}}}}{{df_{{within}}}} $\"))\n",
    "            display(Markdown(f\"$ MS_{{within}} = \\\\frac{{{round(ss_within, 2)}}}{{{df_within}}} $\"))\n",
    "            display(Markdown(f\"$ MS_{{within}} = {{{round(ms_within, 2)}}} $\"))\n",
    "            print() # blank space\n",
    "\n",
    "            # F obtained\n",
    "            self.obt = round(ms_between/ms_within, 2)\n",
    "\n",
    "            print(\"calculating the f ratio...\")\n",
    "            display(Markdown(f\"$ F_{{obt}} = \\\\frac{{MS_{{between}}}}{{MS_{{within}}}} $\"))\n",
    "            display(Markdown(f\"$ F_{{obt}} = \\\\frac{{{round(ms_between,2)}}}{{{round(ms_within,2)}}} $\"))\n",
    "            display(Markdown(f\"$ F_{{obt}} = {{{round(self.obt, 2)}}} $\"))\n",
    "            print() # blank space\n",
    "\n",
    "            # effect size\n",
    "            self.effect_size = round(round(ss_between, 2)/round(ss_total, 2), 2)\n",
    "            print(\"calculating eta squared...\")\n",
    "            display(Markdown(f\"$ \\\\eta^2 = \\\\frac{{SS{{between}}}}{{SS_{{total}}}} $\"))\n",
    "            display(Markdown(f\"$ \\\\eta^2 = \\\\frac{{{round(ss_between, 2)}}}{{{round(ss_total, 2)}}} $\"))\n",
    "            display(Markdown(f\"$ \\\\eta^2 = {{{round(self.effect_size, 2)}}} $\"))\n",
    "            print() # blank space\n",
    "\n",
    "            self.significance = self.final_decision()\n",
    "            self.write_result()\n",
    "            print() # blank space\n",
    "\n",
    "            # Tukeys HSD"
   ]
  },
  {
   "cell_type": "markdown",
   "id": "a6783bc5",
   "metadata": {},
   "source": [
    "# One-Way ANOVA\n",
    "\n",
    "conducting a one-way ANOVA.  Groups needs to be set to 2 or more.  The value for n can be any integer (whole number)"
   ]
  },
  {
   "cell_type": "code",
   "execution_count": 6,
   "id": "97ce14e4",
   "metadata": {},
   "outputs": [
    {
     "name": "stdout",
     "output_type": "stream",
     "text": [
      "    A   B    C   D\n",
      "0  69  16  103  48\n",
      "1  64  11   99  45\n",
      "2  65  17   85  41\n",
      "3  37  18   90  44\n",
      "4  88  16   91  50\n",
      "5  81  18   84  32\n",
      "6  77  15   88  26\n",
      "7  92  12  142  47\n",
      "8  84  15  117  48\n",
      "9  84  16   92  42\n"
     ]
    },
    {
     "data": {
      "text/markdown": [
       "Given the following between-subjects data, use a one-way ANOVA with $\\alpha = {0.05}$"
      ],
      "text/plain": [
       "<IPython.core.display.Markdown object>"
      ]
     },
     "metadata": {},
     "output_type": "display_data"
    },
    {
     "data": {
      "text/markdown": [
       "$G = {2309}, \\Sigma X^2 = {179237}, k = {4}, N = {40}$"
      ],
      "text/plain": [
       "<IPython.core.display.Markdown object>"
      ]
     },
     "metadata": {},
     "output_type": "display_data"
    },
    {
     "data": {
      "text/markdown": [
       "$T_{A} = {741}, SS_{A} = {2352.9}$"
      ],
      "text/plain": [
       "<IPython.core.display.Markdown object>"
      ]
     },
     "metadata": {},
     "output_type": "display_data"
    },
    {
     "data": {
      "text/markdown": [
       "$T_{B} = {154}, SS_{B} = {48.4}$"
      ],
      "text/plain": [
       "<IPython.core.display.Markdown object>"
      ]
     },
     "metadata": {},
     "output_type": "display_data"
    },
    {
     "data": {
      "text/markdown": [
       "$T_{C} = {991}, SS_{C} = {2924.9}$"
      ],
      "text/plain": [
       "<IPython.core.display.Markdown object>"
      ]
     },
     "metadata": {},
     "output_type": "display_data"
    },
    {
     "data": {
      "text/markdown": [
       "$T_{D} = {423}, SS_{D} = {530.1}$"
      ],
      "text/plain": [
       "<IPython.core.display.Markdown object>"
      ]
     },
     "metadata": {},
     "output_type": "display_data"
    },
    {
     "name": "stdout",
     "output_type": "stream",
     "text": [
      "\n",
      "calculating the degrees of freedom...\n"
     ]
    },
    {
     "data": {
      "text/markdown": [
       "$df_{total} = N - 1$"
      ],
      "text/plain": [
       "<IPython.core.display.Markdown object>"
      ]
     },
     "metadata": {},
     "output_type": "display_data"
    },
    {
     "data": {
      "text/markdown": [
       "$df_{total} = {40} - 1$"
      ],
      "text/plain": [
       "<IPython.core.display.Markdown object>"
      ]
     },
     "metadata": {},
     "output_type": "display_data"
    },
    {
     "data": {
      "text/markdown": [
       "$df_{total} = {39}$"
      ],
      "text/plain": [
       "<IPython.core.display.Markdown object>"
      ]
     },
     "metadata": {},
     "output_type": "display_data"
    },
    {
     "name": "stdout",
     "output_type": "stream",
     "text": [
      "\n"
     ]
    },
    {
     "data": {
      "text/markdown": [
       "$df_{between} = k - 1 $"
      ],
      "text/plain": [
       "<IPython.core.display.Markdown object>"
      ]
     },
     "metadata": {},
     "output_type": "display_data"
    },
    {
     "data": {
      "text/markdown": [
       "$df_{between} = {4} - 1 $"
      ],
      "text/plain": [
       "<IPython.core.display.Markdown object>"
      ]
     },
     "metadata": {},
     "output_type": "display_data"
    },
    {
     "data": {
      "text/markdown": [
       "$df_{between} = {3}$"
      ],
      "text/plain": [
       "<IPython.core.display.Markdown object>"
      ]
     },
     "metadata": {},
     "output_type": "display_data"
    },
    {
     "name": "stdout",
     "output_type": "stream",
     "text": [
      "\n"
     ]
    },
    {
     "data": {
      "text/markdown": [
       "$df_{within} = N - K $"
      ],
      "text/plain": [
       "<IPython.core.display.Markdown object>"
      ]
     },
     "metadata": {},
     "output_type": "display_data"
    },
    {
     "data": {
      "text/markdown": [
       "$df_{within} = {40} - {4} $"
      ],
      "text/plain": [
       "<IPython.core.display.Markdown object>"
      ]
     },
     "metadata": {},
     "output_type": "display_data"
    },
    {
     "data": {
      "text/markdown": [
       "$df_{within} = {36}$"
      ],
      "text/plain": [
       "<IPython.core.display.Markdown object>"
      ]
     },
     "metadata": {},
     "output_type": "display_data"
    },
    {
     "name": "stdout",
     "output_type": "stream",
     "text": [
      "\n",
      "calulating the sum of squares...\n"
     ]
    },
    {
     "data": {
      "text/markdown": [
       "$ SS_{total} = \\Sigma X^2 - \\frac{G^2}{N} $"
      ],
      "text/plain": [
       "<IPython.core.display.Markdown object>"
      ]
     },
     "metadata": {},
     "output_type": "display_data"
    },
    {
     "data": {
      "text/markdown": [
       "$ SS_{total} = {179237} - \\frac{2309^2}{40} $"
      ],
      "text/plain": [
       "<IPython.core.display.Markdown object>"
      ]
     },
     "metadata": {},
     "output_type": "display_data"
    },
    {
     "data": {
      "text/markdown": [
       "$ SS_{total} = {179237} - \\frac{5331481}{40} $"
      ],
      "text/plain": [
       "<IPython.core.display.Markdown object>"
      ]
     },
     "metadata": {},
     "output_type": "display_data"
    },
    {
     "data": {
      "text/markdown": [
       "$ SS_{total} = {179237} - {133287.02} $"
      ],
      "text/plain": [
       "<IPython.core.display.Markdown object>"
      ]
     },
     "metadata": {},
     "output_type": "display_data"
    },
    {
     "data": {
      "text/markdown": [
       "$ SS_{total} = {45949.98} $"
      ],
      "text/plain": [
       "<IPython.core.display.Markdown object>"
      ]
     },
     "metadata": {},
     "output_type": "display_data"
    },
    {
     "name": "stdout",
     "output_type": "stream",
     "text": [
      "\n"
     ]
    },
    {
     "data": {
      "text/markdown": [
       "$ SS_{within} = \\Sigma SS_{inside\\_each\\_condition} $"
      ],
      "text/plain": [
       "<IPython.core.display.Markdown object>"
      ]
     },
     "metadata": {},
     "output_type": "display_data"
    },
    {
     "data": {
      "text/markdown": [
       "$ SS_{within} = {2352.9 + 48.4 + 2924.9 + 530.1}$"
      ],
      "text/plain": [
       "<IPython.core.display.Markdown object>"
      ]
     },
     "metadata": {},
     "output_type": "display_data"
    },
    {
     "data": {
      "text/markdown": [
       "$ SS_{within} = {5856.3}$"
      ],
      "text/plain": [
       "<IPython.core.display.Markdown object>"
      ]
     },
     "metadata": {},
     "output_type": "display_data"
    },
    {
     "name": "stdout",
     "output_type": "stream",
     "text": [
      "\n"
     ]
    },
    {
     "data": {
      "text/markdown": [
       "$ SS_{between} = SS_{total} - SS_{within} $"
      ],
      "text/plain": [
       "<IPython.core.display.Markdown object>"
      ]
     },
     "metadata": {},
     "output_type": "display_data"
    },
    {
     "data": {
      "text/markdown": [
       "$ SS_{between} = {45949.98} - {5856.3} $"
      ],
      "text/plain": [
       "<IPython.core.display.Markdown object>"
      ]
     },
     "metadata": {},
     "output_type": "display_data"
    },
    {
     "data": {
      "text/markdown": [
       "$ SS_{between} = {40093.68} $"
      ],
      "text/plain": [
       "<IPython.core.display.Markdown object>"
      ]
     },
     "metadata": {},
     "output_type": "display_data"
    },
    {
     "name": "stdout",
     "output_type": "stream",
     "text": [
      "\n"
     ]
    },
    {
     "data": {
      "text/markdown": [
       "note: the other way to calculate $SS_{{betwen}}$ is:"
      ],
      "text/plain": [
       "<IPython.core.display.Markdown object>"
      ]
     },
     "metadata": {},
     "output_type": "display_data"
    },
    {
     "data": {
      "text/markdown": [
       "$ SS_{{between}} = \\Sigma{{\\frac{{T^2}}{{n}}}} - \\frac{{G^2}}{{N}} $"
      ],
      "text/plain": [
       "<IPython.core.display.Markdown object>"
      ]
     },
     "metadata": {},
     "output_type": "display_data"
    },
    {
     "name": "stdout",
     "output_type": "stream",
     "text": [
      "\n",
      "calculating the mean squares...\n"
     ]
    },
    {
     "data": {
      "text/markdown": [
       "$ MS_{between} = \\frac{SS_{between}}{df_{between}} $"
      ],
      "text/plain": [
       "<IPython.core.display.Markdown object>"
      ]
     },
     "metadata": {},
     "output_type": "display_data"
    },
    {
     "data": {
      "text/markdown": [
       "$ MS_{between} = \\frac{40093.68}{3} $"
      ],
      "text/plain": [
       "<IPython.core.display.Markdown object>"
      ]
     },
     "metadata": {},
     "output_type": "display_data"
    },
    {
     "data": {
      "text/markdown": [
       "$ MS_{between} = {13364.56} $"
      ],
      "text/plain": [
       "<IPython.core.display.Markdown object>"
      ]
     },
     "metadata": {},
     "output_type": "display_data"
    },
    {
     "name": "stdout",
     "output_type": "stream",
     "text": [
      "\n"
     ]
    },
    {
     "data": {
      "text/markdown": [
       "$ MS_{within} = \\frac{SS_{within}}{df_{within}} $"
      ],
      "text/plain": [
       "<IPython.core.display.Markdown object>"
      ]
     },
     "metadata": {},
     "output_type": "display_data"
    },
    {
     "data": {
      "text/markdown": [
       "$ MS_{within} = \\frac{5856.3}{36} $"
      ],
      "text/plain": [
       "<IPython.core.display.Markdown object>"
      ]
     },
     "metadata": {},
     "output_type": "display_data"
    },
    {
     "data": {
      "text/markdown": [
       "$ MS_{within} = {162.68} $"
      ],
      "text/plain": [
       "<IPython.core.display.Markdown object>"
      ]
     },
     "metadata": {},
     "output_type": "display_data"
    },
    {
     "name": "stdout",
     "output_type": "stream",
     "text": [
      "\n",
      "calculating the f ratio...\n"
     ]
    },
    {
     "data": {
      "text/markdown": [
       "$ F_{obt} = \\frac{MS_{between}}{MS_{within}} $"
      ],
      "text/plain": [
       "<IPython.core.display.Markdown object>"
      ]
     },
     "metadata": {},
     "output_type": "display_data"
    },
    {
     "data": {
      "text/markdown": [
       "$ F_{obt} = \\frac{13364.56}{162.68} $"
      ],
      "text/plain": [
       "<IPython.core.display.Markdown object>"
      ]
     },
     "metadata": {},
     "output_type": "display_data"
    },
    {
     "data": {
      "text/markdown": [
       "$ F_{obt} = {82.15} $"
      ],
      "text/plain": [
       "<IPython.core.display.Markdown object>"
      ]
     },
     "metadata": {},
     "output_type": "display_data"
    },
    {
     "name": "stdout",
     "output_type": "stream",
     "text": [
      "\n",
      "calculating eta squared...\n"
     ]
    },
    {
     "data": {
      "text/markdown": [
       "$ \\eta^2 = \\frac{SS{between}}{SS_{total}} $"
      ],
      "text/plain": [
       "<IPython.core.display.Markdown object>"
      ]
     },
     "metadata": {},
     "output_type": "display_data"
    },
    {
     "data": {
      "text/markdown": [
       "$ \\eta^2 = \\frac{40093.68}{45949.98} $"
      ],
      "text/plain": [
       "<IPython.core.display.Markdown object>"
      ]
     },
     "metadata": {},
     "output_type": "display_data"
    },
    {
     "data": {
      "text/markdown": [
       "$ \\eta^2 = {0.87} $"
      ],
      "text/plain": [
       "<IPython.core.display.Markdown object>"
      ]
     },
     "metadata": {},
     "output_type": "display_data"
    },
    {
     "name": "stdout",
     "output_type": "stream",
     "text": [
      "\n"
     ]
    },
    {
     "data": {
      "text/markdown": [
       "$F_{crit} = {2.87}, \\alpha = {0.05}$"
      ],
      "text/plain": [
       "<IPython.core.display.Markdown object>"
      ]
     },
     "metadata": {},
     "output_type": "display_data"
    },
    {
     "data": {
      "text/markdown": [
       "reject the null hypothesis, results are significant, $ F({3}, {36}), p < {0.05}, \\eta^2 = {0.87}$"
      ],
      "text/plain": [
       "<IPython.core.display.Markdown object>"
      ]
     },
     "metadata": {},
     "output_type": "display_data"
    },
    {
     "name": "stdout",
     "output_type": "stream",
     "text": [
      "\n"
     ]
    }
   ],
   "source": [
    "RandomData(groups = 4, n = 10).one_way_anova()"
   ]
  }
 ],
 "metadata": {
  "kernelspec": {
   "display_name": "base",
   "language": "python",
   "name": "python3"
  },
  "language_info": {
   "codemirror_mode": {
    "name": "ipython",
    "version": 3
   },
   "file_extension": ".py",
   "mimetype": "text/x-python",
   "name": "python",
   "nbconvert_exporter": "python",
   "pygments_lexer": "ipython3",
   "version": "3.12.7"
  }
 },
 "nbformat": 4,
 "nbformat_minor": 5
}
