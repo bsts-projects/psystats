{
 "cells": [
  {
   "cell_type": "markdown",
   "metadata": {},
   "source": [
    "# *z*-Scores and Probability\n",
    "\n",
    "To generate a new problem and solution, select \"*run all*\" from the __Runtime__ menu. "
   ]
  },
  {
   "cell_type": "markdown",
   "metadata": {},
   "source": [
    "The first block of code defines several functions for generating the practice problems below.  \n",
    "\n",
    "If you want to practice a specific problem type, you can simply run the smaller blocks below that correspond to that type of problem.  Note:  before doing this, you will need either select \"*run all*\" once or run the first code block (this is necessary load the functions so they can be called to generate problems in the lower blocks of code)."
   ]
  },
  {
   "cell_type": "code",
   "execution_count": 730,
   "metadata": {},
   "outputs": [],
   "source": [
    "# @title Click to hide code\n",
    "import numpy as np\n",
    "import random, math\n",
    "import matplotlib.pyplot as plt\n",
    "import scipy.stats as stats\n",
    "from IPython.display import Markdown, display\n",
    "import seaborn as sns\n",
    "\n",
    "# Function used within generate_score() to generate individual x values\n",
    "def generate_x(mean, sd):\n",
    "    # set the value for X to be used in the practice problem\n",
    "    score_multiplier = random.uniform(0, 3)\n",
    "    score_distance = round(sd * score_multiplier)\n",
    "    if random.random() < 0.5:\n",
    "        score = mean - score_distance\n",
    "    else:\n",
    "        score = mean + score_distance\n",
    "    return score\n",
    "\n",
    "\n",
    "# generates data for raw scores for use in creating the proportion based questions\n",
    "def generate_score():\n",
    "    mean = random.randint(5, 101)\n",
    "    sd = random.randint(1, 21)\n",
    "    # set the value for X1 to be used in the practice problem\n",
    "    score1 = generate_x(mean, sd)\n",
    "    score2 = generate_x(mean, sd)\n",
    "   \n",
    "    if score2 == score1:\n",
    "            while score2 == score1:\n",
    "                score2 = generate_x(mean, sd)\n",
    "        \n",
    "    return [mean, sd, score1, score2]\n",
    "\n",
    "\n",
    "# generates the question for hte first two types of problems - proportions based on z or raw scores\n",
    "def generate_question(qtype: str):\n",
    "    roll = random.randint(1,3)\n",
    "    if qtype == \"z\":\n",
    "        text = \"z-score\"\n",
    "        mean = 0\n",
    "        sd = 1\n",
    "        s1 = round(random.uniform(-3,3), 2)\n",
    "        s2 = round(random.uniform(1,4), 2)\n",
    "    elif qtype == \"x\":\n",
    "        text = \"raw score\"\n",
    "        scores = generate_score()\n",
    "        mean = scores[0]\n",
    "        sd = scores[1]\n",
    "        s1 = scores[2]\n",
    "        s2 = scores[3] \n",
    "     \n",
    "    values = [qtype, mean, sd, roll, s1]\n",
    "    if roll == 1:\n",
    "        question = f\"\"\"\n",
    "        What proportion of the normal distribution corresponds to {text} values\n",
    "        greater than {s1}\"\"\"\n",
    "    elif roll == 2: \n",
    "        question = f\"\"\"\n",
    "        What proportion of the normal distribution corresponds to {text} values\n",
    "        less than {s1}\"\"\"\n",
    "    else:\n",
    "        values.append(s2)\n",
    "        question = f\"\"\"\n",
    "        What proportion of the normal distribution corresponds to {text} values\n",
    "        between {s1} and {s2}?\"\"\"\n",
    "    \n",
    "    print(question)\n",
    "    return values\n",
    "    \n",
    "\n",
    "# creates the plot shading the region of interest\n",
    "def generate_plot(data: list): \n",
    "    ques = data[0]\n",
    "    mean = data[1]\n",
    "    sd = data[2]\n",
    "\n",
    "    # generate x values\n",
    "    x = np.linspace(mean - 4*sd, mean + 4*sd, 1000)\n",
    "\n",
    "    # generate y values\n",
    "    y = stats.norm.pdf(x, mean, sd)\n",
    "\n",
    "    plt.plot(x, y)\n",
    "    plt.title(f\"$\\\\mu$ = {mean}, $\\\\sigma$ = {sd}\")\n",
    "    \n",
    "    if ques == \"z\":\n",
    "        plt.xlabel('z')\n",
    "    else:\n",
    "        plt.xlabel('X')\n",
    "    plt.grid(False)\n",
    "    plt.yticks([])\n",
    "    \n",
    "    if data[3] == 1:\n",
    "         plt.fill_between(x, y, where=(x >= data[4]), color='skyblue', alpha=0.5)\n",
    "    elif data[3] == 2:\n",
    "         plt.fill_between(x, y, where=(x <= data[4]), color='skyblue', alpha=0.5)\n",
    "    else:\n",
    "        vals = sorted([data[4], data[5]])\n",
    "        plt.fill_between(x, y, where=(x >= vals[0]) & (x <= vals[1]), color='skyblue', alpha=0.5)\n",
    "      \n",
    "    plt.show()\n",
    "\n",
    "\n",
    "# displays the solution for the primary question - p(x/z > value) \n",
    "def problem_solution(qtype, data: list):\n",
    "    if qtype == \"x\":\n",
    "        if data[0] == 1:\n",
    "            answer = 1 - round(stats.norm.cdf(data[2]), 4)\n",
    "            text = f\"p({qtype} > {data[1]}) = {round(answer, 4)}\"\n",
    "        elif data[0] == 2:\n",
    "            answer = round(stats.norm.cdf(data[2]), 4)\n",
    "            text = f\"p({qtype} < {data[1]}) = {round(answer, 4)}\"\n",
    "        else:\n",
    "            zvals = sorted([data[3], data[4]])\n",
    "            xvals = sorted([data[1], data[2]])\n",
    "            answer = round(stats.norm.cdf(zvals[1]), 4) - round(stats.norm.cdf(zvals[0]), 4)\n",
    "            text = f\"p({xvals[0]} < {qtype} < {xvals[1]}) = {round(answer, 4)}\"\n",
    "    else:\n",
    "        if data[0] == 1:\n",
    "            answer = 1 - round(stats.norm.cdf(data[1]), 4)\n",
    "            text = f\"p({qtype} > {data[1]}) = {round(answer, 4)}\"\n",
    "        elif data[0] == 2:\n",
    "            answer = round(stats.norm.cdf(data[1]), 4)\n",
    "            text = f\"p({qtype} < {data[1]}) = {round(answer, 4)}\"\n",
    "        else:\n",
    "            zvals = sorted([data[1], data[2]])\n",
    "            answer = round(stats.norm.cdf(zvals[1]), 4) - round(stats.norm.cdf(zvals[0]), 4)\n",
    "            text = f\"p({zvals[0]} < {qtype} < {zvals[1]}) = {round(answer, 4)}\"\n",
    "    return text\n",
    "\n",
    "\n",
    "# this function prints the math and solutions for the first two types of questions - proportions based on z or raw scores\n",
    "def print_solution(qtype, data: list): # for questions using raw scores\n",
    "    mean = data[1] # the mean of the distribution\n",
    "    sd = data[2] # standard deviation of the distribution\n",
    "    num = data[3] # roll (1, 2, or 3) - designation for above (1), below (2), or between (3)\n",
    "    solution = [num] # a list to hold the z-scores used to calcualte the probabilities\n",
    "\n",
    "    if qtype == \"x\":\n",
    "        display(Markdown(f\"\"\"$ z = \\\\frac{{X - \\\\mu}}{{\\\\sigma}}$\"\"\"))\n",
    "        if num == 1 or num == 2:\n",
    "            x1 = data[4]\n",
    "            solution.append(x1)\n",
    "            display(Markdown(f\"\"\"$ z = \\\\frac{{{x1} - {mean}}}{{{sd}}}$\"\"\"))\n",
    "            display(Markdown(f\"\"\"$ z = \\\\frac{{{x1 - mean}}}{{{sd}}}$\"\"\"))\n",
    "            display(Markdown(f\"\"\"$ z = {{{round(((x1 - mean)/sd),2)}}}$\"\"\"))\n",
    "            z1 = round(((x1 - mean)/sd),2)\n",
    "            solution.append(z1)\n",
    "        else:\n",
    "            vals = sorted([data[4], data[5]])\n",
    "            x1 = vals[0]\n",
    "            solution.append(x1)\n",
    "            x2 = vals[1]\n",
    "            solution.append(x2)\n",
    "            display(Markdown(f\"\"\"$ z_1 = \\\\frac{{{x1} - {mean}}}{{{sd}}}$\"\"\"))\n",
    "            display(Markdown(f\"\"\"$ z_1 = \\\\frac{{{x1 - mean}}}{{{sd}}}$\"\"\"))\n",
    "            display(Markdown(f\"\"\"$ z_1 = {{{round(((x1 - mean)/sd),2)}}}$\"\"\"))\n",
    "            display(Markdown(f\"\"\"$ z_2 = \\\\frac{{{x2} - {mean}}}{{{sd}}}$\"\"\"))\n",
    "            display(Markdown(f\"\"\"$ z_2 = \\\\frac{{{x2 - mean}}}{{{sd}}}$\"\"\"))\n",
    "            display(Markdown(f\"\"\"$ z_2 = {{{round(((x2 - mean)/sd),2)}}}$\"\"\"))\n",
    "            z1 = round(((x1 - mean)/sd),2)\n",
    "            solution.append(z1)\n",
    "            z2 = round(((x2 - mean)/sd),2)\n",
    "            solution.append(z2)\n",
    "        print(problem_solution(\"x\", solution))\n",
    "    else:\n",
    "        if num == 1 or num == 2:\n",
    "            solution.append(data[4])\n",
    "        else:\n",
    "            vals = sorted([data[4], data[5]])\n",
    "            solution.append(vals[0])\n",
    "            solution.append(vals[1])\n",
    "        print(problem_solution(\"z\", solution))\n",
    "\n",
    "\n",
    "# This function generates a question asking about percentile ranks or the top x% of the distribution\n",
    "def p_rank_question():\n",
    "    \"\"\"\n",
    "    This function is currently limited in that it only generates two types problems \n",
    "    In the first you are asked to find the top X% of the distribution - using the tail of the distribution\n",
    "    In the second you are asked to find the score defining X percentile rank - using the body of the distribution \n",
    "    Needs to be updated to include values below the mean and to include ranges.\n",
    "    \"\"\"\n",
    "    roll = random.randint(1,2)\n",
    "  \n",
    "    # define the distribution\n",
    "    mean = random.randint(5, 101)\n",
    "    sd = random.randint(1, 21)\n",
    "\n",
    "    if roll == 1:\n",
    "        # top x% when x > 50%\n",
    "        prop = round(random.uniform(0.51,0.99), 2)\n",
    "        z_temp = round(stats.norm.ppf(prop), 4)\n",
    "        z = math.ceil(z_temp * 100)/100\n",
    "        display(Markdown(f\"\"\"what is the minimum score requried to be in the top {round(prop * 100)}%\n",
    "        for a distribution where $ \\\\mu = {{{mean}}}$ and $ \\\\sigma = {{{sd}}}$?\"\"\"))\n",
    "    elif roll == 2:\n",
    "        # percentile rank (above 50%)\n",
    "        prop = round(random.uniform(0.51,0.99), 2)\n",
    "        z_temp = round(stats.norm.ppf(prop), 4)\n",
    "        z = math.floor(z_temp * 100)/100\n",
    "        display(Markdown(f\"\"\"What score is at the {round(prop * 100)}th percentile\n",
    "                         for a distribution where $ \\\\mu = {{{mean}}}$ and $ \\\\sigma = {{{sd}}}$?\"\"\"))\n",
    "\n",
    "       \n",
    "    x = get_raw_score(mean, sd, z)\n",
    "    \n",
    "\n",
    "    return [\"rank\", mean, sd, roll, x]\n",
    "    \n",
    "\n",
    "# This function is used to display the math for calculating raw scores to go with the percentile rank questions\n",
    "def get_raw_score(mean, sd, z_score):\n",
    "    display(Markdown(f\"\"\"$ z = {{{z_score}}}$\"\"\"))\n",
    "    display(Markdown(f\"\"\"$ X = \\\\mu + z\\\\sigma$\"\"\"))\n",
    "    display(Markdown(f\"\"\"$ X = {{{mean}}} + {{{z_score}}}({{{sd}}})$\"\"\"))\n",
    "    display(Markdown(f\"\"\"$ X = {{{mean}}} + {{{round((z_score * sd),2)}}}$\"\"\"))\n",
    "    display(Markdown(f\"\"\"$ X = {{{round((mean + round((z_score * sd),2)),2)}}}$\"\"\"))     \n",
    "\n",
    "    return round((mean + round((z_score * sd),2)),2)\n"
   ]
  },
  {
   "cell_type": "markdown",
   "metadata": {},
   "source": [
    "## Finding proportions based on *z*-scores"
   ]
  },
  {
   "cell_type": "code",
   "execution_count": null,
   "metadata": {},
   "outputs": [
    {
     "name": "stdout",
     "output_type": "stream",
     "text": [
      "\n",
      "        What proportion of the normal distribution corresponds to z-score values\n",
      "        less than 1.02\n"
     ]
    },
    {
     "data": {
      "image/png": "[encoded data removed]",
      "text/plain": [
       "<Figure size 640x480 with 1 Axes>"
      ]
     },
     "metadata": {},
     "output_type": "display_data"
    },
    {
     "name": "stdout",
     "output_type": "stream",
     "text": [
      "p(z < 1.02) = 0.8461\n"
     ]
    }
   ],
   "source": [
    "# @title Click to hide code\n",
    "question = generate_question(\"z\")   \n",
    "generate_plot(question)\n",
    "print_solution(\"z\", question)"
   ]
  },
  {
   "cell_type": "markdown",
   "metadata": {},
   "source": [
    "## Finding proportions based on raw scores"
   ]
  },
  {
   "cell_type": "code",
   "execution_count": 732,
   "metadata": {},
   "outputs": [
    {
     "name": "stdout",
     "output_type": "stream",
     "text": [
      "\n",
      "        What proportion of the normal distribution corresponds to raw score values\n",
      "        between 11 and 12?\n"
     ]
    },
    {
     "data": {
      "image/png": "[encoded data removed]",
      "text/plain": [
       "<Figure size 640x480 with 1 Axes>"
      ]
     },
     "metadata": {},
     "output_type": "display_data"
    },
    {
     "data": {
      "text/markdown": [
       "$ z = \\frac{X - \\mu}{\\sigma}$"
      ],
      "text/plain": [
       "<IPython.core.display.Markdown object>"
      ]
     },
     "metadata": {},
     "output_type": "display_data"
    },
    {
     "data": {
      "text/markdown": [
       "$ z_1 = \\frac{11 - 13}{2}$"
      ],
      "text/plain": [
       "<IPython.core.display.Markdown object>"
      ]
     },
     "metadata": {},
     "output_type": "display_data"
    },
    {
     "data": {
      "text/markdown": [
       "$ z_1 = \\frac{-2}{2}$"
      ],
      "text/plain": [
       "<IPython.core.display.Markdown object>"
      ]
     },
     "metadata": {},
     "output_type": "display_data"
    },
    {
     "data": {
      "text/markdown": [
       "$ z_1 = {-1.0}$"
      ],
      "text/plain": [
       "<IPython.core.display.Markdown object>"
      ]
     },
     "metadata": {},
     "output_type": "display_data"
    },
    {
     "data": {
      "text/markdown": [
       "$ z_2 = \\frac{12 - 13}{2}$"
      ],
      "text/plain": [
       "<IPython.core.display.Markdown object>"
      ]
     },
     "metadata": {},
     "output_type": "display_data"
    },
    {
     "data": {
      "text/markdown": [
       "$ z_2 = \\frac{-1}{2}$"
      ],
      "text/plain": [
       "<IPython.core.display.Markdown object>"
      ]
     },
     "metadata": {},
     "output_type": "display_data"
    },
    {
     "data": {
      "text/markdown": [
       "$ z_2 = {-0.5}$"
      ],
      "text/plain": [
       "<IPython.core.display.Markdown object>"
      ]
     },
     "metadata": {},
     "output_type": "display_data"
    },
    {
     "name": "stdout",
     "output_type": "stream",
     "text": [
      "p(11 < x < 12) = 0.1498\n"
     ]
    }
   ],
   "source": [
    "# @title Click to hide code\n",
    "question = generate_question(\"x\")   \n",
    "generate_plot(question)\n",
    "print_solution(\"x\", question)"
   ]
  },
  {
   "cell_type": "markdown",
   "metadata": {},
   "source": [
    "# finding scores that correspond to specific proportions of the normal distribution"
   ]
  },
  {
   "cell_type": "code",
   "execution_count": 733,
   "metadata": {},
   "outputs": [
    {
     "data": {
      "text/markdown": [
       "What score is at the 87th percentile\n",
       "                         for a distribution where $ \\mu = {79}$ and $ \\sigma = {2}$?"
      ],
      "text/plain": [
       "<IPython.core.display.Markdown object>"
      ]
     },
     "metadata": {},
     "output_type": "display_data"
    },
    {
     "data": {
      "text/markdown": [
       "$ z = {1.12}$"
      ],
      "text/plain": [
       "<IPython.core.display.Markdown object>"
      ]
     },
     "metadata": {},
     "output_type": "display_data"
    },
    {
     "data": {
      "text/markdown": [
       "$ X = \\mu + z\\sigma$"
      ],
      "text/plain": [
       "<IPython.core.display.Markdown object>"
      ]
     },
     "metadata": {},
     "output_type": "display_data"
    },
    {
     "data": {
      "text/markdown": [
       "$ X = {79} + {1.12}({2})$"
      ],
      "text/plain": [
       "<IPython.core.display.Markdown object>"
      ]
     },
     "metadata": {},
     "output_type": "display_data"
    },
    {
     "data": {
      "text/markdown": [
       "$ X = {79} + {2.24}$"
      ],
      "text/plain": [
       "<IPython.core.display.Markdown object>"
      ]
     },
     "metadata": {},
     "output_type": "display_data"
    },
    {
     "data": {
      "text/markdown": [
       "$ X = {81.24}$"
      ],
      "text/plain": [
       "<IPython.core.display.Markdown object>"
      ]
     },
     "metadata": {},
     "output_type": "display_data"
    },
    {
     "data": {
      "image/png": "[encoded data removed]",
      "text/plain": [
       "<Figure size 640x480 with 1 Axes>"
      ]
     },
     "metadata": {},
     "output_type": "display_data"
    }
   ],
   "source": [
    "# @title Click to hide code\n",
    "rank_answer = p_rank_question()\n",
    "generate_plot(rank_answer)"
   ]
  }
 ],
 "metadata": {
  "kernelspec": {
   "display_name": "base",
   "language": "python",
   "name": "python3"
  },
  "language_info": {
   "codemirror_mode": {
    "name": "ipython",
    "version": 3
   },
   "file_extension": ".py",
   "mimetype": "text/x-python",
   "name": "python",
   "nbconvert_exporter": "python",
   "pygments_lexer": "ipython3",
   "version": "3.12.7"
  }
 },
 "nbformat": 4,
 "nbformat_minor": 2
}
