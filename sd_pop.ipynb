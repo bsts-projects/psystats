{
 "cells": [
  {
   "cell_type": "markdown",
   "metadata": {},
   "source": [
    "# Standard Deviation (Population) Practice Problems\n",
    "\n",
    "To generate a new problem and solution, select \"*run all*\" from the __Runtime__ menu."
   ]
  },
  {
   "cell_type": "code",
   "execution_count": 50,
   "metadata": {},
   "outputs": [],
   "source": [
    "# @title Click to hide code\n",
    "import numpy as np\n",
    "import pandas as pd\n",
    "import random\n",
    "from IPython.display import Markdown, display\n",
    "import math\n",
    "\n",
    "# set the values for generating the sample dataset\n",
    "mean = random.sample(range(5, 16), 1)\n",
    "std_dev = random.sample(range(1, 9), 1)\n",
    "sample_size = random.sample(range(4, 9), 1)\n",
    "\n",
    "# generate the sample based on the above values\n",
    "samples = np.random.normal(mean, std_dev, sample_size)\n",
    "\n",
    "# round the data so it only includes whole numbers\n",
    "sample = np.round(samples).astype(int)\n",
    "\n",
    "# convert to a dataframe to display the data\n",
    "df = pd.DataFrame(sample, columns=['X'])\n",
    "\n",
    "# function for calculating the standard deviation.\n",
    "def standard_deviation(data: list):\n",
    "    sum_x = sum(map(lambda x: x, data))\n",
    "    sum_squared_x = sum(map(lambda x: x ** 2, data))\n",
    "    sum_x_squared = sum_x ** 2\n",
    "    n = len(data)\n",
    "    \n",
    "    ss = sum_squared_x - round(sum_x_squared/n, 2)\n",
    "\n",
    "    variance = round(ss, 2) / n\n",
    "\n",
    "    sd = round(math.sqrt(variance), 2)\n",
    "    \n",
    "    # return a list of values for each step in the calculation, rounded to 2 decimal places\n",
    "    return [sum_squared_x, sum_x_squared, n, round(ss, 2), round(variance, 2), round(sd, 2)]\n",
    "\n",
    "\n",
    "def display_SS_calculations(vals: list):\n",
    "    print(\"formula for the sum of squared deviations:\")\n",
    "    display(Markdown(f\"\"\"$ SS = \\\\Sigma x^2 - \\\\frac{{(\\\\Sigma x)^2}}{{N}}$\"\"\"))\n",
    "    print(\"values necessary to solve the equation:\")\n",
    "    display(Markdown(f\"\"\"$\\\\Sigma x^2 = {{{vals[0]}}}$\"\"\"))\n",
    "    display(Markdown(f\"\"\"$(\\\\Sigma x)^2 = {{{vals[1]}}}$\"\"\"))\n",
    "    display(Markdown(f\"\"\"$N = {{{vals[2]}}}$\"\"\"))\n",
    "    print(\"solve for SS:\")\n",
    "    display(Markdown(f\"\"\"$SS = {{{vals[0]}}} - \\\\frac{{{vals[1]}}}{{{vals[2]}}}$\"\"\"))\n",
    "    display(Markdown(f\"\"\"$SS = {{{vals[0]}}} - {{{round(vals[1]/vals[2], 2)}}}$\"\"\"))\n",
    "    display(Markdown(f\"\"\"$SS = {{{vals[3]}}}$\"\"\"))\n",
    "\n",
    "\n",
    "def display_var_calculations(vals: list):\n",
    "    print(\"formula for the population variance:\")\n",
    "    display(Markdown(f\"\"\"$\\\\sigma^2 = \\\\frac{{SS}}{{N}}$\"\"\"))\n",
    "    print(\"values necessary to solve equation:\")\n",
    "    display(Markdown(f\"\"\"$SS = {{{vals[3]}}}$\"\"\"))\n",
    "    display(Markdown(f\"\"\"$N = {{{vals[2]}}}$\"\"\"))\n",
    "    display(Markdown(f\"solve for $\\\\sigma^2:$\"))\n",
    "    display(Markdown(f\"\"\"$\\\\sigma^2 = \\\\frac{{{vals[3]}}}{{{vals[2]}}}$\"\"\"))\n",
    "    display(Markdown(f\"\"\"$\\\\sigma^2 = {{{vals[4]}}}$\"\"\"))\n",
    "\n",
    "\n",
    "def display_sd_calculations(vals: list):\n",
    "    print(\"formula for the population standard deviation:\")\n",
    "    display(Markdown(f\"\"\"$\\\\sigma = \\\\sqrt{{\\\\sigma^2}}$\"\"\"))\n",
    "    print(\"values necessary to solve equation:\")\n",
    "    display(Markdown(f\"\"\"$\\\\sigma^2 = {{{vals[4]}}}$\"\"\"))\n",
    "    display(Markdown(f\"solve for $s$:\"))\n",
    "    display(Markdown(f\"\"\"$\\\\sigma = \\\\sqrt{{{values[4]}}}$\"\"\"))\n",
    "    display(Markdown(f\"\"\"$\\\\sigma = {{{values[5]}}}$\"\"\"))\n",
    "\n",
    "\n",
    "values = standard_deviation(sample)"
   ]
  },
  {
   "cell_type": "code",
   "execution_count": 51,
   "metadata": {},
   "outputs": [
    {
     "name": "stdout",
     "output_type": "stream",
     "text": [
      " X\n",
      " 7\n",
      "21\n",
      "16\n",
      " 2\n",
      "22\n",
      " 7\n"
     ]
    }
   ],
   "source": [
    "print(df.to_string(index=False))"
   ]
  },
  {
   "cell_type": "code",
   "execution_count": 52,
   "metadata": {},
   "outputs": [
    {
     "name": "stdout",
     "output_type": "stream",
     "text": [
      " X  X^2\n",
      " 7   49\n",
      "21  441\n",
      "16  256\n",
      " 2    4\n",
      "22  484\n",
      " 7   49\n"
     ]
    }
   ],
   "source": [
    "df['X^2'] = df['X'] ** 2\n",
    "print(df.to_string(index=False))"
   ]
  },
  {
   "cell_type": "markdown",
   "metadata": {},
   "source": [
    "## Calculate the SS (sum of the squared deviations)"
   ]
  },
  {
   "cell_type": "code",
   "execution_count": 53,
   "metadata": {},
   "outputs": [
    {
     "name": "stdout",
     "output_type": "stream",
     "text": [
      "formula for the sum of squared deviations:\n"
     ]
    },
    {
     "data": {
      "text/markdown": [
       "$ SS = \\Sigma x^2 - \\frac{(\\Sigma x)^2}{N}$"
      ],
      "text/plain": [
       "<IPython.core.display.Markdown object>"
      ]
     },
     "metadata": {},
     "output_type": "display_data"
    },
    {
     "name": "stdout",
     "output_type": "stream",
     "text": [
      "values necessary to solve the equation:\n"
     ]
    },
    {
     "data": {
      "text/markdown": [
       "$\\Sigma x^2 = {1283}$"
      ],
      "text/plain": [
       "<IPython.core.display.Markdown object>"
      ]
     },
     "metadata": {},
     "output_type": "display_data"
    },
    {
     "data": {
      "text/markdown": [
       "$(\\Sigma x)^2 = {5625}$"
      ],
      "text/plain": [
       "<IPython.core.display.Markdown object>"
      ]
     },
     "metadata": {},
     "output_type": "display_data"
    },
    {
     "data": {
      "text/markdown": [
       "$N = {6}$"
      ],
      "text/plain": [
       "<IPython.core.display.Markdown object>"
      ]
     },
     "metadata": {},
     "output_type": "display_data"
    },
    {
     "name": "stdout",
     "output_type": "stream",
     "text": [
      "solve for SS:\n"
     ]
    },
    {
     "data": {
      "text/markdown": [
       "$SS = {1283} - \\frac{5625}{6}$"
      ],
      "text/plain": [
       "<IPython.core.display.Markdown object>"
      ]
     },
     "metadata": {},
     "output_type": "display_data"
    },
    {
     "data": {
      "text/markdown": [
       "$SS = {1283} - {937.5}$"
      ],
      "text/plain": [
       "<IPython.core.display.Markdown object>"
      ]
     },
     "metadata": {},
     "output_type": "display_data"
    },
    {
     "data": {
      "text/markdown": [
       "$SS = {345.5}$"
      ],
      "text/plain": [
       "<IPython.core.display.Markdown object>"
      ]
     },
     "metadata": {},
     "output_type": "display_data"
    }
   ],
   "source": [
    "display_SS_calculations(values)"
   ]
  },
  {
   "cell_type": "markdown",
   "metadata": {},
   "source": [
    "## Calculate the Variance"
   ]
  },
  {
   "cell_type": "code",
   "execution_count": 54,
   "metadata": {},
   "outputs": [
    {
     "name": "stdout",
     "output_type": "stream",
     "text": [
      "formula for the population variance:\n"
     ]
    },
    {
     "data": {
      "text/markdown": [
       "$\\sigma^2 = \\frac{SS}{N}$"
      ],
      "text/plain": [
       "<IPython.core.display.Markdown object>"
      ]
     },
     "metadata": {},
     "output_type": "display_data"
    },
    {
     "name": "stdout",
     "output_type": "stream",
     "text": [
      "values necessary to solve equation:\n"
     ]
    },
    {
     "data": {
      "text/markdown": [
       "$SS = {345.5}$"
      ],
      "text/plain": [
       "<IPython.core.display.Markdown object>"
      ]
     },
     "metadata": {},
     "output_type": "display_data"
    },
    {
     "data": {
      "text/markdown": [
       "$N = {6}$"
      ],
      "text/plain": [
       "<IPython.core.display.Markdown object>"
      ]
     },
     "metadata": {},
     "output_type": "display_data"
    },
    {
     "data": {
      "text/markdown": [
       "solve for $\\sigma^2:$"
      ],
      "text/plain": [
       "<IPython.core.display.Markdown object>"
      ]
     },
     "metadata": {},
     "output_type": "display_data"
    },
    {
     "data": {
      "text/markdown": [
       "$\\sigma^2 = \\frac{345.5}{6}$"
      ],
      "text/plain": [
       "<IPython.core.display.Markdown object>"
      ]
     },
     "metadata": {},
     "output_type": "display_data"
    },
    {
     "data": {
      "text/markdown": [
       "$\\sigma^2 = {57.58}$"
      ],
      "text/plain": [
       "<IPython.core.display.Markdown object>"
      ]
     },
     "metadata": {},
     "output_type": "display_data"
    }
   ],
   "source": [
    "display_var_calculations(values)"
   ]
  },
  {
   "cell_type": "markdown",
   "metadata": {},
   "source": [
    "## Calculate the Standard Deviation"
   ]
  },
  {
   "cell_type": "code",
   "execution_count": 55,
   "metadata": {},
   "outputs": [
    {
     "name": "stdout",
     "output_type": "stream",
     "text": [
      "formula for the population standard deviation:\n"
     ]
    },
    {
     "data": {
      "text/markdown": [
       "$\\sigma = \\sqrt{\\sigma^2}$"
      ],
      "text/plain": [
       "<IPython.core.display.Markdown object>"
      ]
     },
     "metadata": {},
     "output_type": "display_data"
    },
    {
     "name": "stdout",
     "output_type": "stream",
     "text": [
      "values necessary to solve equation:\n"
     ]
    },
    {
     "data": {
      "text/markdown": [
       "$\\sigma^2 = {57.58}$"
      ],
      "text/plain": [
       "<IPython.core.display.Markdown object>"
      ]
     },
     "metadata": {},
     "output_type": "display_data"
    },
    {
     "data": {
      "text/markdown": [
       "solve for $s$:"
      ],
      "text/plain": [
       "<IPython.core.display.Markdown object>"
      ]
     },
     "metadata": {},
     "output_type": "display_data"
    },
    {
     "data": {
      "text/markdown": [
       "$\\sigma = \\sqrt{57.58}$"
      ],
      "text/plain": [
       "<IPython.core.display.Markdown object>"
      ]
     },
     "metadata": {},
     "output_type": "display_data"
    },
    {
     "data": {
      "text/markdown": [
       "$\\sigma = {7.59}$"
      ],
      "text/plain": [
       "<IPython.core.display.Markdown object>"
      ]
     },
     "metadata": {},
     "output_type": "display_data"
    }
   ],
   "source": [
    "display_sd_calculations(values)"
   ]
  }
 ],
 "metadata": {
  "kernelspec": {
   "display_name": "base",
   "language": "python",
   "name": "python3"
  },
  "language_info": {
   "codemirror_mode": {
    "name": "ipython",
    "version": 3
   },
   "file_extension": ".py",
   "mimetype": "text/x-python",
   "name": "python",
   "nbconvert_exporter": "python",
   "pygments_lexer": "ipython3",
   "version": "3.12.7"
  }
 },
 "nbformat": 4,
 "nbformat_minor": 2
}
